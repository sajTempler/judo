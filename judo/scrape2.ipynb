{
 "cells": [
  {
   "cell_type": "code",
   "execution_count": 1,
   "metadata": {
    "collapsed": true
   },
   "outputs": [],
   "source": [
    "from selenium.webdriver.common.keys import Keys\n",
    "import pandas as pd\n",
    "import time\n",
    "import pandas as pd\n",
    "import re\n",
    "\n",
    "from lib import SQLiteConnection\n",
    "from lib import get_info_video_judobase\n",
    "from lib import load_chromedriver"
   ]
  },
  {
   "cell_type": "markdown",
   "metadata": {},
   "source": [
    "### Battles Competidor Obtener"
   ]
  },
  {
   "cell_type": "code",
   "execution_count": 2,
   "metadata": {
    "collapsed": true
   },
   "outputs": [],
   "source": [
    "driver = load_chromedriver(en_casa=False)"
   ]
  },
  {
   "cell_type": "code",
   "execution_count": 3,
   "metadata": {
    "collapsed": true
   },
   "outputs": [],
   "source": [
    "conn = SQLiteConnection('../judo.sql')"
   ]
  },
  {
   "cell_type": "code",
   "execution_count": 4,
   "metadata": {
    "collapsed": true
   },
   "outputs": [],
   "source": [
    "competitors = conn.as_pandas('select * from competitors where category=\"men_66\"', index_col='index', parse_dates=['last_extraction'])"
   ]
  },
  {
   "cell_type": "code",
   "execution_count": 9,
   "metadata": {
    "collapsed": true
   },
   "outputs": [],
   "source": [
    "s='''\n",
    "1\t\tSHMAILOV Baruch\t (ISR)\t1. seed (4. place wrl)\tprofile\n",
    "2\t\tFLICKER Tal\t (ISR)\t2. seed (5. place wrl)\tprofile\n",
    "3\t\tAKHADOV Shakhram\t (UZB)\t3. seed (22. place wrl)\tprofile\n",
    "4\t\tSHERSHAN Dzmitry\t (BLR)\t4. seed (26. place wrl)\tprofile\n",
    "5\t\tNURILLAEV Sardor\t (UZB)\t5. seed (27. place wrl)\tprofile\n",
    "6\t\tGAITERO MARTIN Alberto\t (ESP)\t6. seed (29. place wrl)\tprofile\n",
    "7\t\tVAN GANSBEKE Kenneth\t (BEL)\t7. seed (31. place wrl)\tprofile\n",
    "8\t\tCRISOSTOMO Joao\t (POR)\t8. seed (33. place wrl)\tprofile\n",
    "9\t\tSOARES Andre\t (POR)\t\tprofile\n",
    "10\t\tSANTOS Diego\t (BRA)\t\tprofile\n",
    "11\t\tKATZ Nathan\t (AUS)\t\tprofile\n",
    "12\t\tSAYWELL Jeremy\t (MLT)\t\tprofile\n",
    "13\t\tBUNESCU Vadim\t (MDA)\t\tprofile\n",
    "14\t\tIADOV Bogdan\t (UKR)\t\tprofile\n",
    "15\t\tSAFAROV Orkhan\t (AZE)\t\tprofile\n",
    "16\t\tPOLIAK Matej\t (SVK)\t\tprofile\n",
    "17\t\tMOGOPA Gavin\t (BOT)\t\tprofile\n",
    "18\t\tBOUCHER Mathias\t (FRA)\t\tprofile\n",
    "19\t\tCHANDLER Cole\t (USA)\t\tprofile\n",
    "20\t\tTEMELKOV Bozhidar\t (BUL)\t\tprofile\n",
    "21\t\tCHASYGOV Ismail\t (RUS)\t\tprofile\n",
    "22\t\tSPIKERMANN Tomas\t (ARG)\t\tprofile\n",
    "23\t\tKHAMETOV Islam\t (RUS)\t\tprofile\n",
    "24\t\tLOMBARDO Manuel\t (ITA)\t\tprofile\n",
    "25\t\tMEDVES Matteo\t (ITA)\t\tprofile\n",
    "26\t\tALIYEV Ibrahim\t (AZE)\t\tprofile\n",
    "27\t\tVAN HARTEN Matthijs\t (NED)\t\tprofile\n",
    "28\t\tKOSSEKOV Muhammet\t (TKM)\t\tprofile\n",
    "29\t\tMENAGED Yarin\t (ISR)\t\tprofile\n",
    "30\t\tFOCA Nicolae\t (MDA)\t\tprofile\n",
    "31\t\tGARCIA TORNE David\t (ESP)\t\tprofile\n",
    "32\t\tDANTE Amir\t (ISR)\t\tprofile\n",
    "33\t\tVALOIS Jacob\t (CAN)\t\tprofile\n",
    "34\t\tTURSUNALIEV Ruslan\t (KGZ)\t\tprofile\n",
    "'''"
   ]
  },
  {
   "cell_type": "code",
   "execution_count": 5,
   "metadata": {
    "collapsed": true
   },
   "outputs": [],
   "source": [
    "s = '''1\t\tCOHEN Gili\t (ISR)\t1. seed (11. place wrl)\tprofile\n",
    "2\t\tDELGADO Angelica\t (USA)\t2. seed (12. place wrl)\tprofile\n",
    "3\t\tKELMENDI Majlinda\t (KOS)\t3. seed (15. place wrl)\tprofile\n",
    "4\t\tPRIMO Gefen\t (ISR)\t4. seed (18. place wrl)\tprofile\n",
    "5\t\tGILES Chelsie\t (GBR)\t5. seed (19. place wrl)\tprofile\n",
    "6\t\tBABAMURATOVA Gulbadam\t (TKM)\t6. seed (29. place wrl)\tprofile\n",
    "7\t\tEASTON Tinka\t (AUS)\t7. seed (30. place wrl)\tprofile\n",
    "8\t\tLOPEZ SHERIFF Estrella\t (ESP)\t8. seed (33. place wrl)\tprofile\n",
    "9\t\tCHITU Andreea\t (ROU)\t\tprofile\n",
    "10\t\tKOCHER Fabienne\t (SUI)\t\tprofile\n",
    "11\t\tKUZNETSOVA Alesya\t (RUS)\t\tprofile\n",
    "12\t\tZIYAEVA Gulnoza\t (UZB)\t\tprofile\n",
    "13\t\tBOBRIKOVA Daria\t (RUS)\t\tprofile\n",
    "14\t\tJANASHVILI Mariam\t (GEO)\t\tprofile\n",
    "15\t\tCESAR Taciana\t (GBS)\t\tprofile\n",
    "16\t\tFOFANA Salimata\t (CIV)\t\tprofile\n",
    "17\t\tKAKKO Katri\t (FIN)\t\tprofile\n",
    "18\t\tKELDIYOROVA Diyora\t (UZB)\t\tprofile\n",
    "19\t\tHOGREFE ACEA Sofia\t (ESP)\t\tprofile\n",
    "20\t\tCASTAGNOLA Martina\t (ITA)\t\tprofile\n",
    "21\t\tMAMMADALIYEVA Gultaj\t (AZE)\t\tprofile\n",
    "22\t\tPIMENTA Larissa\t (BRA)\t\tprofile\n",
    "23\t\tKAFRI Paz\t (ISR)\t\tprofile\n",
    "24\t\tMOKDAR Faiza\t (FRA)\t\tprofile\n",
    "25\t\tPUREVSUREN Buyankhishig\t (AZE)\t\tprofile\n",
    "26\t\tLEVYTSKA-SHUKVANI Tetiana\n",
    "'''"
   ]
  },
  {
   "cell_type": "code",
   "execution_count": 10,
   "metadata": {
    "collapsed": true
   },
   "outputs": [],
   "source": [
    "comps = []"
   ]
  },
  {
   "cell_type": "code",
   "execution_count": 11,
   "metadata": {},
   "outputs": [
    {
     "name": "stdout",
     "output_type": "stream",
     "text": [
      "\n",
      "\n"
     ]
    }
   ],
   "source": [
    "for line in s.split('\\n'):\n",
    "    try:\n",
    "        comps.append(line.split('\\t')[2])\n",
    "    except:\n",
    "        print(line)"
   ]
  },
  {
   "cell_type": "code",
   "execution_count": 12,
   "metadata": {},
   "outputs": [
    {
     "data": {
      "text/plain": [
       "['SHMAILOV Baruch',\n",
       " 'FLICKER Tal',\n",
       " 'AKHADOV Shakhram',\n",
       " 'SHERSHAN Dzmitry',\n",
       " 'NURILLAEV Sardor']"
      ]
     },
     "execution_count": 12,
     "metadata": {},
     "output_type": "execute_result"
    }
   ],
   "source": [
    "comps[:5]"
   ]
  },
  {
   "cell_type": "code",
   "execution_count": 13,
   "metadata": {
    "collapsed": true
   },
   "outputs": [],
   "source": [
    "i=0"
   ]
  },
  {
   "cell_type": "code",
   "execution_count": 11,
   "metadata": {},
   "outputs": [
    {
     "data": {
      "text/plain": [
       "9"
      ]
     },
     "execution_count": 11,
     "metadata": {},
     "output_type": "execute_result"
    }
   ],
   "source": [
    "i = comps.index('KOCHER Fabienne')\n",
    "i"
   ]
  },
  {
   "cell_type": "code",
   "execution_count": 15,
   "metadata": {},
   "outputs": [
    {
     "name": "stdout",
     "output_type": "stream",
     "text": [
      "SHMAILOV Baruch\n",
      "FLICKER Tal\n",
      "AKHADOV Shakhram\n",
      "SHERSHAN Dzmitry\n",
      "NURILLAEV Sardor\n",
      "GAITERO MARTIN Alberto\n"
     ]
    },
    {
     "ename": "KeyboardInterrupt",
     "evalue": "",
     "output_type": "error",
     "traceback": [
      "\u001b[1;31m---------------------------------------------------------------------------\u001b[0m",
      "\u001b[1;31mKeyboardInterrupt\u001b[0m                         Traceback (most recent call last)",
      "\u001b[1;32m<ipython-input-15-74a43d9eb991>\u001b[0m in \u001b[0;36m<module>\u001b[1;34m()\u001b[0m\n\u001b[0;32m     11\u001b[0m             \u001b[1;32mcontinue\u001b[0m\u001b[1;33m\u001b[0m\u001b[0m\n\u001b[0;32m     12\u001b[0m         \u001b[1;32melse\u001b[0m\u001b[1;33m:\u001b[0m\u001b[1;33m\u001b[0m\u001b[0m\n\u001b[1;32m---> 13\u001b[1;33m             \u001b[0mactions_battle\u001b[0m \u001b[1;33m=\u001b[0m \u001b[0mget_info_video_judobase\u001b[0m\u001b[1;33m(\u001b[0m\u001b[0mbattle\u001b[0m\u001b[1;33m.\u001b[0m\u001b[0mlocal\u001b[0m\u001b[1;33m,\u001b[0m \u001b[0mdriver\u001b[0m\u001b[1;33m,\u001b[0m \u001b[0mbattle\u001b[0m\u001b[1;33m.\u001b[0m\u001b[0murl_video\u001b[0m\u001b[1;33m)\u001b[0m\u001b[1;33m\u001b[0m\u001b[0m\n\u001b[0m\u001b[0;32m     14\u001b[0m             \u001b[0mactions_battle\u001b[0m \u001b[1;33m=\u001b[0m \u001b[1;33m(\u001b[0m\u001b[0ma\u001b[0m \u001b[1;33m+\u001b[0m \u001b[1;33m(\u001b[0m\u001b[0mbattle\u001b[0m\u001b[1;33m.\u001b[0m\u001b[0mevent\u001b[0m\u001b[1;33m,\u001b[0m\u001b[1;33m)\u001b[0m \u001b[1;32mfor\u001b[0m \u001b[0ma\u001b[0m \u001b[1;32min\u001b[0m \u001b[0mactions_battle\u001b[0m\u001b[1;33m)\u001b[0m\u001b[1;33m\u001b[0m\u001b[0m\n\u001b[0;32m     15\u001b[0m             \u001b[0mall_actions\u001b[0m\u001b[1;33m.\u001b[0m\u001b[0mextend\u001b[0m\u001b[1;33m(\u001b[0m\u001b[0mactions_battle\u001b[0m\u001b[1;33m)\u001b[0m\u001b[1;33m\u001b[0m\u001b[0m\n",
      "\u001b[1;32m~\\Documents\\judo\\judo\\lib.py\u001b[0m in \u001b[0;36mget_info_video_judobase\u001b[1;34m(competitor_name, driver, url_video)\u001b[0m\n\u001b[0;32m    474\u001b[0m \u001b[1;33m\u001b[0m\u001b[0m\n\u001b[0;32m    475\u001b[0m     \u001b[1;32mtry\u001b[0m\u001b[1;33m:\u001b[0m\u001b[1;33m\u001b[0m\u001b[0m\n\u001b[1;32m--> 476\u001b[1;33m         \u001b[0mtime\u001b[0m\u001b[1;33m.\u001b[0m\u001b[0msleep\u001b[0m\u001b[1;33m(\u001b[0m\u001b[1;36m1\u001b[0m\u001b[1;33m)\u001b[0m\u001b[1;33m\u001b[0m\u001b[0m\n\u001b[0m\u001b[0;32m    477\u001b[0m         \u001b[1;31m# extract names\u001b[0m\u001b[1;33m\u001b[0m\u001b[1;33m\u001b[0m\u001b[0m\n\u001b[0;32m    478\u001b[0m         \u001b[0mlocal\u001b[0m\u001b[1;33m,\u001b[0m \u001b[0mopponent\u001b[0m \u001b[1;33m=\u001b[0m \u001b[0mmap\u001b[0m\u001b[1;33m(\u001b[0m\u001b[1;32mlambda\u001b[0m \u001b[0mx\u001b[0m\u001b[1;33m:\u001b[0m \u001b[0mx\u001b[0m\u001b[1;33m.\u001b[0m\u001b[0mtext\u001b[0m\u001b[1;33m,\u001b[0m \u001b[0mdriver\u001b[0m\u001b[1;33m.\u001b[0m\u001b[0mfind_elements_by_class_name\u001b[0m\u001b[1;33m(\u001b[0m\u001b[1;34m'col-xs-6'\u001b[0m\u001b[1;33m)\u001b[0m\u001b[1;33m)\u001b[0m\u001b[1;33m\u001b[0m\u001b[0m\n",
      "\u001b[1;31mKeyboardInterrupt\u001b[0m: "
     ]
    }
   ],
   "source": [
    "for nombre in comps[i:]:\n",
    "    print(nombre)\n",
    "\n",
    "    battles_comp = conn.as_pandas(f'select * from battles where local==\"{nombre}\"', parse_dates=['date'], \n",
    "                              index_col='index').reset_index(drop=True).sort_values('date', ascending=False)\n",
    "\n",
    "    all_actions = []\n",
    "\n",
    "    for battle in battles_comp.itertuples():\n",
    "        if battle.url_video is None:\n",
    "            continue\n",
    "        else:\n",
    "            actions_battle = get_info_video_judobase(battle.local, driver, battle.url_video)\n",
    "            actions_battle = (a + (battle.event,) for a in actions_battle)\n",
    "            all_actions.extend(actions_battle)\n",
    "\n",
    "    df = pd.DataFrame(all_actions, columns=('opponent', 'you', 'action', 'action_detail', 'time', 'url_youtube', 'event'))\n",
    "\n",
    "    df['local'] = nombre\n",
    "    cols_order = [df.columns[-1]] + list(df.columns[:-1])\n",
    "    df = df[cols_order]\n",
    "\n",
    "\n",
    "    conn.add_table('actions', df, if_exists='append', index=False)\n",
    "\n",
    "#    print('error con ', nombre)"
   ]
  },
  {
   "cell_type": "code",
   "execution_count": null,
   "metadata": {
    "collapsed": true
   },
   "outputs": [],
   "source": []
  },
  {
   "cell_type": "code",
   "execution_count": null,
   "metadata": {
    "collapsed": true
   },
   "outputs": [],
   "source": []
  },
  {
   "cell_type": "code",
   "execution_count": null,
   "metadata": {
    "collapsed": true
   },
   "outputs": [],
   "source": []
  },
  {
   "cell_type": "code",
   "execution_count": null,
   "metadata": {
    "collapsed": true
   },
   "outputs": [],
   "source": []
  },
  {
   "cell_type": "code",
   "execution_count": 44,
   "metadata": {},
   "outputs": [
    {
     "data": {
      "text/plain": [
       "array(['COHEN Gili', 'LOPEZ SHERIFF Estrella', 'GAITERO MARTIN Alberto'],\n",
       "      dtype=object)"
      ]
     },
     "execution_count": 44,
     "metadata": {},
     "output_type": "execute_result"
    }
   ],
   "source": [
    "conn.as_pandas('select * from actions').local.unique()"
   ]
  },
  {
   "cell_type": "markdown",
   "metadata": {},
   "source": [
    "# Más"
   ]
  },
  {
   "cell_type": "code",
   "execution_count": 10,
   "metadata": {
    "collapsed": true
   },
   "outputs": [],
   "source": [
    "videos_estre = conn.as_pandas('select * from videos_info where local like \"%SHERIFF%\"')"
   ]
  },
  {
   "cell_type": "code",
   "execution_count": 11,
   "metadata": {},
   "outputs": [
    {
     "data": {
      "text/html": [
       "<div>\n",
       "<style scoped>\n",
       "    .dataframe tbody tr th:only-of-type {\n",
       "        vertical-align: middle;\n",
       "    }\n",
       "\n",
       "    .dataframe tbody tr th {\n",
       "        vertical-align: top;\n",
       "    }\n",
       "\n",
       "    .dataframe thead th {\n",
       "        text-align: right;\n",
       "    }\n",
       "</style>\n",
       "<table border=\"1\" class=\"dataframe\">\n",
       "  <thead>\n",
       "    <tr style=\"text-align: right;\">\n",
       "      <th></th>\n",
       "      <th>url_video</th>\n",
       "      <th>url_youtube</th>\n",
       "      <th>local</th>\n",
       "      <th>opponent</th>\n",
       "    </tr>\n",
       "  </thead>\n",
       "  <tbody>\n",
       "    <tr>\n",
       "      <th>0</th>\n",
       "      <td>https://judobase.ijf.org/#/competition/contest...</td>\n",
       "      <td>https://www.youtube.com/watch?v=8b7mZQsTmK0</td>\n",
       "      <td>LOPEZ SHERIFF Estrella</td>\n",
       "      <td>PARK Da Sol</td>\n",
       "    </tr>\n",
       "    <tr>\n",
       "      <th>1</th>\n",
       "      <td>https://judobase.ijf.org/#/competition/contest...</td>\n",
       "      <td>https://www.youtube.com/watch?v=HdqymnSiloc</td>\n",
       "      <td>LOPEZ SHERIFF Estrella</td>\n",
       "      <td>JIMENEZ Kristine</td>\n",
       "    </tr>\n",
       "    <tr>\n",
       "      <th>2</th>\n",
       "      <td>https://judobase.ijf.org/#/competition/contest...</td>\n",
       "      <td>https://www.youtube.com/watch?v=JgPOEHOJ2jo</td>\n",
       "      <td>LOPEZ SHERIFF Estrella</td>\n",
       "      <td>GNETO Astride</td>\n",
       "    </tr>\n",
       "    <tr>\n",
       "      <th>3</th>\n",
       "      <td>https://judobase.ijf.org/#/competition/contest...</td>\n",
       "      <td>https://www.youtube.com/watch?v=xpd4OZFzESk</td>\n",
       "      <td>LOPEZ SHERIFF Estrella</td>\n",
       "      <td>TSCHOPP Evelyne</td>\n",
       "    </tr>\n",
       "    <tr>\n",
       "      <th>4</th>\n",
       "      <td>https://judobase.ijf.org/#/competition/contest...</td>\n",
       "      <td>https://www.youtube.com/watch?v=FJmiFvoi8Ro</td>\n",
       "      <td>LOPEZ SHERIFF Estrella</td>\n",
       "      <td>JIMENEZ Kristine</td>\n",
       "    </tr>\n",
       "    <tr>\n",
       "      <th>5</th>\n",
       "      <td>https://judobase.ijf.org/#/competition/contest...</td>\n",
       "      <td>https://www.youtube.com/watch?v=RfaQdGW0NwY</td>\n",
       "      <td>LOPEZ SHERIFF Estrella</td>\n",
       "      <td>KOSE Mai</td>\n",
       "    </tr>\n",
       "    <tr>\n",
       "      <th>6</th>\n",
       "      <td>https://judobase.ijf.org/#/competition/contest...</td>\n",
       "      <td>https://www.youtube.com/watch?v=U00rk9umAkY</td>\n",
       "      <td>LOPEZ SHERIFF Estrella</td>\n",
       "      <td>KRASNIQI Distria</td>\n",
       "    </tr>\n",
       "    <tr>\n",
       "      <th>7</th>\n",
       "      <td>https://judobase.ijf.org/#/competition/contest...</td>\n",
       "      <td>https://www.youtube.com/watch?v=kLIefZ6V2L4</td>\n",
       "      <td>LOPEZ SHERIFF Estrella</td>\n",
       "      <td>KUTSENKO Aigul</td>\n",
       "    </tr>\n",
       "    <tr>\n",
       "      <th>8</th>\n",
       "      <td>https://judobase.ijf.org/#/competition/contest...</td>\n",
       "      <td>https://www.youtube.com/watch?v=WSa7eH5Vv9U</td>\n",
       "      <td>LOPEZ SHERIFF Estrella</td>\n",
       "      <td>THUMM Verena</td>\n",
       "    </tr>\n",
       "    <tr>\n",
       "      <th>9</th>\n",
       "      <td>https://judobase.ijf.org/#/competition/contest...</td>\n",
       "      <td>https://www.youtube.com/watch?v=hJaATsCUcwM</td>\n",
       "      <td>LOPEZ SHERIFF Estrella</td>\n",
       "      <td>BEZALEL Ariel</td>\n",
       "    </tr>\n",
       "    <tr>\n",
       "      <th>10</th>\n",
       "      <td>https://judobase.ijf.org/#/competition/contest...</td>\n",
       "      <td>https://www.youtube.com/watch?v=-2P8x2Qr6F4</td>\n",
       "      <td>LOPEZ SHERIFF Estrella</td>\n",
       "      <td>SOUKATE Ikram</td>\n",
       "    </tr>\n",
       "    <tr>\n",
       "      <th>11</th>\n",
       "      <td>https://judobase.ijf.org/#/competition/contest...</td>\n",
       "      <td>https://www.youtube.com/watch?v=D3BvcuSLpo8</td>\n",
       "      <td>LOPEZ SHERIFF Estrella</td>\n",
       "      <td>SOUKATE Ikram</td>\n",
       "    </tr>\n",
       "    <tr>\n",
       "      <th>12</th>\n",
       "      <td>https://judobase.ijf.org/#/competition/contest...</td>\n",
       "      <td>https://www.youtube.com/watch?v=g-y3AHtt_gs</td>\n",
       "      <td>LOPEZ SHERIFF Estrella</td>\n",
       "      <td>LEGENTIL Christianne</td>\n",
       "    </tr>\n",
       "  </tbody>\n",
       "</table>\n",
       "</div>"
      ],
      "text/plain": [
       "                                            url_video  \\\n",
       "0   https://judobase.ijf.org/#/competition/contest...   \n",
       "1   https://judobase.ijf.org/#/competition/contest...   \n",
       "2   https://judobase.ijf.org/#/competition/contest...   \n",
       "3   https://judobase.ijf.org/#/competition/contest...   \n",
       "4   https://judobase.ijf.org/#/competition/contest...   \n",
       "5   https://judobase.ijf.org/#/competition/contest...   \n",
       "6   https://judobase.ijf.org/#/competition/contest...   \n",
       "7   https://judobase.ijf.org/#/competition/contest...   \n",
       "8   https://judobase.ijf.org/#/competition/contest...   \n",
       "9   https://judobase.ijf.org/#/competition/contest...   \n",
       "10  https://judobase.ijf.org/#/competition/contest...   \n",
       "11  https://judobase.ijf.org/#/competition/contest...   \n",
       "12  https://judobase.ijf.org/#/competition/contest...   \n",
       "\n",
       "                                    url_youtube                   local  \\\n",
       "0   https://www.youtube.com/watch?v=8b7mZQsTmK0  LOPEZ SHERIFF Estrella   \n",
       "1   https://www.youtube.com/watch?v=HdqymnSiloc  LOPEZ SHERIFF Estrella   \n",
       "2   https://www.youtube.com/watch?v=JgPOEHOJ2jo  LOPEZ SHERIFF Estrella   \n",
       "3   https://www.youtube.com/watch?v=xpd4OZFzESk  LOPEZ SHERIFF Estrella   \n",
       "4   https://www.youtube.com/watch?v=FJmiFvoi8Ro  LOPEZ SHERIFF Estrella   \n",
       "5   https://www.youtube.com/watch?v=RfaQdGW0NwY  LOPEZ SHERIFF Estrella   \n",
       "6   https://www.youtube.com/watch?v=U00rk9umAkY  LOPEZ SHERIFF Estrella   \n",
       "7   https://www.youtube.com/watch?v=kLIefZ6V2L4  LOPEZ SHERIFF Estrella   \n",
       "8   https://www.youtube.com/watch?v=WSa7eH5Vv9U  LOPEZ SHERIFF Estrella   \n",
       "9   https://www.youtube.com/watch?v=hJaATsCUcwM  LOPEZ SHERIFF Estrella   \n",
       "10  https://www.youtube.com/watch?v=-2P8x2Qr6F4  LOPEZ SHERIFF Estrella   \n",
       "11  https://www.youtube.com/watch?v=D3BvcuSLpo8  LOPEZ SHERIFF Estrella   \n",
       "12  https://www.youtube.com/watch?v=g-y3AHtt_gs  LOPEZ SHERIFF Estrella   \n",
       "\n",
       "                opponent  \n",
       "0            PARK Da Sol  \n",
       "1       JIMENEZ Kristine  \n",
       "2          GNETO Astride  \n",
       "3        TSCHOPP Evelyne  \n",
       "4       JIMENEZ Kristine  \n",
       "5               KOSE Mai  \n",
       "6       KRASNIQI Distria  \n",
       "7         KUTSENKO Aigul  \n",
       "8           THUMM Verena  \n",
       "9          BEZALEL Ariel  \n",
       "10         SOUKATE Ikram  \n",
       "11         SOUKATE Ikram  \n",
       "12  LEGENTIL Christianne  "
      ]
     },
     "execution_count": 11,
     "metadata": {},
     "output_type": "execute_result"
    }
   ],
   "source": [
    "videos_estre"
   ]
  },
  {
   "cell_type": "markdown",
   "metadata": {},
   "source": [
    "### Filter and extract some videos"
   ]
  },
  {
   "cell_type": "markdown",
   "metadata": {},
   "source": [
    "problema: cuando falla uno salta una pestaña y jode el resto..."
   ]
  },
  {
   "cell_type": "code",
   "execution_count": 8,
   "metadata": {
    "collapsed": true
   },
   "outputs": [],
   "source": [
    "some_videos = all_battles[all_battles.local=='WADA Rinoko'].url_video\n",
    "\n",
    "for i, url_video in enumerate(some_videos):\n",
    "    if i % 20 == -1:\n",
    "        print(i)\n",
    "    \n",
    "    if url_video is None:\n",
    "        continue\n",
    "    # else\n",
    "    \n",
    "    try:\n",
    "        local, opponent, url_youtube = get_info_video_judobase(driver, url_video)\n",
    "    except:\n",
    "        local, opponent, url_youtube = ('error',) * 3\n",
    "        \n",
    "    # assert 'https://www.youtube.com/watch?' in url_youtube, f'Strange url_youtube: {url_youtube}'\n",
    "\n",
    "    conn.query(\n",
    "        f'''\n",
    "        INSERT OR IGNORE INTO videos_info \n",
    "        (url_video, url_youtube, local, opponent) \n",
    "        VALUES\n",
    "        (\"{url_video+'bb'}\", \"{url_youtube}\", \"{local}\", \"{opponent}\");\n",
    "        '''\n",
    "    )"
   ]
  },
  {
   "cell_type": "code",
   "execution_count": 11,
   "metadata": {},
   "outputs": [
    {
     "data": {
      "text/html": [
       "<div>\n",
       "<style scoped>\n",
       "    .dataframe tbody tr th:only-of-type {\n",
       "        vertical-align: middle;\n",
       "    }\n",
       "\n",
       "    .dataframe tbody tr th {\n",
       "        vertical-align: top;\n",
       "    }\n",
       "\n",
       "    .dataframe thead th {\n",
       "        text-align: right;\n",
       "    }\n",
       "</style>\n",
       "<table border=\"1\" class=\"dataframe\">\n",
       "  <thead>\n",
       "    <tr style=\"text-align: right;\">\n",
       "      <th></th>\n",
       "      <th>url_video</th>\n",
       "      <th>url_youtube</th>\n",
       "      <th>local</th>\n",
       "      <th>opponent</th>\n",
       "    </tr>\n",
       "  </thead>\n",
       "  <tbody>\n",
       "    <tr>\n",
       "      <th>0</th>\n",
       "      <td>https://judobase.ijf.org/#/competition/contest...</td>\n",
       "      <td>https://www.youtube.com/watch?v=8b7mZQsTmK0</td>\n",
       "      <td>LOPEZ SHERIFF Estrella</td>\n",
       "      <td>PARK Da Sol</td>\n",
       "    </tr>\n",
       "    <tr>\n",
       "      <th>1</th>\n",
       "      <td>https://judobase.ijf.org/#/competition/contest...</td>\n",
       "      <td>https://www.youtube.com/watch?v=HdqymnSiloc</td>\n",
       "      <td>LOPEZ SHERIFF Estrella</td>\n",
       "      <td>JIMENEZ Kristine</td>\n",
       "    </tr>\n",
       "    <tr>\n",
       "      <th>2</th>\n",
       "      <td>https://judobase.ijf.org/#/competition/contest...</td>\n",
       "      <td>https://www.youtube.com/watch?v=JgPOEHOJ2jo</td>\n",
       "      <td>LOPEZ SHERIFF Estrella</td>\n",
       "      <td>GNETO Astride</td>\n",
       "    </tr>\n",
       "    <tr>\n",
       "      <th>3</th>\n",
       "      <td>https://judobase.ijf.org/#/competition/contest...</td>\n",
       "      <td>https://www.youtube.com/watch?v=xpd4OZFzESk</td>\n",
       "      <td>LOPEZ SHERIFF Estrella</td>\n",
       "      <td>TSCHOPP Evelyne</td>\n",
       "    </tr>\n",
       "    <tr>\n",
       "      <th>4</th>\n",
       "      <td>https://judobase.ijf.org/#/competition/contest...</td>\n",
       "      <td>https://www.youtube.com/watch?v=FJmiFvoi8Ro</td>\n",
       "      <td>LOPEZ SHERIFF Estrella</td>\n",
       "      <td>JIMENEZ Kristine</td>\n",
       "    </tr>\n",
       "    <tr>\n",
       "      <th>5</th>\n",
       "      <td>https://judobase.ijf.org/#/competition/contest...</td>\n",
       "      <td>https://www.youtube.com/watch?v=RfaQdGW0NwY</td>\n",
       "      <td>LOPEZ SHERIFF Estrella</td>\n",
       "      <td>KOSE Mai</td>\n",
       "    </tr>\n",
       "    <tr>\n",
       "      <th>6</th>\n",
       "      <td>https://judobase.ijf.org/#/competition/contest...</td>\n",
       "      <td>https://www.youtube.com/watch?v=U00rk9umAkY</td>\n",
       "      <td>LOPEZ SHERIFF Estrella</td>\n",
       "      <td>KRASNIQI Distria</td>\n",
       "    </tr>\n",
       "    <tr>\n",
       "      <th>7</th>\n",
       "      <td>https://judobase.ijf.org/#/competition/contest...</td>\n",
       "      <td>https://www.youtube.com/watch?v=kLIefZ6V2L4</td>\n",
       "      <td>LOPEZ SHERIFF Estrella</td>\n",
       "      <td>KUTSENKO Aigul</td>\n",
       "    </tr>\n",
       "    <tr>\n",
       "      <th>8</th>\n",
       "      <td>https://judobase.ijf.org/#/competition/contest...</td>\n",
       "      <td>https://www.youtube.com/watch?v=WSa7eH5Vv9U</td>\n",
       "      <td>LOPEZ SHERIFF Estrella</td>\n",
       "      <td>THUMM Verena</td>\n",
       "    </tr>\n",
       "    <tr>\n",
       "      <th>9</th>\n",
       "      <td>https://judobase.ijf.org/#/competition/contest...</td>\n",
       "      <td>https://www.youtube.com/watch?v=hJaATsCUcwM</td>\n",
       "      <td>LOPEZ SHERIFF Estrella</td>\n",
       "      <td>BEZALEL Ariel</td>\n",
       "    </tr>\n",
       "    <tr>\n",
       "      <th>10</th>\n",
       "      <td>https://judobase.ijf.org/#/competition/contest...</td>\n",
       "      <td>https://www.youtube.com/watch?v=-2P8x2Qr6F4</td>\n",
       "      <td>LOPEZ SHERIFF Estrella</td>\n",
       "      <td>SOUKATE Ikram</td>\n",
       "    </tr>\n",
       "    <tr>\n",
       "      <th>11</th>\n",
       "      <td>https://judobase.ijf.org/#/competition/contest...</td>\n",
       "      <td>https://www.youtube.com/watch?v=D3BvcuSLpo8</td>\n",
       "      <td>LOPEZ SHERIFF Estrella</td>\n",
       "      <td>SOUKATE Ikram</td>\n",
       "    </tr>\n",
       "    <tr>\n",
       "      <th>12</th>\n",
       "      <td>https://judobase.ijf.org/#/competition/contest...</td>\n",
       "      <td>https://www.youtube.com/watch?v=g-y3AHtt_gs</td>\n",
       "      <td>LOPEZ SHERIFF Estrella</td>\n",
       "      <td>LEGENTIL Christianne</td>\n",
       "    </tr>\n",
       "  </tbody>\n",
       "</table>\n",
       "</div>"
      ],
      "text/plain": [
       "                                            url_video  \\\n",
       "0   https://judobase.ijf.org/#/competition/contest...   \n",
       "1   https://judobase.ijf.org/#/competition/contest...   \n",
       "2   https://judobase.ijf.org/#/competition/contest...   \n",
       "3   https://judobase.ijf.org/#/competition/contest...   \n",
       "4   https://judobase.ijf.org/#/competition/contest...   \n",
       "5   https://judobase.ijf.org/#/competition/contest...   \n",
       "6   https://judobase.ijf.org/#/competition/contest...   \n",
       "7   https://judobase.ijf.org/#/competition/contest...   \n",
       "8   https://judobase.ijf.org/#/competition/contest...   \n",
       "9   https://judobase.ijf.org/#/competition/contest...   \n",
       "10  https://judobase.ijf.org/#/competition/contest...   \n",
       "11  https://judobase.ijf.org/#/competition/contest...   \n",
       "12  https://judobase.ijf.org/#/competition/contest...   \n",
       "\n",
       "                                    url_youtube                   local  \\\n",
       "0   https://www.youtube.com/watch?v=8b7mZQsTmK0  LOPEZ SHERIFF Estrella   \n",
       "1   https://www.youtube.com/watch?v=HdqymnSiloc  LOPEZ SHERIFF Estrella   \n",
       "2   https://www.youtube.com/watch?v=JgPOEHOJ2jo  LOPEZ SHERIFF Estrella   \n",
       "3   https://www.youtube.com/watch?v=xpd4OZFzESk  LOPEZ SHERIFF Estrella   \n",
       "4   https://www.youtube.com/watch?v=FJmiFvoi8Ro  LOPEZ SHERIFF Estrella   \n",
       "5   https://www.youtube.com/watch?v=RfaQdGW0NwY  LOPEZ SHERIFF Estrella   \n",
       "6   https://www.youtube.com/watch?v=U00rk9umAkY  LOPEZ SHERIFF Estrella   \n",
       "7   https://www.youtube.com/watch?v=kLIefZ6V2L4  LOPEZ SHERIFF Estrella   \n",
       "8   https://www.youtube.com/watch?v=WSa7eH5Vv9U  LOPEZ SHERIFF Estrella   \n",
       "9   https://www.youtube.com/watch?v=hJaATsCUcwM  LOPEZ SHERIFF Estrella   \n",
       "10  https://www.youtube.com/watch?v=-2P8x2Qr6F4  LOPEZ SHERIFF Estrella   \n",
       "11  https://www.youtube.com/watch?v=D3BvcuSLpo8  LOPEZ SHERIFF Estrella   \n",
       "12  https://www.youtube.com/watch?v=g-y3AHtt_gs  LOPEZ SHERIFF Estrella   \n",
       "\n",
       "                opponent  \n",
       "0            PARK Da Sol  \n",
       "1       JIMENEZ Kristine  \n",
       "2          GNETO Astride  \n",
       "3        TSCHOPP Evelyne  \n",
       "4       JIMENEZ Kristine  \n",
       "5               KOSE Mai  \n",
       "6       KRASNIQI Distria  \n",
       "7         KUTSENKO Aigul  \n",
       "8           THUMM Verena  \n",
       "9          BEZALEL Ariel  \n",
       "10         SOUKATE Ikram  \n",
       "11         SOUKATE Ikram  \n",
       "12  LEGENTIL Christianne  "
      ]
     },
     "execution_count": 11,
     "metadata": {},
     "output_type": "execute_result"
    }
   ],
   "source": [
    "videos_estre"
   ]
  },
  {
   "cell_type": "code",
   "execution_count": null,
   "metadata": {
    "collapsed": true
   },
   "outputs": [],
   "source": []
  },
  {
   "cell_type": "code",
   "execution_count": null,
   "metadata": {
    "collapsed": true
   },
   "outputs": [],
   "source": []
  },
  {
   "cell_type": "markdown",
   "metadata": {},
   "source": [
    "### Do all video_urls remaining"
   ]
  },
  {
   "cell_type": "code",
   "execution_count": 57,
   "metadata": {
    "collapsed": true
   },
   "outputs": [],
   "source": [
    "proposed_videos = all_battles.loc[all_battles.category == 'men_73', 'url_video']"
   ]
  },
  {
   "cell_type": "code",
   "execution_count": 58,
   "metadata": {},
   "outputs": [
    {
     "data": {
      "text/plain": [
       "Series([], Name: url_video, dtype: object)"
      ]
     },
     "execution_count": 58,
     "metadata": {},
     "output_type": "execute_result"
    }
   ],
   "source": [
    "proposed_videos"
   ]
  },
  {
   "cell_type": "code",
   "execution_count": 20,
   "metadata": {
    "collapsed": true
   },
   "outputs": [],
   "source": [
    "all_videos = conn.as_pandas('select * from videos_info')"
   ]
  },
  {
   "cell_type": "code",
   "execution_count": 23,
   "metadata": {},
   "outputs": [
    {
     "ename": "NameError",
     "evalue": "name 'all_videos' is not defined",
     "output_type": "error",
     "traceback": [
      "\u001b[0;31m---------------------------------------------------------------------------\u001b[0m",
      "\u001b[0;31mNameError\u001b[0m                                 Traceback (most recent call last)",
      "\u001b[0;32m<ipython-input-23-43049f79a4b5>\u001b[0m in \u001b[0;36m<module>\u001b[0;34m\u001b[0m\n\u001b[0;32m----> 1\u001b[0;31m \u001b[0;32mfor\u001b[0m \u001b[0mv\u001b[0m \u001b[0;32min\u001b[0m \u001b[0mall_videos\u001b[0m\u001b[0;34m.\u001b[0m\u001b[0murl_video\u001b[0m\u001b[0;34m:\u001b[0m\u001b[0;34m\u001b[0m\u001b[0m\n\u001b[0m\u001b[1;32m      2\u001b[0m     \u001b[0mprint\u001b[0m\u001b[0;34m(\u001b[0m\u001b[0mv\u001b[0m\u001b[0;34m)\u001b[0m\u001b[0;34m\u001b[0m\u001b[0m\n",
      "\u001b[0;31mNameError\u001b[0m: name 'all_videos' is not defined"
     ]
    }
   ],
   "source": [
    "for v in all_videos.url_video:\n",
    "    print(v)"
   ]
  },
  {
   "cell_type": "code",
   "execution_count": 32,
   "metadata": {},
   "outputs": [
    {
     "ename": "AttributeError",
     "evalue": "'numpy.ndarray' object has no attribute 'isin'",
     "output_type": "error",
     "traceback": [
      "\u001b[1;31m---------------------------------------------------------------------------\u001b[0m",
      "\u001b[1;31mAttributeError\u001b[0m                            Traceback (most recent call last)",
      "\u001b[1;32m<ipython-input-32-220ecc3bdf04>\u001b[0m in \u001b[0;36m<module>\u001b[1;34m()\u001b[0m\n\u001b[1;32m----> 1\u001b[1;33m \u001b[0mall_battles\u001b[0m\u001b[1;33m.\u001b[0m\u001b[0murl_video\u001b[0m\u001b[1;33m.\u001b[0m\u001b[0mvalues\u001b[0m\u001b[1;33m.\u001b[0m\u001b[0misin\u001b[0m\u001b[1;33m(\u001b[0m\u001b[0mall_videos\u001b[0m\u001b[1;33m.\u001b[0m\u001b[0murl_video\u001b[0m\u001b[1;33m.\u001b[0m\u001b[0mvalues\u001b[0m\u001b[1;33m)\u001b[0m\u001b[1;33m.\u001b[0m\u001b[0msum\u001b[0m\u001b[1;33m(\u001b[0m\u001b[1;33m)\u001b[0m\u001b[1;33m\u001b[0m\u001b[0m\n\u001b[0m",
      "\u001b[1;31mAttributeError\u001b[0m: 'numpy.ndarray' object has no attribute 'isin'"
     ]
    }
   ],
   "source": [
    "all_battles.url_video.values.isin(all_videos.url_video.values).sum()"
   ]
  },
  {
   "cell_type": "code",
   "execution_count": 29,
   "metadata": {},
   "outputs": [
    {
     "data": {
      "text/plain": [
       "0    False\n",
       "1    False\n",
       "Name: url_video, dtype: bool"
      ]
     },
     "execution_count": 29,
     "metadata": {},
     "output_type": "execute_result"
    }
   ],
   "source": [
    "all_videos.url_video.isin(all_battles.url_video)"
   ]
  },
  {
   "cell_type": "code",
   "execution_count": 24,
   "metadata": {},
   "outputs": [
    {
     "data": {
      "text/plain": [
       "0"
      ]
     },
     "execution_count": 24,
     "metadata": {},
     "output_type": "execute_result"
    }
   ],
   "source": [
    "all_battles.url_video.isin(all_videos.url_video).sum()"
   ]
  },
  {
   "cell_type": "code",
   "execution_count": 35,
   "metadata": {},
   "outputs": [
    {
     "ename": "NameError",
     "evalue": "name 'all_videos' is not defined",
     "output_type": "error",
     "traceback": [
      "\u001b[0;31m---------------------------------------------------------------------------\u001b[0m",
      "\u001b[0;31mNameError\u001b[0m                                 Traceback (most recent call last)",
      "\u001b[0;32m<ipython-input-35-259f00f1f306>\u001b[0m in \u001b[0;36m<module>\u001b[0;34m\u001b[0m\n\u001b[0;32m----> 1\u001b[0;31m \u001b[0mall_videos\u001b[0m\u001b[0;34m.\u001b[0m\u001b[0murl_video\u001b[0m\u001b[0;34m\u001b[0m\u001b[0m\n\u001b[0m",
      "\u001b[0;31mNameError\u001b[0m: name 'all_videos' is not defined"
     ]
    }
   ],
   "source": [
    "all_videos"
   ]
  },
  {
   "cell_type": "markdown",
   "metadata": {
    "collapsed": true
   },
   "source": [
    "### Extraer info y acceder al youtube"
   ]
  },
  {
   "cell_type": "markdown",
   "metadata": {},
   "source": [
    "### Extraer info"
   ]
  },
  {
   "cell_type": "markdown",
   "metadata": {},
   "source": [
    "hay que juntarlo con extraccion url"
   ]
  },
  {
   "cell_type": "code",
   "execution_count": 38,
   "metadata": {},
   "outputs": [
    {
     "data": {
      "text/plain": [
       "0     bb\n",
       "1     bb\n",
       "2     bb\n",
       "3     bb\n",
       "4     bb\n",
       "5     bb\n",
       "6     bb\n",
       "7     bb\n",
       "8     bb\n",
       "9     bb\n",
       "10    bb\n",
       "11    bb\n",
       "12    bb\n",
       "Name: url_video, dtype: object"
      ]
     },
     "execution_count": 38,
     "metadata": {},
     "output_type": "execute_result"
    }
   ],
   "source": [
    "videos_estre.url_video.str.slice(-2,)"
   ]
  },
  {
   "cell_type": "code",
   "execution_count": 32,
   "metadata": {
    "collapsed": true
   },
   "outputs": [],
   "source": [
    "urll = videos_estre.url_video.iloc[1]"
   ]
  },
  {
   "cell_type": "code",
   "execution_count": 39,
   "metadata": {
    "collapsed": true
   },
   "outputs": [],
   "source": [
    "urll = urll[:-2]"
   ]
  },
  {
   "cell_type": "code",
   "execution_count": 41,
   "metadata": {
    "collapsed": true
   },
   "outputs": [],
   "source": [
    "driver.get(urll)"
   ]
  },
  {
   "cell_type": "code",
   "execution_count": 42,
   "metadata": {
    "collapsed": true
   },
   "outputs": [],
   "source": [
    "# tabla con puntuaciones etiquetadas en tiempo\n",
    "tabla_timed_points = driver.find_elements_by_tag_name('tbody')[1]"
   ]
  },
  {
   "cell_type": "code",
   "execution_count": 43,
   "metadata": {
    "collapsed": true
   },
   "outputs": [],
   "source": [
    "filas = tabla_timed_points.find_elements_by_tag_name('tr')"
   ]
  },
  {
   "cell_type": "code",
   "execution_count": 44,
   "metadata": {},
   "outputs": [
    {
     "data": {
      "text/plain": [
       "3"
      ]
     },
     "execution_count": 44,
     "metadata": {},
     "output_type": "execute_result"
    }
   ],
   "source": [
    "nrows = len(filas[0].find_elements_by_tag_name('td'))\n",
    "nrows"
   ]
  },
  {
   "cell_type": "code",
   "execution_count": 45,
   "metadata": {},
   "outputs": [
    {
     "name": "stdout",
     "output_type": "stream",
     "text": [
      "0 0 Waza-ari\n",
      "0 1 00:09\n",
      "0 2 \n",
      "1 0 \n",
      "1 1 02:36\n",
      "1 2 Shido\n",
      "Shido / Non-Combativity\n",
      "3 rows!\n"
     ]
    }
   ],
   "source": [
    "if nrows == 2:\n",
    "    for row_number, row in enumerate(filas):\n",
    "        for col_number, value in enumerate(row.find_elements_by_tag_name('td')):\n",
    "            print(row_number, col_number, value.text)\n",
    "\n",
    "else:\n",
    "    for row_number, row in enumerate(filas):\n",
    "        for col_number, value in enumerate(row.find_elements_by_tag_name('td')):\n",
    "            print(row_number, col_number, value.text)\n",
    "\n",
    "    print(f'{nrows} rows!')"
   ]
  },
  {
   "cell_type": "code",
   "execution_count": 46,
   "metadata": {
    "collapsed": true
   },
   "outputs": [],
   "source": [
    "seconds = 22"
   ]
  },
  {
   "cell_type": "code",
   "execution_count": 47,
   "metadata": {},
   "outputs": [
    {
     "data": {
      "text/plain": [
       "'https://www.youtube.com/watch?v=3ajXhPeC9dQ&t=22'"
      ]
     },
     "execution_count": 47,
     "metadata": {},
     "output_type": "execute_result"
    }
   ],
   "source": [
    "url_youtube_time = url_youtube + '&t=' + str(seconds)\n",
    "url_youtube_time"
   ]
  },
  {
   "cell_type": "code",
   "execution_count": 48,
   "metadata": {
    "collapsed": true
   },
   "outputs": [],
   "source": [
    "driver.get(url_youtube_time)"
   ]
  },
  {
   "cell_type": "code",
   "execution_count": null,
   "metadata": {
    "collapsed": true
   },
   "outputs": [],
   "source": []
  },
  {
   "cell_type": "code",
   "execution_count": null,
   "metadata": {
    "collapsed": true
   },
   "outputs": [],
   "source": []
  },
  {
   "cell_type": "markdown",
   "metadata": {
    "collapsed": true
   },
   "source": [
    "### Youtube downloads"
   ]
  },
  {
   "cell_type": "code",
   "execution_count": 49,
   "metadata": {
    "collapsed": true
   },
   "outputs": [],
   "source": [
    "url_youtube = videos_estre.iloc[0,1]"
   ]
  },
  {
   "cell_type": "code",
   "execution_count": 50,
   "metadata": {},
   "outputs": [
    {
     "data": {
      "text/plain": [
       "'https://www.youtube.com/watch?v=8b7mZQsTmK0'"
      ]
     },
     "execution_count": 50,
     "metadata": {},
     "output_type": "execute_result"
    }
   ],
   "source": [
    "url_youtube"
   ]
  },
  {
   "cell_type": "code",
   "execution_count": 51,
   "metadata": {
    "collapsed": true
   },
   "outputs": [],
   "source": [
    "from pytube import YouTube"
   ]
  },
  {
   "cell_type": "code",
   "execution_count": 52,
   "metadata": {
    "collapsed": true
   },
   "outputs": [],
   "source": [
    "y = YouTube(url_youtube)"
   ]
  },
  {
   "cell_type": "code",
   "execution_count": 53,
   "metadata": {
    "collapsed": true
   },
   "outputs": [],
   "source": [
    "video = y.streams.filter(res='720p', mime_type='video/mp4').first()"
   ]
  },
  {
   "cell_type": "code",
   "execution_count": 54,
   "metadata": {
    "collapsed": true
   },
   "outputs": [],
   "source": [
    "assert video is not None, 'No video'"
   ]
  },
  {
   "cell_type": "code",
   "execution_count": 55,
   "metadata": {},
   "outputs": [
    {
     "name": "stdout",
     "output_type": "stream",
     "text": [
      "CPU times: user 2.97 s, sys: 2.28 s, total: 5.25 s\n",
      "Wall time: 9.88 s\n"
     ]
    },
    {
     "data": {
      "text/plain": [
       "'/home/sheriff/Documents/projects/judo/judo/estre720.mp4'"
      ]
     },
     "execution_count": 55,
     "metadata": {},
     "output_type": "execute_result"
    }
   ],
   "source": [
    "%time video.download(filename='estre720')"
   ]
  },
  {
   "cell_type": "markdown",
   "metadata": {},
   "source": [
    "### Edición con moviepy"
   ]
  },
  {
   "cell_type": "code",
   "execution_count": 35,
   "metadata": {},
   "outputs": [
    {
     "data": {
      "text/plain": [
       "3"
      ]
     },
     "execution_count": 35,
     "metadata": {},
     "output_type": "execute_result"
    }
   ],
   "source": [
    "3"
   ]
  },
  {
   "cell_type": "code",
   "execution_count": 56,
   "metadata": {
    "collapsed": true
   },
   "outputs": [],
   "source": [
    "import requests"
   ]
  },
  {
   "cell_type": "code",
   "execution_count": 3,
   "metadata": {
    "collapsed": true
   },
   "outputs": [],
   "source": [
    "from moviepy.editor import VideoFileClip, TextClip, CompositeVideoClip, concatenate_videoclips"
   ]
  },
  {
   "cell_type": "code",
   "execution_count": 2,
   "metadata": {},
   "outputs": [
    {
     "name": "stdout",
     "output_type": "stream",
     "text": [
      "\n",
      "[MoviePy] This command returned an error !"
     ]
    },
    {
     "ename": "OSError",
     "evalue": "MoviePy Error: creation of None failed because of the following error:\n\nconvert: delegate library support not built-in '/usr/share/fonts/type1/gsfonts/b018015l.pfb' (Freetype) @ warning/annotate.c/RenderFreetype/1797.\nconvert: no decode delegate for this image format `' @ error/constitute.c/ReadImage/556.\nconvert: no images defined `PNG32:/tmp/tmp6dqv06yt.png' @ error/convert.c/ConvertImageCommand/3300.\n.\n\n.This error can be due to the fact that ImageMagick is not installed on your computer, or (for Windows users) that you didn't specify the path to the ImageMagick binary in file conf.py, or that the path you specified is incorrect",
     "output_type": "error",
     "traceback": [
      "\u001b[0;31m---------------------------------------------------------------------------\u001b[0m",
      "\u001b[0;31mOSError\u001b[0m                                   Traceback (most recent call last)",
      "\u001b[0;32m~/anaconda3/envs/video/lib/python3.7/site-packages/moviepy/video/VideoClip.py\u001b[0m in \u001b[0;36m__init__\u001b[0;34m(self, txt, filename, size, color, bg_color, fontsize, font, stroke_color, stroke_width, method, kerning, align, interline, tempfilename, temptxt, transparent, remove_temp, print_cmd)\u001b[0m\n\u001b[1;32m   1163\u001b[0m         \u001b[0;32mtry\u001b[0m\u001b[0;34m:\u001b[0m\u001b[0;34m\u001b[0m\u001b[0m\n\u001b[0;32m-> 1164\u001b[0;31m             \u001b[0msubprocess_call\u001b[0m\u001b[0;34m(\u001b[0m\u001b[0mcmd\u001b[0m\u001b[0;34m,\u001b[0m \u001b[0mverbose\u001b[0m\u001b[0;34m=\u001b[0m\u001b[0;32mFalse\u001b[0m\u001b[0;34m)\u001b[0m\u001b[0;34m\u001b[0m\u001b[0m\n\u001b[0m\u001b[1;32m   1165\u001b[0m         \u001b[0;32mexcept\u001b[0m \u001b[0;34m(\u001b[0m\u001b[0mIOError\u001b[0m\u001b[0;34m,\u001b[0m \u001b[0mOSError\u001b[0m\u001b[0;34m)\u001b[0m \u001b[0;32mas\u001b[0m \u001b[0merr\u001b[0m\u001b[0;34m:\u001b[0m\u001b[0;34m\u001b[0m\u001b[0m\n",
      "\u001b[0;32m~/anaconda3/envs/video/lib/python3.7/site-packages/moviepy/tools.py\u001b[0m in \u001b[0;36msubprocess_call\u001b[0;34m(cmd, verbose, errorprint)\u001b[0m\n\u001b[1;32m     48\u001b[0m         \u001b[0mverbose_print\u001b[0m\u001b[0;34m(\u001b[0m\u001b[0merrorprint\u001b[0m\u001b[0;34m,\u001b[0m \u001b[0;34m\"\\n[MoviePy] This command returned an error !\"\u001b[0m\u001b[0;34m)\u001b[0m\u001b[0;34m\u001b[0m\u001b[0m\n\u001b[0;32m---> 49\u001b[0;31m         \u001b[0;32mraise\u001b[0m \u001b[0mIOError\u001b[0m\u001b[0;34m(\u001b[0m\u001b[0merr\u001b[0m\u001b[0;34m.\u001b[0m\u001b[0mdecode\u001b[0m\u001b[0;34m(\u001b[0m\u001b[0;34m'utf8'\u001b[0m\u001b[0;34m)\u001b[0m\u001b[0;34m)\u001b[0m\u001b[0;34m\u001b[0m\u001b[0m\n\u001b[0m\u001b[1;32m     50\u001b[0m     \u001b[0;32melse\u001b[0m\u001b[0;34m:\u001b[0m\u001b[0;34m\u001b[0m\u001b[0m\n",
      "\u001b[0;31mOSError\u001b[0m: convert: delegate library support not built-in '/usr/share/fonts/type1/gsfonts/b018015l.pfb' (Freetype) @ warning/annotate.c/RenderFreetype/1797.\nconvert: no decode delegate for this image format `' @ error/constitute.c/ReadImage/556.\nconvert: no images defined `PNG32:/tmp/tmp6dqv06yt.png' @ error/convert.c/ConvertImageCommand/3300.\n",
      "\nDuring handling of the above exception, another exception occurred:\n",
      "\u001b[0;31mOSError\u001b[0m                                   Traceback (most recent call last)",
      "\u001b[0;32m<ipython-input-2-4a385c974e56>\u001b[0m in \u001b[0;36m<module>\u001b[0;34m\u001b[0m\n\u001b[0;32m----> 1\u001b[0;31m \u001b[0mtext0\u001b[0m \u001b[0;34m=\u001b[0m \u001b[0mTextClip\u001b[0m\u001b[0;34m(\u001b[0m\u001b[0;34m\"Primer chunk\"\u001b[0m\u001b[0;34m,\u001b[0m \u001b[0mfont\u001b[0m\u001b[0;34m=\u001b[0m\u001b[0;34m'Bookman-Demi'\u001b[0m\u001b[0;34m,\u001b[0m \u001b[0mfontsize\u001b[0m\u001b[0;34m=\u001b[0m\u001b[0;36m70\u001b[0m\u001b[0;34m,\u001b[0m \u001b[0mcolor\u001b[0m\u001b[0;34m=\u001b[0m\u001b[0;34m'red'\u001b[0m\u001b[0;34m)\u001b[0m\u001b[0;34m.\u001b[0m\u001b[0mset_position\u001b[0m\u001b[0;34m(\u001b[0m\u001b[0;34m(\u001b[0m\u001b[0;34m'right'\u001b[0m\u001b[0;34m,\u001b[0m \u001b[0;34m'top'\u001b[0m\u001b[0;34m)\u001b[0m\u001b[0;34m,\u001b[0m \u001b[0mrelative\u001b[0m\u001b[0;34m=\u001b[0m\u001b[0;32mTrue\u001b[0m\u001b[0;34m)\u001b[0m\u001b[0;34m.\u001b[0m\u001b[0mset_duration\u001b[0m\u001b[0;34m(\u001b[0m\u001b[0;36m5\u001b[0m\u001b[0;34m)\u001b[0m\u001b[0;34m\u001b[0m\u001b[0m\n\u001b[0m",
      "\u001b[0;32m~/anaconda3/envs/video/lib/python3.7/site-packages/moviepy/video/VideoClip.py\u001b[0m in \u001b[0;36m__init__\u001b[0;34m(self, txt, filename, size, color, bg_color, fontsize, font, stroke_color, stroke_width, method, kerning, align, interline, tempfilename, temptxt, transparent, remove_temp, print_cmd)\u001b[0m\n\u001b[1;32m   1171\u001b[0m                         \u001b[0;34m\"ImageMagick binary in file conf.py, or that the path \"\u001b[0m\u001b[0;34m\u001b[0m\u001b[0m\n\u001b[1;32m   1172\u001b[0m                         \"you specified is incorrect\"))\n\u001b[0;32m-> 1173\u001b[0;31m             \u001b[0;32mraise\u001b[0m \u001b[0mIOError\u001b[0m\u001b[0;34m(\u001b[0m\u001b[0merror\u001b[0m\u001b[0;34m)\u001b[0m\u001b[0;34m\u001b[0m\u001b[0m\n\u001b[0m\u001b[1;32m   1174\u001b[0m \u001b[0;34m\u001b[0m\u001b[0m\n\u001b[1;32m   1175\u001b[0m         \u001b[0mImageClip\u001b[0m\u001b[0;34m.\u001b[0m\u001b[0m__init__\u001b[0m\u001b[0;34m(\u001b[0m\u001b[0mself\u001b[0m\u001b[0;34m,\u001b[0m \u001b[0mtempfilename\u001b[0m\u001b[0;34m,\u001b[0m \u001b[0mtransparent\u001b[0m\u001b[0;34m=\u001b[0m\u001b[0mtransparent\u001b[0m\u001b[0;34m)\u001b[0m\u001b[0;34m\u001b[0m\u001b[0m\n",
      "\u001b[0;31mOSError\u001b[0m: MoviePy Error: creation of None failed because of the following error:\n\nconvert: delegate library support not built-in '/usr/share/fonts/type1/gsfonts/b018015l.pfb' (Freetype) @ warning/annotate.c/RenderFreetype/1797.\nconvert: no decode delegate for this image format `' @ error/constitute.c/ReadImage/556.\nconvert: no images defined `PNG32:/tmp/tmp6dqv06yt.png' @ error/convert.c/ConvertImageCommand/3300.\n.\n\n.This error can be due to the fact that ImageMagick is not installed on your computer, or (for Windows users) that you didn't specify the path to the ImageMagick binary in file conf.py, or that the path you specified is incorrect"
     ]
    }
   ],
   "source": [
    "text0 = TextClip(\"Primer chunk\", font='Bookman-Demi', fontsize=70, color='red').set_position(('right', 'top'), relative=True).set_duration(5)"
   ]
  },
  {
   "cell_type": "code",
   "execution_count": 3,
   "metadata": {},
   "outputs": [
    {
     "ename": "SyntaxError",
     "evalue": "invalid syntax (<ipython-input-3-f2f427ef38e1>, line 1)",
     "output_type": "error",
     "traceback": [
      "\u001b[0;36m  File \u001b[0;32m\"<ipython-input-3-f2f427ef38e1>\"\u001b[0;36m, line \u001b[0;32m1\u001b[0m\n\u001b[0;31m    text0 = TextClip(\"Primer chunk\", font='Times-Italic' fontsize=70, color='red').set_position(('right', 'top'), relative=True).set_duration(5)\u001b[0m\n\u001b[0m                                                                ^\u001b[0m\n\u001b[0;31mSyntaxError\u001b[0m\u001b[0;31m:\u001b[0m invalid syntax\n"
     ]
    }
   ],
   "source": [
    "text1 = TextClip(\"Segundo chunk\", fontsize=70, color='blue').set_position((0.4, 0), relative=True).set_duration(5)\n",
    "# text2 = TextClip(\"Tercer chunk\", fontsize=70, color='green').set_position((0.8, 0), relative=True).set_duration(5)\n",
    "\n",
    "# textos = (text0, text1, text2)"
   ]
  },
  {
   "cell_type": "code",
   "execution_count": 2,
   "metadata": {
    "collapsed": true
   },
   "outputs": [],
   "source": [
    "clip = VideoFileClip('./estre720.mp4')"
   ]
  },
  {
   "cell_type": "code",
   "execution_count": 3,
   "metadata": {},
   "outputs": [
    {
     "data": {
      "text/plain": [
       "353.85"
      ]
     },
     "execution_count": 3,
     "metadata": {},
     "output_type": "execute_result"
    }
   ],
   "source": [
    "clip.duration"
   ]
  },
  {
   "cell_type": "code",
   "execution_count": 4,
   "metadata": {
    "collapsed": true
   },
   "outputs": [],
   "source": [
    "corte = clip.subclip(40,50)"
   ]
  },
  {
   "cell_type": "code",
   "execution_count": 64,
   "metadata": {
    "collapsed": true
   },
   "outputs": [],
   "source": [
    "import pkg_resources"
   ]
  },
  {
   "cell_type": "code",
   "execution_count": 65,
   "metadata": {},
   "outputs": [
    {
     "data": {
      "text/plain": [
       "moviepy 0.2.3.5 (/home/sheriff/anaconda3/envs/video/lib/python3.7/site-packages)"
      ]
     },
     "execution_count": 65,
     "metadata": {},
     "output_type": "execute_result"
    }
   ],
   "source": [
    "pkg_resources.get_distribution('moviepy')"
   ]
  },
  {
   "cell_type": "code",
   "execution_count": 63,
   "metadata": {},
   "outputs": [
    {
     "data": {
      "text/plain": [
       "6"
      ]
     },
     "execution_count": 63,
     "metadata": {},
     "output_type": "execute_result"
    }
   ],
   "source": [
    "3+3"
   ]
  },
  {
   "cell_type": "code",
   "execution_count": 13,
   "metadata": {
    "collapsed": true
   },
   "outputs": [],
   "source": [
    "textos = concatenate_videoclips([text0, text1])"
   ]
  },
  {
   "cell_type": "code",
   "execution_count": 15,
   "metadata": {
    "collapsed": true
   },
   "outputs": [],
   "source": [
    "final_clip = CompositeVideoClip([corte, textos])"
   ]
  },
  {
   "cell_type": "code",
   "execution_count": 16,
   "metadata": {},
   "outputs": [
    {
     "data": {
      "text/plain": [
       "4"
      ]
     },
     "execution_count": 16,
     "metadata": {},
     "output_type": "execute_result"
    }
   ],
   "source": [
    "final_clip.duration"
   ]
  },
  {
   "cell_type": "code",
   "execution_count": 17,
   "metadata": {},
   "outputs": [
    {
     "name": "stdout",
     "output_type": "stream",
     "text": [
      "[MoviePy] >>>> Building video my_concatenatio2n2.mp4\n",
      "[MoviePy] Writing audio in my_concatenatio2n2TEMP_MPY_wvf_snd.mp3\n"
     ]
    },
    {
     "name": "stderr",
     "output_type": "stream",
     "text": [
      "100%|█████████████████████████████████████████████████████████████████████████████████| 89/89 [00:00<00:00, 271.76it/s]\n"
     ]
    },
    {
     "name": "stdout",
     "output_type": "stream",
     "text": [
      "[MoviePy] Done.\n",
      "[MoviePy] Writing video my_concatenatio2n2.mp4\n"
     ]
    },
    {
     "name": "stderr",
     "output_type": "stream",
     "text": [
      " 99%|███████████████████████████████████████████████████████████████████████████████▏| 100/101 [00:06<00:00, 12.44it/s]\n"
     ]
    },
    {
     "name": "stdout",
     "output_type": "stream",
     "text": [
      "[MoviePy] Done.\n",
      "[MoviePy] >>>> Video ready: my_concatenatio2n2.mp4 \n",
      "\n"
     ]
    }
   ],
   "source": [
    "final_clip.write_videofile(\"my_concatenatio2n2.mp4\")"
   ]
  },
  {
   "cell_type": "code",
   "execution_count": null,
   "metadata": {
    "collapsed": true
   },
   "outputs": [],
   "source": []
  }
 ],
 "metadata": {
  "kernelspec": {
   "display_name": "Python 3",
   "language": "python",
   "name": "python3"
  },
  "language_info": {
   "codemirror_mode": {
    "name": "ipython",
    "version": 3
   },
   "file_extension": ".py",
   "mimetype": "text/x-python",
   "name": "python",
   "nbconvert_exporter": "python",
   "pygments_lexer": "ipython3",
   "version": "3.6.2"
  }
 },
 "nbformat": 4,
 "nbformat_minor": 2
}
