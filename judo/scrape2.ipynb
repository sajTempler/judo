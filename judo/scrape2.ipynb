{
 "cells": [
  {
   "cell_type": "code",
   "execution_count": 1,
   "metadata": {
    "collapsed": true
   },
   "outputs": [],
   "source": [
    "from selenium import webdriver\n",
    "from selenium.webdriver.common.keys import Keys\n",
    "import pandas as pd\n",
    "\n",
    "import time\n",
    "\n",
    "import pandas as pd\n",
    "\n",
    "import re"
   ]
  },
  {
   "cell_type": "code",
   "execution_count": 2,
   "metadata": {
    "collapsed": true
   },
   "outputs": [],
   "source": [
    "import moviepy"
   ]
  },
  {
   "cell_type": "code",
   "execution_count": 3,
   "metadata": {
    "collapsed": true
   },
   "outputs": [],
   "source": [
    "# si da error unicode copias pegas el archivo entero a otro y a correr\n",
    "df = pd.read_csv('data52kg.csv', index_col=0)"
   ]
  },
  {
   "cell_type": "code",
   "execution_count": 4,
   "metadata": {
    "collapsed": true
   },
   "outputs": [],
   "source": [
    "df = pd.read_csv('data66kg.csv', index_col=0)"
   ]
  },
  {
   "cell_type": "code",
   "execution_count": 5,
   "metadata": {
    "collapsed": true
   },
   "outputs": [],
   "source": [
    "# abrir Google Chrome\n",
    "driver = webdriver.Chrome(r\"C:\\Users\\manuel.lopez\\Documents\\chromedriver.exe\")\n",
    "try:\n",
    "    driver.maximize_window()\n",
    "except:\n",
    "    pass"
   ]
  },
  {
   "cell_type": "code",
   "execution_count": 6,
   "metadata": {
    "collapsed": true
   },
   "outputs": [],
   "source": [
    "comp_types = [\n",
    "    'Olympic Games',\n",
    "    'World Championships',\n",
    "    'Masters',\n",
    "    'Grand Slam',\n",
    "    'Grand Prix',\n",
    "    'Continental Championships',\n",
    "    'Continental Open'\n",
    "]"
   ]
  },
  {
   "cell_type": "code",
   "execution_count": 7,
   "metadata": {
    "collapsed": true
   },
   "outputs": [],
   "source": [
    "def find_comp_type(comp):\n",
    "    'Given string, identifies one of comp_types'\n",
    "    comp_type = next((c for c in comp_types if c in comp), 'None')\n",
    "    rest = comp.replace(comp_type, ' ').strip()\n",
    "\n",
    "    return comp_type\n",
    "\n",
    "def find_comp_rest(comp):\n",
    "    'Given string, identifies one of comp_types'\n",
    "    comp_type = next((c for c in comp_types if c in comp), 'None')\n",
    "    rest = comp.replace(comp_type, ' ').strip()\n",
    "    \n",
    "    return rest"
   ]
  },
  {
   "cell_type": "code",
   "execution_count": 8,
   "metadata": {},
   "outputs": [
    {
     "data": {
      "text/plain": [
       "'World Championships'"
      ]
     },
     "execution_count": 8,
     "metadata": {},
     "output_type": "execute_result"
    }
   ],
   "source": [
    "find_comp_type('World Championships Baku 2018')"
   ]
  },
  {
   "cell_type": "code",
   "execution_count": 9,
   "metadata": {},
   "outputs": [
    {
     "data": {
      "text/plain": [
       "'Baku 2018'"
      ]
     },
     "execution_count": 9,
     "metadata": {},
     "output_type": "execute_result"
    }
   ],
   "source": [
    "find_comp_rest('World Championships Baku 2018')"
   ]
  },
  {
   "cell_type": "code",
   "execution_count": 10,
   "metadata": {
    "collapsed": true
   },
   "outputs": [],
   "source": [
    "df['comp_type'] = df.event.apply(find_comp_type)"
   ]
  },
  {
   "cell_type": "code",
   "execution_count": 11,
   "metadata": {
    "collapsed": true
   },
   "outputs": [],
   "source": [
    "df['comp_name'] = df.event.apply(find_comp_rest)"
   ]
  },
  {
   "cell_type": "code",
   "execution_count": 12,
   "metadata": {
    "collapsed": true
   },
   "outputs": [],
   "source": [
    "df.date = pd.to_datetime(df.date)"
   ]
  },
  {
   "cell_type": "code",
   "execution_count": 13,
   "metadata": {},
   "outputs": [
    {
     "data": {
      "text/html": [
       "<div>\n",
       "<style>\n",
       "    .dataframe thead tr:only-child th {\n",
       "        text-align: right;\n",
       "    }\n",
       "\n",
       "    .dataframe thead th {\n",
       "        text-align: left;\n",
       "    }\n",
       "\n",
       "    .dataframe tbody tr th {\n",
       "        vertical-align: top;\n",
       "    }\n",
       "</style>\n",
       "<table border=\"1\" class=\"dataframe\">\n",
       "  <thead>\n",
       "    <tr style=\"text-align: right;\">\n",
       "      <th></th>\n",
       "      <th>wins</th>\n",
       "      <th>local</th>\n",
       "      <th>opponent</th>\n",
       "      <th>local_points</th>\n",
       "      <th>opponent_points</th>\n",
       "      <th>duration</th>\n",
       "      <th>date</th>\n",
       "      <th>event</th>\n",
       "      <th>category</th>\n",
       "      <th>round</th>\n",
       "      <th>has_video</th>\n",
       "      <th>url_video</th>\n",
       "      <th>comp_type</th>\n",
       "      <th>comp_name</th>\n",
       "    </tr>\n",
       "  </thead>\n",
       "  <tbody>\n",
       "    <tr>\n",
       "      <th>0</th>\n",
       "      <td>1</td>\n",
       "      <td>ABE Hifumi</td>\n",
       "      <td>SERIKZHANOV Yerlan</td>\n",
       "      <td>100</td>\n",
       "      <td>0</td>\n",
       "      <td>02:47</td>\n",
       "      <td>2018-09-20</td>\n",
       "      <td>World Championships Baku 2018</td>\n",
       "      <td>-66 kg</td>\n",
       "      <td>Final</td>\n",
       "      <td>True</td>\n",
       "      <td>https://judobase.ijf.org/#/competition/contest...</td>\n",
       "      <td>World Championships</td>\n",
       "      <td>Baku 2018</td>\n",
       "    </tr>\n",
       "    <tr>\n",
       "      <th>1</th>\n",
       "      <td>1</td>\n",
       "      <td>ABE Hifumi</td>\n",
       "      <td>AN Baul</td>\n",
       "      <td>10</td>\n",
       "      <td>0</td>\n",
       "      <td>02:38</td>\n",
       "      <td>2018-09-20</td>\n",
       "      <td>World Championships Baku 2018</td>\n",
       "      <td>-66 kg</td>\n",
       "      <td>Semi-Final</td>\n",
       "      <td>True</td>\n",
       "      <td>https://judobase.ijf.org/#/competition/contest...</td>\n",
       "      <td>World Championships</td>\n",
       "      <td>Baku 2018</td>\n",
       "    </tr>\n",
       "    <tr>\n",
       "      <th>2</th>\n",
       "      <td>1</td>\n",
       "      <td>ABE Hifumi</td>\n",
       "      <td>ZANTARAIA Georgii</td>\n",
       "      <td>100</td>\n",
       "      <td>0</td>\n",
       "      <td>03:10</td>\n",
       "      <td>2018-09-20</td>\n",
       "      <td>World Championships Baku 2018</td>\n",
       "      <td>-66 kg</td>\n",
       "      <td>Quarter-Final</td>\n",
       "      <td>True</td>\n",
       "      <td>https://judobase.ijf.org/#/competition/contest...</td>\n",
       "      <td>World Championships</td>\n",
       "      <td>Baku 2018</td>\n",
       "    </tr>\n",
       "    <tr>\n",
       "      <th>3</th>\n",
       "      <td>1</td>\n",
       "      <td>ABE Hifumi</td>\n",
       "      <td>VIERU Denis</td>\n",
       "      <td>10</td>\n",
       "      <td>0</td>\n",
       "      <td>00:00</td>\n",
       "      <td>2018-09-20</td>\n",
       "      <td>World Championships Baku 2018</td>\n",
       "      <td>-66 kg</td>\n",
       "      <td>Round 4</td>\n",
       "      <td>True</td>\n",
       "      <td>https://judobase.ijf.org/#/competition/contest...</td>\n",
       "      <td>World Championships</td>\n",
       "      <td>Baku 2018</td>\n",
       "    </tr>\n",
       "    <tr>\n",
       "      <th>4</th>\n",
       "      <td>1</td>\n",
       "      <td>ABE Hifumi</td>\n",
       "      <td>MEDVES Matteo</td>\n",
       "      <td>100</td>\n",
       "      <td>0</td>\n",
       "      <td>02:57</td>\n",
       "      <td>2018-09-20</td>\n",
       "      <td>World Championships Baku 2018</td>\n",
       "      <td>-66 kg</td>\n",
       "      <td>Round 3</td>\n",
       "      <td>True</td>\n",
       "      <td>https://judobase.ijf.org/#/competition/contest...</td>\n",
       "      <td>World Championships</td>\n",
       "      <td>Baku 2018</td>\n",
       "    </tr>\n",
       "  </tbody>\n",
       "</table>\n",
       "</div>"
      ],
      "text/plain": [
       "   wins       local            opponent  local_points  opponent_points  \\\n",
       "0     1  ABE Hifumi  SERIKZHANOV Yerlan           100                0   \n",
       "1     1  ABE Hifumi             AN Baul            10                0   \n",
       "2     1  ABE Hifumi   ZANTARAIA Georgii           100                0   \n",
       "3     1  ABE Hifumi         VIERU Denis            10                0   \n",
       "4     1  ABE Hifumi       MEDVES Matteo           100                0   \n",
       "\n",
       "  duration       date                          event category          round  \\\n",
       "0    02:47 2018-09-20  World Championships Baku 2018   -66 kg          Final   \n",
       "1    02:38 2018-09-20  World Championships Baku 2018   -66 kg     Semi-Final   \n",
       "2    03:10 2018-09-20  World Championships Baku 2018   -66 kg  Quarter-Final   \n",
       "3    00:00 2018-09-20  World Championships Baku 2018   -66 kg        Round 4   \n",
       "4    02:57 2018-09-20  World Championships Baku 2018   -66 kg        Round 3   \n",
       "\n",
       "   has_video                                          url_video  \\\n",
       "0       True  https://judobase.ijf.org/#/competition/contest...   \n",
       "1       True  https://judobase.ijf.org/#/competition/contest...   \n",
       "2       True  https://judobase.ijf.org/#/competition/contest...   \n",
       "3       True  https://judobase.ijf.org/#/competition/contest...   \n",
       "4       True  https://judobase.ijf.org/#/competition/contest...   \n",
       "\n",
       "             comp_type  comp_name  \n",
       "0  World Championships  Baku 2018  \n",
       "1  World Championships  Baku 2018  \n",
       "2  World Championships  Baku 2018  \n",
       "3  World Championships  Baku 2018  \n",
       "4  World Championships  Baku 2018  "
      ]
     },
     "execution_count": 13,
     "metadata": {},
     "output_type": "execute_result"
    }
   ],
   "source": [
    "df.head()"
   ]
  },
  {
   "cell_type": "code",
   "execution_count": null,
   "metadata": {
    "collapsed": true
   },
   "outputs": [],
   "source": []
  },
  {
   "cell_type": "markdown",
   "metadata": {
    "collapsed": true
   },
   "source": [
    "### Dada url video judobase, extraer info y acceder al youtube"
   ]
  },
  {
   "cell_type": "code",
   "execution_count": 14,
   "metadata": {
    "collapsed": true
   },
   "outputs": [],
   "source": [
    "# elige una random y ábrela\n",
    "while True:\n",
    "    url = df.sample(1).iloc[0].url_video\n",
    "    if not pd.isnull(url):\n",
    "        break"
   ]
  },
  {
   "cell_type": "code",
   "execution_count": 15,
   "metadata": {
    "collapsed": true
   },
   "outputs": [],
   "source": [
    "driver.get(url)\n",
    "time.sleep(.5)"
   ]
  },
  {
   "cell_type": "markdown",
   "metadata": {},
   "source": [
    "### Extraer info"
   ]
  },
  {
   "cell_type": "code",
   "execution_count": 16,
   "metadata": {
    "collapsed": true
   },
   "outputs": [],
   "source": [
    "# extract names\n",
    "local, opponent = map(lambda x: x.text, driver.find_elements_by_class_name('col-xs-6'))\n",
    "local, opponent = map(lambda x: x[:x.find('\\n')], [local, opponent])"
   ]
  },
  {
   "cell_type": "code",
   "execution_count": 17,
   "metadata": {},
   "outputs": [
    {
     "data": {
      "text/plain": [
       "'MATEO Wander'"
      ]
     },
     "execution_count": 17,
     "metadata": {},
     "output_type": "execute_result"
    }
   ],
   "source": [
    "local"
   ]
  },
  {
   "cell_type": "code",
   "execution_count": 18,
   "metadata": {},
   "outputs": [
    {
     "data": {
      "text/plain": [
       "'ALTYNBEK UULU Almaz'"
      ]
     },
     "execution_count": 18,
     "metadata": {},
     "output_type": "execute_result"
    }
   ],
   "source": [
    "opponent"
   ]
  },
  {
   "cell_type": "code",
   "execution_count": 19,
   "metadata": {
    "collapsed": true
   },
   "outputs": [],
   "source": [
    "# tabla con puntuaciones etiquetadas en tiempo\n",
    "tabla_timed_points = driver.find_elements_by_tag_name('tbody')[1]"
   ]
  },
  {
   "cell_type": "code",
   "execution_count": 20,
   "metadata": {
    "collapsed": true
   },
   "outputs": [],
   "source": [
    "filas = tabla_timed_points.find_elements_by_tag_name('tr')"
   ]
  },
  {
   "cell_type": "code",
   "execution_count": 21,
   "metadata": {},
   "outputs": [
    {
     "data": {
      "text/plain": [
       "3"
      ]
     },
     "execution_count": 21,
     "metadata": {},
     "output_type": "execute_result"
    }
   ],
   "source": [
    "nrows = len(filas[0].find_elements_by_tag_name('td'))\n",
    "nrows"
   ]
  },
  {
   "cell_type": "code",
   "execution_count": 22,
   "metadata": {},
   "outputs": [
    {
     "name": "stdout",
     "output_type": "stream",
     "text": [
      "3 rows!\n"
     ]
    }
   ],
   "source": [
    "if nrows == 2:\n",
    "    for row_number, row in enumerate(filas):\n",
    "        for col_number, value in enumerate(row.find_elements_by_tag_name('td')):\n",
    "            print(row_number, col_number, value.text)\n",
    "\n",
    "else:\n",
    "    print(f'{nrows} rows!')"
   ]
  },
  {
   "cell_type": "code",
   "execution_count": 23,
   "metadata": {
    "collapsed": true
   },
   "outputs": [],
   "source": [
    "youtube_frame = driver.find_element_by_class_name('js-media')"
   ]
  },
  {
   "cell_type": "code",
   "execution_count": 24,
   "metadata": {
    "collapsed": true
   },
   "outputs": [],
   "source": [
    "driver.switch_to.frame(youtube_frame)"
   ]
  },
  {
   "cell_type": "code",
   "execution_count": 25,
   "metadata": {},
   "outputs": [
    {
     "data": {
      "text/plain": [
       "'https://www.youtube.com/watch?v=TgFQMxD4aNs'"
      ]
     },
     "execution_count": 25,
     "metadata": {},
     "output_type": "execute_result"
    }
   ],
   "source": [
    "url_youtube = driver.find_element_by_class_name('ytp-title-link').get_attribute('href')\n",
    "\n",
    "url_youtube"
   ]
  },
  {
   "cell_type": "code",
   "execution_count": 26,
   "metadata": {
    "collapsed": true
   },
   "outputs": [],
   "source": [
    "seconds = 22"
   ]
  },
  {
   "cell_type": "code",
   "execution_count": 27,
   "metadata": {},
   "outputs": [
    {
     "data": {
      "text/plain": [
       "'https://www.youtube.com/watch?v=TgFQMxD4aNs&t=22'"
      ]
     },
     "execution_count": 27,
     "metadata": {},
     "output_type": "execute_result"
    }
   ],
   "source": [
    "url_youtube_time = url_youtube + '&t=' + str(seconds)\n",
    "url_youtube_time"
   ]
  },
  {
   "cell_type": "code",
   "execution_count": 28,
   "metadata": {
    "collapsed": true
   },
   "outputs": [],
   "source": [
    "driver.get(url_youtube_time)"
   ]
  },
  {
   "cell_type": "code",
   "execution_count": null,
   "metadata": {
    "collapsed": true
   },
   "outputs": [],
   "source": []
  },
  {
   "cell_type": "code",
   "execution_count": null,
   "metadata": {
    "collapsed": true
   },
   "outputs": [],
   "source": []
  },
  {
   "cell_type": "code",
   "execution_count": null,
   "metadata": {
    "collapsed": true
   },
   "outputs": [],
   "source": []
  },
  {
   "cell_type": "markdown",
   "metadata": {
    "collapsed": true
   },
   "source": [
    "### Youtube downloads"
   ]
  },
  {
   "cell_type": "code",
   "execution_count": 29,
   "metadata": {
    "collapsed": true
   },
   "outputs": [],
   "source": [
    "from pytube import YouTube"
   ]
  },
  {
   "cell_type": "code",
   "execution_count": 30,
   "metadata": {
    "collapsed": true
   },
   "outputs": [],
   "source": [
    "y = YouTube(url_youtube_time)"
   ]
  },
  {
   "cell_type": "code",
   "execution_count": 31,
   "metadata": {},
   "outputs": [
    {
     "data": {
      "text/plain": [
       "['age_restricted',\n",
       " 'caption_tracks',\n",
       " 'captions',\n",
       " 'description',\n",
       " 'embed_html',\n",
       " 'embed_url',\n",
       " 'fmt_streams',\n",
       " 'init',\n",
       " 'initialize_caption_objects',\n",
       " 'initialize_stream_objects',\n",
       " 'js',\n",
       " 'js_url',\n",
       " 'length',\n",
       " 'player_config_args',\n",
       " 'prefetch',\n",
       " 'prefetch_init',\n",
       " 'rating',\n",
       " 'register_on_complete_callback',\n",
       " 'register_on_progress_callback',\n",
       " 'stream_monostate',\n",
       " 'streams',\n",
       " 'thumbnail_url',\n",
       " 'title',\n",
       " 'vid_descr',\n",
       " 'vid_info',\n",
       " 'vid_info_url',\n",
       " 'video_id',\n",
       " 'views',\n",
       " 'watch_html',\n",
       " 'watch_url']"
      ]
     },
     "execution_count": 31,
     "metadata": {},
     "output_type": "execute_result"
    }
   ],
   "source": [
    "[d for d in dir(y) if d[0]!='_']"
   ]
  },
  {
   "cell_type": "code",
   "execution_count": 32,
   "metadata": {
    "collapsed": true
   },
   "outputs": [],
   "source": [
    "video = y.streams.filter(res='720p', mime_type='video/mp4').first()"
   ]
  },
  {
   "cell_type": "code",
   "execution_count": 33,
   "metadata": {
    "collapsed": true
   },
   "outputs": [],
   "source": [
    "assert video is not None, 'No video'"
   ]
  },
  {
   "cell_type": "code",
   "execution_count": 34,
   "metadata": {},
   "outputs": [
    {
     "data": {
      "text/plain": [
       "'C:\\\\Users\\\\manuel.lopez\\\\Documents\\\\scrape\\\\0e6a72df62d07aa6cc043c46d63ad5e7\\\\judo720p3.mp4'"
      ]
     },
     "execution_count": 34,
     "metadata": {},
     "output_type": "execute_result"
    }
   ],
   "source": [
    "video.download(filename='judo720p3')"
   ]
  },
  {
   "cell_type": "markdown",
   "metadata": {},
   "source": [
    "### Edición con moviepy"
   ]
  },
  {
   "cell_type": "code",
   "execution_count": 1,
   "metadata": {},
   "outputs": [
    {
     "data": {
      "text/plain": [
       "3"
      ]
     },
     "execution_count": 1,
     "metadata": {},
     "output_type": "execute_result"
    }
   ],
   "source": [
    "3"
   ]
  },
  {
   "cell_type": "code",
   "execution_count": 2,
   "metadata": {},
   "outputs": [
    {
     "name": "stdout",
     "output_type": "stream",
     "text": [
      "pygame 1.9.4\n",
      "Hello from the pygame community. https://www.pygame.org/contribute.html\n"
     ]
    }
   ],
   "source": [
    "from moviepy.editor import VideoFileClip, TextClip, CompositeVideoClip, concatenate_videoclips"
   ]
  },
  {
   "cell_type": "code",
   "execution_count": 3,
   "metadata": {
    "collapsed": true
   },
   "outputs": [],
   "source": [
    "# Load myHolidays.mp4 and select the subclip 00:00:50 - 00:00:60\n",
    "clip = VideoFileClip('./judo720p3.mp4')"
   ]
  },
  {
   "cell_type": "code",
   "execution_count": 4,
   "metadata": {},
   "outputs": [
    {
     "data": {
      "text/plain": [
       "416.82"
      ]
     },
     "execution_count": 4,
     "metadata": {},
     "output_type": "execute_result"
    }
   ],
   "source": [
    "clip.duration"
   ]
  },
  {
   "cell_type": "code",
   "execution_count": 5,
   "metadata": {
    "collapsed": true
   },
   "outputs": [],
   "source": [
    "cortes = [clip.subclip(t, t+5) for t in range(10, 40, 10)]"
   ]
  },
  {
   "cell_type": "code",
   "execution_count": 6,
   "metadata": {},
   "outputs": [
    {
     "data": {
      "text/plain": [
       "3"
      ]
     },
     "execution_count": 6,
     "metadata": {},
     "output_type": "execute_result"
    }
   ],
   "source": [
    "len(cortes)"
   ]
  },
  {
   "cell_type": "code",
   "execution_count": 31,
   "metadata": {
    "collapsed": true
   },
   "outputs": [],
   "source": [
    "text0.set_position??"
   ]
  },
  {
   "cell_type": "code",
   "execution_count": 34,
   "metadata": {},
   "outputs": [],
   "source": [
    "text0 = TextClip(\"Primer chunk\", fontsize=70, color='red').set_position(('right', 'top'), relative=True).set_duration(5)\n",
    "text1 = TextClip(\"Segundo chunk\", fontsize=70, color='blue').set_position((0.4, 0), relative=True).set_duration(5)\n",
    "text2 = TextClip(\"Tercer chunk\", fontsize=70, color='green').set_position((0.8, 0), relative=True).set_duration(5)\n",
    "\n",
    "textos = (text0, text1, text2)"
   ]
  },
  {
   "cell_type": "code",
   "execution_count": 35,
   "metadata": {},
   "outputs": [],
   "source": [
    "cortes_texto = [CompositeVideoClip([corte, texto]) for corte, texto in zip(cortes, textos)]"
   ]
  },
  {
   "cell_type": "code",
   "execution_count": 36,
   "metadata": {},
   "outputs": [
    {
     "data": {
      "text/plain": [
       "5"
      ]
     },
     "execution_count": 36,
     "metadata": {},
     "output_type": "execute_result"
    }
   ],
   "source": [
    "cortes_texto[0].duration"
   ]
  },
  {
   "cell_type": "code",
   "execution_count": 37,
   "metadata": {},
   "outputs": [],
   "source": [
    "final_clip = concatenate_videoclips(cortes_texto)"
   ]
  },
  {
   "cell_type": "code",
   "execution_count": 39,
   "metadata": {},
   "outputs": [
    {
     "name": "stdout",
     "output_type": "stream",
     "text": [
      "[MoviePy] >>>> Building video my_concatenation.mp4\n",
      "[MoviePy] Writing audio in my_concatenationTEMP_MPY_wvf_snd.mp3\n"
     ]
    },
    {
     "name": "stderr",
     "output_type": "stream",
     "text": [
      "100%|███████████████████████████████████████████████████████████████████████████████| 331/331 [00:01<00:00, 304.79it/s]\n"
     ]
    },
    {
     "name": "stdout",
     "output_type": "stream",
     "text": [
      "[MoviePy] Done.\n",
      "[MoviePy] Writing video my_concatenation.mp4\n"
     ]
    },
    {
     "name": "stderr",
     "output_type": "stream",
     "text": [
      "100%|███████████████████████████████████████████████████████████████████████████████▊| 375/376 [00:20<00:00, 18.59it/s]\n"
     ]
    },
    {
     "name": "stdout",
     "output_type": "stream",
     "text": [
      "[MoviePy] Done.\n",
      "[MoviePy] >>>> Video ready: my_concatenation.mp4 \n",
      "\n"
     ]
    }
   ],
   "source": [
    "final_clip.write_videofile(\"my_concatenation.mp4\")"
   ]
  },
  {
   "cell_type": "code",
   "execution_count": null,
   "metadata": {
    "collapsed": true
   },
   "outputs": [],
   "source": []
  }
 ],
 "metadata": {
  "kernelspec": {
   "display_name": "Python 3",
   "language": "python",
   "name": "python3"
  },
  "language_info": {
   "codemirror_mode": {
    "name": "ipython",
    "version": 3
   },
   "file_extension": ".py",
   "mimetype": "text/x-python",
   "name": "python",
   "nbconvert_exporter": "python",
   "pygments_lexer": "ipython3",
   "version": "3.6.2"
  }
 },
 "nbformat": 4,
 "nbformat_minor": 2
}
