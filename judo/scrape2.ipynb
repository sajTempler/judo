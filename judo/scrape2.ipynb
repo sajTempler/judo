{
 "cells": [
  {
   "cell_type": "code",
   "execution_count": 1,
   "metadata": {},
   "outputs": [],
   "source": [
    "from selenium.webdriver.common.keys import Keys\n",
    "import pandas as pd\n",
    "import time\n",
    "import pandas as pd\n",
    "import re\n",
    "\n",
    "from lib import SQLiteConnection\n",
    "from lib import get_info_video_judobase\n",
    "from lib import load_chromedriver"
   ]
  },
  {
   "cell_type": "code",
   "execution_count": 2,
   "metadata": {},
   "outputs": [],
   "source": [
    "import traceback"
   ]
  },
  {
   "cell_type": "code",
   "execution_count": 71,
   "metadata": {},
   "outputs": [],
   "source": [
    "df = df.rename(columns={'action2': 'action_detail'})"
   ]
  },
  {
   "cell_type": "markdown",
   "metadata": {},
   "source": [
    "### Battles Estrella"
   ]
  },
  {
   "cell_type": "code",
   "execution_count": 65,
   "metadata": {},
   "outputs": [],
   "source": [
    "# dataframe containing battles info\n",
    "df = conn.as_pandas('select * from estre')"
   ]
  },
  {
   "cell_type": "code",
   "execution_count": 67,
   "metadata": {},
   "outputs": [
    {
     "data": {
      "text/html": [
       "<div>\n",
       "<style scoped>\n",
       "    .dataframe tbody tr th:only-of-type {\n",
       "        vertical-align: middle;\n",
       "    }\n",
       "\n",
       "    .dataframe tbody tr th {\n",
       "        vertical-align: top;\n",
       "    }\n",
       "\n",
       "    .dataframe thead th {\n",
       "        text-align: right;\n",
       "    }\n",
       "</style>\n",
       "<table border=\"1\" class=\"dataframe\">\n",
       "  <thead>\n",
       "    <tr style=\"text-align: right;\">\n",
       "      <th></th>\n",
       "      <th>opponent</th>\n",
       "      <th>you</th>\n",
       "      <th>action</th>\n",
       "      <th>action_detail</th>\n",
       "      <th>time</th>\n",
       "      <th>url_youtube</th>\n",
       "      <th>event</th>\n",
       "    </tr>\n",
       "  </thead>\n",
       "  <tbody>\n",
       "    <tr>\n",
       "      <th>0</th>\n",
       "      <td>PARK Da Sol</td>\n",
       "      <td>1</td>\n",
       "      <td>Shido</td>\n",
       "      <td>Shido / False-Attack</td>\n",
       "      <td>00:15</td>\n",
       "      <td>https://judobase.ijf.org/#/competition/contest...</td>\n",
       "      <td>Grand Slam Osaka 2018</td>\n",
       "    </tr>\n",
       "    <tr>\n",
       "      <th>1</th>\n",
       "      <td>PARK Da Sol</td>\n",
       "      <td>0</td>\n",
       "      <td>Shido</td>\n",
       "      <td>Shido / False-Attack</td>\n",
       "      <td>01:29</td>\n",
       "      <td>https://judobase.ijf.org/#/competition/contest...</td>\n",
       "      <td>Grand Slam Osaka 2018</td>\n",
       "    </tr>\n",
       "    <tr>\n",
       "      <th>2</th>\n",
       "      <td>PARK Da Sol</td>\n",
       "      <td>1</td>\n",
       "      <td>Shido</td>\n",
       "      <td>Shido / Non-Combativity</td>\n",
       "      <td>03:38</td>\n",
       "      <td>https://judobase.ijf.org/#/competition/contest...</td>\n",
       "      <td>Grand Slam Osaka 2018</td>\n",
       "    </tr>\n",
       "    <tr>\n",
       "      <th>3</th>\n",
       "      <td>PARK Da Sol</td>\n",
       "      <td>0</td>\n",
       "      <td>Ippon</td>\n",
       "      <td></td>\n",
       "      <td>03:46</td>\n",
       "      <td>https://judobase.ijf.org/#/competition/contest...</td>\n",
       "      <td>Grand Slam Osaka 2018</td>\n",
       "    </tr>\n",
       "    <tr>\n",
       "      <th>4</th>\n",
       "      <td>PUPP Reka</td>\n",
       "      <td>1</td>\n",
       "      <td>Shido</td>\n",
       "      <td>Shido / Non-Combativity</td>\n",
       "      <td>01:22</td>\n",
       "      <td>https://judobase.ijf.org/#/competition/contest...</td>\n",
       "      <td>Grand Prix The Hague 2018</td>\n",
       "    </tr>\n",
       "  </tbody>\n",
       "</table>\n",
       "</div>"
      ],
      "text/plain": [
       "      opponent  you action            action_detail   time  \\\n",
       "0  PARK Da Sol    1  Shido     Shido / False-Attack  00:15   \n",
       "1  PARK Da Sol    0  Shido     Shido / False-Attack  01:29   \n",
       "2  PARK Da Sol    1  Shido  Shido / Non-Combativity  03:38   \n",
       "3  PARK Da Sol    0  Ippon                           03:46   \n",
       "4    PUPP Reka    1  Shido  Shido / Non-Combativity  01:22   \n",
       "\n",
       "                                         url_youtube  \\\n",
       "0  https://judobase.ijf.org/#/competition/contest...   \n",
       "1  https://judobase.ijf.org/#/competition/contest...   \n",
       "2  https://judobase.ijf.org/#/competition/contest...   \n",
       "3  https://judobase.ijf.org/#/competition/contest...   \n",
       "4  https://judobase.ijf.org/#/competition/contest...   \n",
       "\n",
       "                       event  \n",
       "0      Grand Slam Osaka 2018  \n",
       "1      Grand Slam Osaka 2018  \n",
       "2      Grand Slam Osaka 2018  \n",
       "3      Grand Slam Osaka 2018  \n",
       "4  Grand Prix The Hague 2018  "
      ]
     },
     "execution_count": 67,
     "metadata": {},
     "output_type": "execute_result"
    }
   ],
   "source": [
    "# ver ejemplo\n",
    "df.head(5)"
   ]
  },
  {
   "cell_type": "markdown",
   "metadata": {},
   "source": [
    "__you__ = 1 significa que es tuyo (el shido, wazari...)  \n",
    "__you__ = 0 significa que es del oponente"
   ]
  },
  {
   "cell_type": "code",
   "execution_count": 68,
   "metadata": {},
   "outputs": [
    {
     "data": {
      "text/plain": [
       "you  action                \n",
       "0    Cancel Waza-ari            2\n",
       "     HSK (3rd shido)            2\n",
       "     Ippon                      4\n",
       "     Shido                     22\n",
       "     Waza-Ari-awasete-ippon     2\n",
       "     Waza-ari                  16\n",
       "1    Ippon                      3\n",
       "     Shido                     21\n",
       "     Waza-Ari-awasete-ippon     1\n",
       "     Waza-ari                   9\n",
       "dtype: int64"
      ]
     },
     "execution_count": 68,
     "metadata": {},
     "output_type": "execute_result"
    }
   ],
   "source": [
    "df.groupby(['you', 'action']).size()"
   ]
  },
  {
   "cell_type": "markdown",
   "metadata": {},
   "source": [
    "### Detail Estrella"
   ]
  },
  {
   "cell_type": "code",
   "execution_count": 69,
   "metadata": {},
   "outputs": [
    {
     "data": {
      "text/plain": [
       "you  action_detail                    \n",
       "0                                          4\n",
       "     Ashi-waza / Hiza-guruma               1\n",
       "     Ashi-waza / O-soto-gaeshi             1\n",
       "     Ashi-waza / O-soto-gari               2\n",
       "     Ashi-waza / O-uchi-gaeshi             1\n",
       "     Ashi-waza / O-uchi-gari               3\n",
       "     Ashi-waza / Okuri-ashi-harai          1\n",
       "     Ashi-waza / Uchi-mata                 1\n",
       "     Cancel Yuko                           1\n",
       "     Ma-sutemi-waza / Sumi-gaeshi          1\n",
       "     Ma-sutemi-waza / Tomoe-nage           1\n",
       "     Osaekomi-waza / Kesa-gatame           1\n",
       "     Shido / Avoid-Grip                    4\n",
       "     Shido / Defensive-Posture             4\n",
       "     Shido / False-Attack                  4\n",
       "     Shido / Hold-Sleeve-Ends              2\n",
       "     Shido / Hold-Trouser-Leg              1\n",
       "     Shido / Non-Combativity               7\n",
       "     Shido / Outside-Contest-Area          2\n",
       "     Te-waza / Ippon-seoi-nage             1\n",
       "     Te-waza / Seoi-nage                   2\n",
       "     Te-waza / Sumi-otoshi                 1\n",
       "     Yoko-sutemi-waza / Harai-makikomi     1\n",
       "     Yoko-sutemi-waza / Tani-otoshi        1\n",
       "1                                          1\n",
       "     Ashi-waza / O-soto-gaeshi             1\n",
       "     Ashi-waza / Sasae-tsurikomi-ashi      1\n",
       "     Ma-sutemi-waza / Sumi-gaeshi          2\n",
       "     Osaekomi-waza / Yoko-shiho-gatame     2\n",
       "     Shido / Avoid-Grip                    1\n",
       "     Shido / Bend-Opps-Fingers             1\n",
       "     Shido / Escape-With-Head              1\n",
       "     Shido / False-Attack                  7\n",
       "     Shido / Hold-Same-Side                1\n",
       "     Shido / Non-Combativity              10\n",
       "     Te-waza / Ippon-seoi-nage             2\n",
       "     Te-waza / Ko-uchi-gaeshi              1\n",
       "     Te-waza / Sumi-otoshi                 1\n",
       "     Te-waza / Uchi-mata-sukashi           1\n",
       "     Yoko-sutemi-waza / Harai-makikomi     1\n",
       "dtype: int64"
      ]
     },
     "execution_count": 69,
     "metadata": {},
     "output_type": "execute_result"
    }
   ],
   "source": [
    "df.groupby(['you', 'action_detail']).size()"
   ]
  },
  {
   "cell_type": "markdown",
   "metadata": {},
   "source": [
    "### Battles Gaitero"
   ]
  },
  {
   "cell_type": "code",
   "execution_count": 70,
   "metadata": {},
   "outputs": [],
   "source": [
    "# dataframe containing battles info\n",
    "df = conn.as_pandas('select * from gaite')"
   ]
  },
  {
   "cell_type": "code",
   "execution_count": 72,
   "metadata": {},
   "outputs": [
    {
     "data": {
      "text/html": [
       "<div>\n",
       "<style scoped>\n",
       "    .dataframe tbody tr th:only-of-type {\n",
       "        vertical-align: middle;\n",
       "    }\n",
       "\n",
       "    .dataframe tbody tr th {\n",
       "        vertical-align: top;\n",
       "    }\n",
       "\n",
       "    .dataframe thead th {\n",
       "        text-align: right;\n",
       "    }\n",
       "</style>\n",
       "<table border=\"1\" class=\"dataframe\">\n",
       "  <thead>\n",
       "    <tr style=\"text-align: right;\">\n",
       "      <th></th>\n",
       "      <th>opponent</th>\n",
       "      <th>you</th>\n",
       "      <th>action</th>\n",
       "      <th>action_detail</th>\n",
       "      <th>time</th>\n",
       "      <th>url_youtube</th>\n",
       "      <th>event</th>\n",
       "    </tr>\n",
       "  </thead>\n",
       "  <tbody>\n",
       "    <tr>\n",
       "      <th>0</th>\n",
       "      <td>SHMAILOV Baruch</td>\n",
       "      <td>1</td>\n",
       "      <td>Shido</td>\n",
       "      <td>Shido / False-Attack</td>\n",
       "      <td>00:22</td>\n",
       "      <td>https://judobase.ijf.org/#/competition/contest...</td>\n",
       "      <td>Grand Prix The Hague 2018</td>\n",
       "    </tr>\n",
       "    <tr>\n",
       "      <th>1</th>\n",
       "      <td>SHMAILOV Baruch</td>\n",
       "      <td>0</td>\n",
       "      <td>Shido</td>\n",
       "      <td>Shido / False-Attack</td>\n",
       "      <td>01:28</td>\n",
       "      <td>https://judobase.ijf.org/#/competition/contest...</td>\n",
       "      <td>Grand Prix The Hague 2018</td>\n",
       "    </tr>\n",
       "    <tr>\n",
       "      <th>2</th>\n",
       "      <td>SHMAILOV Baruch</td>\n",
       "      <td>1</td>\n",
       "      <td>Shido</td>\n",
       "      <td>Shido / Hold-Trouser-Leg</td>\n",
       "      <td>03:55</td>\n",
       "      <td>https://judobase.ijf.org/#/competition/contest...</td>\n",
       "      <td>Grand Prix The Hague 2018</td>\n",
       "    </tr>\n",
       "    <tr>\n",
       "      <th>3</th>\n",
       "      <td>SHMAILOV Baruch</td>\n",
       "      <td>0</td>\n",
       "      <td>Ippon</td>\n",
       "      <td>Ashi-waza / Uchi-mata</td>\n",
       "      <td>04:23</td>\n",
       "      <td>https://judobase.ijf.org/#/competition/contest...</td>\n",
       "      <td>Grand Prix The Hague 2018</td>\n",
       "    </tr>\n",
       "    <tr>\n",
       "      <th>4</th>\n",
       "      <td>BAI Zhijie</td>\n",
       "      <td>1</td>\n",
       "      <td>Shido</td>\n",
       "      <td>Shido / Avoid-Grip</td>\n",
       "      <td>01:34</td>\n",
       "      <td>https://judobase.ijf.org/#/competition/contest...</td>\n",
       "      <td>Grand Prix The Hague 2018</td>\n",
       "    </tr>\n",
       "  </tbody>\n",
       "</table>\n",
       "</div>"
      ],
      "text/plain": [
       "          opponent  you action             action_detail   time  \\\n",
       "0  SHMAILOV Baruch    1  Shido      Shido / False-Attack  00:22   \n",
       "1  SHMAILOV Baruch    0  Shido      Shido / False-Attack  01:28   \n",
       "2  SHMAILOV Baruch    1  Shido  Shido / Hold-Trouser-Leg  03:55   \n",
       "3  SHMAILOV Baruch    0  Ippon     Ashi-waza / Uchi-mata  04:23   \n",
       "4       BAI Zhijie    1  Shido        Shido / Avoid-Grip  01:34   \n",
       "\n",
       "                                         url_youtube  \\\n",
       "0  https://judobase.ijf.org/#/competition/contest...   \n",
       "1  https://judobase.ijf.org/#/competition/contest...   \n",
       "2  https://judobase.ijf.org/#/competition/contest...   \n",
       "3  https://judobase.ijf.org/#/competition/contest...   \n",
       "4  https://judobase.ijf.org/#/competition/contest...   \n",
       "\n",
       "                       event  \n",
       "0  Grand Prix The Hague 2018  \n",
       "1  Grand Prix The Hague 2018  \n",
       "2  Grand Prix The Hague 2018  \n",
       "3  Grand Prix The Hague 2018  \n",
       "4  Grand Prix The Hague 2018  "
      ]
     },
     "execution_count": 72,
     "metadata": {},
     "output_type": "execute_result"
    }
   ],
   "source": [
    "# ver ejemplo\n",
    "df.head(5)"
   ]
  },
  {
   "cell_type": "markdown",
   "metadata": {},
   "source": [
    "__you__ = 1 significa que es tuyo (el shido, wazari...)  \n",
    "__you__ = 0 significa que es del oponente"
   ]
  },
  {
   "cell_type": "code",
   "execution_count": 73,
   "metadata": {},
   "outputs": [
    {
     "data": {
      "text/plain": [
       "you  action         \n",
       "0    Cancel Shido        1\n",
       "     HSK (3rd shido)     5\n",
       "     Ippon               6\n",
       "     Shido              24\n",
       "     Waza-ari            6\n",
       "1    Cancel Ippon        2\n",
       "     Cancel Waza-ari     1\n",
       "     HSK (3rd shido)     4\n",
       "     Ippon               1\n",
       "     Shido              38\n",
       "     Waza-ari           11\n",
       "dtype: int64"
      ]
     },
     "execution_count": 73,
     "metadata": {},
     "output_type": "execute_result"
    }
   ],
   "source": [
    "df.groupby(['you', 'action']).size()"
   ]
  },
  {
   "cell_type": "markdown",
   "metadata": {},
   "source": [
    "### Detail Gaitero"
   ]
  },
  {
   "cell_type": "code",
   "execution_count": 74,
   "metadata": {},
   "outputs": [
    {
     "data": {
      "text/plain": [
       "you  action_detail                     \n",
       "0    Ashi-waza / Ko-uchi-gari               1\n",
       "     Ashi-waza / O-uchi-gari                2\n",
       "     Ashi-waza / Uchi-mata                  1\n",
       "     Koshi-waza / Sode-tsurikomi-goshi      1\n",
       "     Koshi-waza / Tsuri-goshi               1\n",
       "     Osaekomi-waza / Kesa-gatame            1\n",
       "     Osaekomi-waza / Ura-gatame             1\n",
       "     Osaekomi-waza / Yoko-shiho-gatame      1\n",
       "     Shido / Avoid-Grip                     1\n",
       "     Shido / Defensive-Posture              2\n",
       "     Shido / False-Attack                  11\n",
       "     Shido / Hold-Same-Side                 1\n",
       "     Shido / Non-Combativity               11\n",
       "     Shido / Outside-Contest-Area           4\n",
       "     Te-waza / Seoi-nage                    1\n",
       "     Te-waza / Tai-otoshi                   1\n",
       "     Yoko-sutemi-waza / O-soto-makikomi     1\n",
       "1                                           4\n",
       "     Ashi-waza / O-uchi-gaeshi              1\n",
       "     Ashi-waza / Uchi-mata-gaeshi           1\n",
       "     Koshi-waza / Sode-tsurikomi-goshi      1\n",
       "     Ma-sutemi-waza / Sumi-gaeshi           3\n",
       "     Osaekomi-waza / Tate-shiho-gatame      1\n",
       "     Shido / Avoid-Grip                     6\n",
       "     Shido / Defensive-Posture              3\n",
       "     Shido / Escape-With-Head               1\n",
       "     Shido / False-Attack                   6\n",
       "     Shido / Fingers-In-Sleeve              1\n",
       "     Shido / Fingers-interlocked            1\n",
       "     Shido / Hold-Sleeve-Ends               1\n",
       "     Shido / Hold-Trouser-Leg               1\n",
       "     Shido / Non-Combativity               17\n",
       "     Shido / Outside-Contest-Area           2\n",
       "     Shido / Pistol-Grip                    1\n",
       "     Shido / Undetermined                   1\n",
       "     Te-waza / Ippon-seoi-nage              1\n",
       "     Te-waza / Uchi-mata-sukashi            1\n",
       "     Yoko-sutemi-waza / Tani-otoshi         3\n",
       "dtype: int64"
      ]
     },
     "execution_count": 74,
     "metadata": {},
     "output_type": "execute_result"
    }
   ],
   "source": [
    "df.groupby(['you', 'action_detail']).size()"
   ]
  },
  {
   "cell_type": "markdown",
   "metadata": {},
   "source": [
    "### Battles Competidor Obtener"
   ]
  },
  {
   "cell_type": "code",
   "execution_count": 15,
   "metadata": {},
   "outputs": [],
   "source": [
    "driver = load_chromedriver(en_casa=True)"
   ]
  },
  {
   "cell_type": "code",
   "execution_count": 16,
   "metadata": {},
   "outputs": [],
   "source": [
    "nombre = 'GAITERO MARTIN Alberto'"
   ]
  },
  {
   "cell_type": "code",
   "execution_count": 18,
   "metadata": {},
   "outputs": [
    {
     "data": {
      "text/html": [
       "<div>\n",
       "<style scoped>\n",
       "    .dataframe tbody tr th:only-of-type {\n",
       "        vertical-align: middle;\n",
       "    }\n",
       "\n",
       "    .dataframe tbody tr th {\n",
       "        vertical-align: top;\n",
       "    }\n",
       "\n",
       "    .dataframe thead th {\n",
       "        text-align: right;\n",
       "    }\n",
       "</style>\n",
       "<table border=\"1\" class=\"dataframe\">\n",
       "  <thead>\n",
       "    <tr style=\"text-align: right;\">\n",
       "      <th></th>\n",
       "      <th>wins</th>\n",
       "      <th>local</th>\n",
       "      <th>opponent</th>\n",
       "      <th>event</th>\n",
       "      <th>date</th>\n",
       "      <th>round</th>\n",
       "      <th>local_points</th>\n",
       "      <th>opponent_points</th>\n",
       "      <th>duration</th>\n",
       "      <th>category</th>\n",
       "      <th>has_video</th>\n",
       "      <th>competition_family</th>\n",
       "      <th>url_video</th>\n",
       "    </tr>\n",
       "  </thead>\n",
       "  <tbody>\n",
       "    <tr>\n",
       "      <th>0</th>\n",
       "      <td>0</td>\n",
       "      <td>GAITERO MARTIN Alberto</td>\n",
       "      <td>SHMAILOV Baruch</td>\n",
       "      <td>Grand Prix The Hague 2018</td>\n",
       "      <td>2018-11-16</td>\n",
       "      <td>Round 3</td>\n",
       "      <td>0</td>\n",
       "      <td>100</td>\n",
       "      <td>04:23</td>\n",
       "      <td>men_66</td>\n",
       "      <td>1</td>\n",
       "      <td>Grand Prix</td>\n",
       "      <td>https://judobase.ijf.org/#/competition/contest...</td>\n",
       "    </tr>\n",
       "    <tr>\n",
       "      <th>1</th>\n",
       "      <td>1</td>\n",
       "      <td>GAITERO MARTIN Alberto</td>\n",
       "      <td>BAI ZHIJIE</td>\n",
       "      <td>Grand Prix The Hague 2018</td>\n",
       "      <td>2018-11-16</td>\n",
       "      <td>Round 2</td>\n",
       "      <td>10</td>\n",
       "      <td>0</td>\n",
       "      <td>04:00</td>\n",
       "      <td>men_66</td>\n",
       "      <td>1</td>\n",
       "      <td>Grand Prix</td>\n",
       "      <td>https://judobase.ijf.org/#/competition/contest...</td>\n",
       "    </tr>\n",
       "    <tr>\n",
       "      <th>2</th>\n",
       "      <td>1</td>\n",
       "      <td>GAITERO MARTIN Alberto</td>\n",
       "      <td>GAFUROV Mirzoiusuf</td>\n",
       "      <td>European Championships Gyor 2018</td>\n",
       "      <td>2018-11-02</td>\n",
       "      <td>Final</td>\n",
       "      <td>10</td>\n",
       "      <td>0</td>\n",
       "      <td>00:00</td>\n",
       "      <td>men_66</td>\n",
       "      <td>1</td>\n",
       "      <td>Continental Championships</td>\n",
       "      <td>https://judobase.ijf.org/#/competition/contest...</td>\n",
       "    </tr>\n",
       "    <tr>\n",
       "      <th>3</th>\n",
       "      <td>1</td>\n",
       "      <td>GAITERO MARTIN Alberto</td>\n",
       "      <td>NAGLIASHVILI Tornike</td>\n",
       "      <td>European Championships Gyor 2018</td>\n",
       "      <td>2018-11-02</td>\n",
       "      <td>Semi-Final</td>\n",
       "      <td>100</td>\n",
       "      <td>0</td>\n",
       "      <td>03:36</td>\n",
       "      <td>men_66</td>\n",
       "      <td>1</td>\n",
       "      <td>Continental Championships</td>\n",
       "      <td>https://judobase.ijf.org/#/competition/contest...</td>\n",
       "    </tr>\n",
       "    <tr>\n",
       "      <th>4</th>\n",
       "      <td>1</td>\n",
       "      <td>GAITERO MARTIN Alberto</td>\n",
       "      <td>BALKAROV Alim</td>\n",
       "      <td>European Championships Gyor 2018</td>\n",
       "      <td>2018-11-02</td>\n",
       "      <td>Quarter-Final</td>\n",
       "      <td>10</td>\n",
       "      <td>0</td>\n",
       "      <td>05:00</td>\n",
       "      <td>men_66</td>\n",
       "      <td>1</td>\n",
       "      <td>Continental Championships</td>\n",
       "      <td>https://judobase.ijf.org/#/competition/contest...</td>\n",
       "    </tr>\n",
       "  </tbody>\n",
       "</table>\n",
       "</div>"
      ],
      "text/plain": [
       "   wins                   local              opponent  \\\n",
       "0     0  GAITERO MARTIN Alberto       SHMAILOV Baruch   \n",
       "1     1  GAITERO MARTIN Alberto            BAI ZHIJIE   \n",
       "2     1  GAITERO MARTIN Alberto    GAFUROV Mirzoiusuf   \n",
       "3     1  GAITERO MARTIN Alberto  NAGLIASHVILI Tornike   \n",
       "4     1  GAITERO MARTIN Alberto         BALKAROV Alim   \n",
       "\n",
       "                              event       date          round local_points  \\\n",
       "0         Grand Prix The Hague 2018 2018-11-16        Round 3            0   \n",
       "1         Grand Prix The Hague 2018 2018-11-16        Round 2           10   \n",
       "2  European Championships Gyor 2018 2018-11-02          Final           10   \n",
       "3  European Championships Gyor 2018 2018-11-02     Semi-Final          100   \n",
       "4  European Championships Gyor 2018 2018-11-02  Quarter-Final           10   \n",
       "\n",
       "  opponent_points duration category  has_video         competition_family  \\\n",
       "0             100    04:23   men_66          1                 Grand Prix   \n",
       "1               0    04:00   men_66          1                 Grand Prix   \n",
       "2               0    00:00   men_66          1  Continental Championships   \n",
       "3               0    03:36   men_66          1  Continental Championships   \n",
       "4               0    05:00   men_66          1  Continental Championships   \n",
       "\n",
       "                                           url_video  \n",
       "0  https://judobase.ijf.org/#/competition/contest...  \n",
       "1  https://judobase.ijf.org/#/competition/contest...  \n",
       "2  https://judobase.ijf.org/#/competition/contest...  \n",
       "3  https://judobase.ijf.org/#/competition/contest...  \n",
       "4  https://judobase.ijf.org/#/competition/contest...  "
      ]
     },
     "execution_count": 18,
     "metadata": {},
     "output_type": "execute_result"
    }
   ],
   "source": [
    "conn = SQLiteConnection('../judo.sql')\n",
    "\n",
    "battles_comp = conn.as_pandas(f'select * from battles where local==\"{nombre}\"', parse_dates=['date'], index_col='index').reset_index(drop=True)\n",
    "\n",
    "battles_comp.head()"
   ]
  },
  {
   "cell_type": "code",
   "execution_count": 19,
   "metadata": {},
   "outputs": [
    {
     "name": "stdout",
     "output_type": "stream",
     "text": [
      "SHMAILOV Baruch\n",
      "BAI ZHIJIE\n",
      "GAFUROV Mirzoiusuf\n",
      "NAGLIASHVILI Tornike\n",
      "BALKAROV Alim\n",
      "BINHAK Tomas\n",
      "SHERSHAN Dzmitry\n",
      "SERIKZHANOV Yerlan\n",
      "ZHUMAKANOV Yeldos\n",
      "VIERU Denis\n",
      "BOUSHITA Abderrahmane\n",
      "SCHEIBEL Manuel\n",
      "CHIBANA Charles\n",
      "BURNS Nathon\n",
      "RAMIREZ RAMOS David\n",
      "URIARTE Gar\n",
      "ZONIS Eyal\n",
      "HOFAECKER Sebastian\n",
      "PIRAS Matteo\n",
      "OLEINIC Sergiu\n",
      "SHMAILOV Baruch\n",
      "ZANTARAIA Georgii\n",
      "MARIAC Alexandre\n",
      "ABDULZHALILOV Abdula\n",
      "CRISOSTOMO Joao\n",
      "SERIKZHANOV Yerlan\n",
      "AZEMA Kevin\n",
      "VAN GANSBEKE Kenneth\n",
      "SHAMILOV Yakub\n",
      "KHAMETOV Islam\n",
      "VAN HARTEN Matthijs\n",
      "SANDAL Sinan\n",
      "OLEINIC Sergiu\n",
      "BASSOU Imad\n",
      "FLICKER Tal\n",
      "SHMAILOV Baruch\n",
      "JEREB Andraz\n",
      "HERNANDEZ Angel\n",
      "KHACHATRIAN Hevorh\n",
      "URIARTE Gar\n",
      "STEFANELLI Biagio\n",
      "RASKOPINE Alexander\n",
      "GORJANACZ Zsolt\n",
      "MINKOU Dzmitry\n",
      "WAWRZYCZEK Patryk\n",
      "IADOV Bogdan\n",
      "TIEFGRABER Andreas\n",
      "LEFEVERE Jasper\n",
      "ZACHEJA Maciej\n",
      "HASANAGAEV Robert\n"
     ]
    }
   ],
   "source": [
    "all_actions = []\n",
    "\n",
    "for battle in battles_comp.itertuples():\n",
    "    print(battle.opponent)\n",
    "    \n",
    "    if battle.url_video is None:\n",
    "        continue\n",
    "    else:\n",
    "        actions_battle = get_info_video_judobase(battle.local, driver, battle.url_video)\n",
    "        actions_battle = (a + (battle.event,) for a in actions_battle)\n",
    "        all_actions.extend(actions_battle)"
   ]
  },
  {
   "cell_type": "code",
   "execution_count": 20,
   "metadata": {},
   "outputs": [
    {
     "data": {
      "text/html": [
       "<div>\n",
       "<style scoped>\n",
       "    .dataframe tbody tr th:only-of-type {\n",
       "        vertical-align: middle;\n",
       "    }\n",
       "\n",
       "    .dataframe tbody tr th {\n",
       "        vertical-align: top;\n",
       "    }\n",
       "\n",
       "    .dataframe thead th {\n",
       "        text-align: right;\n",
       "    }\n",
       "</style>\n",
       "<table border=\"1\" class=\"dataframe\">\n",
       "  <thead>\n",
       "    <tr style=\"text-align: right;\">\n",
       "      <th></th>\n",
       "      <th>opponent</th>\n",
       "      <th>you</th>\n",
       "      <th>action</th>\n",
       "      <th>action2</th>\n",
       "      <th>time</th>\n",
       "      <th>url_youtube</th>\n",
       "      <th>event</th>\n",
       "    </tr>\n",
       "  </thead>\n",
       "  <tbody>\n",
       "    <tr>\n",
       "      <th>0</th>\n",
       "      <td>SHMAILOV Baruch</td>\n",
       "      <td>1</td>\n",
       "      <td>Shido</td>\n",
       "      <td>Shido / False-Attack</td>\n",
       "      <td>00:22</td>\n",
       "      <td>https://judobase.ijf.org/#/competition/contest...</td>\n",
       "      <td>Grand Prix The Hague 2018</td>\n",
       "    </tr>\n",
       "    <tr>\n",
       "      <th>1</th>\n",
       "      <td>SHMAILOV Baruch</td>\n",
       "      <td>0</td>\n",
       "      <td>Shido</td>\n",
       "      <td>Shido / False-Attack</td>\n",
       "      <td>01:28</td>\n",
       "      <td>https://judobase.ijf.org/#/competition/contest...</td>\n",
       "      <td>Grand Prix The Hague 2018</td>\n",
       "    </tr>\n",
       "    <tr>\n",
       "      <th>2</th>\n",
       "      <td>SHMAILOV Baruch</td>\n",
       "      <td>1</td>\n",
       "      <td>Shido</td>\n",
       "      <td>Shido / Hold-Trouser-Leg</td>\n",
       "      <td>03:55</td>\n",
       "      <td>https://judobase.ijf.org/#/competition/contest...</td>\n",
       "      <td>Grand Prix The Hague 2018</td>\n",
       "    </tr>\n",
       "    <tr>\n",
       "      <th>3</th>\n",
       "      <td>SHMAILOV Baruch</td>\n",
       "      <td>0</td>\n",
       "      <td>Ippon</td>\n",
       "      <td>Ashi-waza / Uchi-mata</td>\n",
       "      <td>04:23</td>\n",
       "      <td>https://judobase.ijf.org/#/competition/contest...</td>\n",
       "      <td>Grand Prix The Hague 2018</td>\n",
       "    </tr>\n",
       "    <tr>\n",
       "      <th>4</th>\n",
       "      <td>BAI Zhijie</td>\n",
       "      <td>1</td>\n",
       "      <td>Shido</td>\n",
       "      <td>Shido / Avoid-Grip</td>\n",
       "      <td>01:34</td>\n",
       "      <td>https://judobase.ijf.org/#/competition/contest...</td>\n",
       "      <td>Grand Prix The Hague 2018</td>\n",
       "    </tr>\n",
       "  </tbody>\n",
       "</table>\n",
       "</div>"
      ],
      "text/plain": [
       "          opponent  you action                   action2   time  \\\n",
       "0  SHMAILOV Baruch    1  Shido      Shido / False-Attack  00:22   \n",
       "1  SHMAILOV Baruch    0  Shido      Shido / False-Attack  01:28   \n",
       "2  SHMAILOV Baruch    1  Shido  Shido / Hold-Trouser-Leg  03:55   \n",
       "3  SHMAILOV Baruch    0  Ippon     Ashi-waza / Uchi-mata  04:23   \n",
       "4       BAI Zhijie    1  Shido        Shido / Avoid-Grip  01:34   \n",
       "\n",
       "                                         url_youtube  \\\n",
       "0  https://judobase.ijf.org/#/competition/contest...   \n",
       "1  https://judobase.ijf.org/#/competition/contest...   \n",
       "2  https://judobase.ijf.org/#/competition/contest...   \n",
       "3  https://judobase.ijf.org/#/competition/contest...   \n",
       "4  https://judobase.ijf.org/#/competition/contest...   \n",
       "\n",
       "                       event  \n",
       "0  Grand Prix The Hague 2018  \n",
       "1  Grand Prix The Hague 2018  \n",
       "2  Grand Prix The Hague 2018  \n",
       "3  Grand Prix The Hague 2018  \n",
       "4  Grand Prix The Hague 2018  "
      ]
     },
     "execution_count": 20,
     "metadata": {},
     "output_type": "execute_result"
    }
   ],
   "source": [
    "df = pd.DataFrame(all_actions, columns=('opponent', 'you', 'action', 'action_detail', 'time', 'url_youtube', 'event'))\n",
    "df.head()"
   ]
  },
  {
   "cell_type": "code",
   "execution_count": 24,
   "metadata": {},
   "outputs": [],
   "source": [
    "nombre_tabla = 'gaite'"
   ]
  },
  {
   "cell_type": "code",
   "execution_count": 25,
   "metadata": {},
   "outputs": [],
   "source": [
    "if nombre_tabla == 'estre':\n",
    "    print('CUIDAO')\n",
    "else:\n",
    "    conn.add_table(nombre_tabla, df, index=False)"
   ]
  },
  {
   "cell_type": "markdown",
   "metadata": {},
   "source": [
    "# Más"
   ]
  },
  {
   "cell_type": "code",
   "execution_count": 10,
   "metadata": {},
   "outputs": [],
   "source": [
    "videos_estre = conn.as_pandas('select * from videos_info where local like \"%SHERIFF%\"')"
   ]
  },
  {
   "cell_type": "code",
   "execution_count": 11,
   "metadata": {},
   "outputs": [
    {
     "data": {
      "text/html": [
       "<div>\n",
       "<style scoped>\n",
       "    .dataframe tbody tr th:only-of-type {\n",
       "        vertical-align: middle;\n",
       "    }\n",
       "\n",
       "    .dataframe tbody tr th {\n",
       "        vertical-align: top;\n",
       "    }\n",
       "\n",
       "    .dataframe thead th {\n",
       "        text-align: right;\n",
       "    }\n",
       "</style>\n",
       "<table border=\"1\" class=\"dataframe\">\n",
       "  <thead>\n",
       "    <tr style=\"text-align: right;\">\n",
       "      <th></th>\n",
       "      <th>url_video</th>\n",
       "      <th>url_youtube</th>\n",
       "      <th>local</th>\n",
       "      <th>opponent</th>\n",
       "    </tr>\n",
       "  </thead>\n",
       "  <tbody>\n",
       "    <tr>\n",
       "      <th>0</th>\n",
       "      <td>https://judobase.ijf.org/#/competition/contest...</td>\n",
       "      <td>https://www.youtube.com/watch?v=8b7mZQsTmK0</td>\n",
       "      <td>LOPEZ SHERIFF Estrella</td>\n",
       "      <td>PARK Da Sol</td>\n",
       "    </tr>\n",
       "    <tr>\n",
       "      <th>1</th>\n",
       "      <td>https://judobase.ijf.org/#/competition/contest...</td>\n",
       "      <td>https://www.youtube.com/watch?v=HdqymnSiloc</td>\n",
       "      <td>LOPEZ SHERIFF Estrella</td>\n",
       "      <td>JIMENEZ Kristine</td>\n",
       "    </tr>\n",
       "    <tr>\n",
       "      <th>2</th>\n",
       "      <td>https://judobase.ijf.org/#/competition/contest...</td>\n",
       "      <td>https://www.youtube.com/watch?v=JgPOEHOJ2jo</td>\n",
       "      <td>LOPEZ SHERIFF Estrella</td>\n",
       "      <td>GNETO Astride</td>\n",
       "    </tr>\n",
       "    <tr>\n",
       "      <th>3</th>\n",
       "      <td>https://judobase.ijf.org/#/competition/contest...</td>\n",
       "      <td>https://www.youtube.com/watch?v=xpd4OZFzESk</td>\n",
       "      <td>LOPEZ SHERIFF Estrella</td>\n",
       "      <td>TSCHOPP Evelyne</td>\n",
       "    </tr>\n",
       "    <tr>\n",
       "      <th>4</th>\n",
       "      <td>https://judobase.ijf.org/#/competition/contest...</td>\n",
       "      <td>https://www.youtube.com/watch?v=FJmiFvoi8Ro</td>\n",
       "      <td>LOPEZ SHERIFF Estrella</td>\n",
       "      <td>JIMENEZ Kristine</td>\n",
       "    </tr>\n",
       "    <tr>\n",
       "      <th>5</th>\n",
       "      <td>https://judobase.ijf.org/#/competition/contest...</td>\n",
       "      <td>https://www.youtube.com/watch?v=RfaQdGW0NwY</td>\n",
       "      <td>LOPEZ SHERIFF Estrella</td>\n",
       "      <td>KOSE Mai</td>\n",
       "    </tr>\n",
       "    <tr>\n",
       "      <th>6</th>\n",
       "      <td>https://judobase.ijf.org/#/competition/contest...</td>\n",
       "      <td>https://www.youtube.com/watch?v=U00rk9umAkY</td>\n",
       "      <td>LOPEZ SHERIFF Estrella</td>\n",
       "      <td>KRASNIQI Distria</td>\n",
       "    </tr>\n",
       "    <tr>\n",
       "      <th>7</th>\n",
       "      <td>https://judobase.ijf.org/#/competition/contest...</td>\n",
       "      <td>https://www.youtube.com/watch?v=kLIefZ6V2L4</td>\n",
       "      <td>LOPEZ SHERIFF Estrella</td>\n",
       "      <td>KUTSENKO Aigul</td>\n",
       "    </tr>\n",
       "    <tr>\n",
       "      <th>8</th>\n",
       "      <td>https://judobase.ijf.org/#/competition/contest...</td>\n",
       "      <td>https://www.youtube.com/watch?v=WSa7eH5Vv9U</td>\n",
       "      <td>LOPEZ SHERIFF Estrella</td>\n",
       "      <td>THUMM Verena</td>\n",
       "    </tr>\n",
       "    <tr>\n",
       "      <th>9</th>\n",
       "      <td>https://judobase.ijf.org/#/competition/contest...</td>\n",
       "      <td>https://www.youtube.com/watch?v=hJaATsCUcwM</td>\n",
       "      <td>LOPEZ SHERIFF Estrella</td>\n",
       "      <td>BEZALEL Ariel</td>\n",
       "    </tr>\n",
       "    <tr>\n",
       "      <th>10</th>\n",
       "      <td>https://judobase.ijf.org/#/competition/contest...</td>\n",
       "      <td>https://www.youtube.com/watch?v=-2P8x2Qr6F4</td>\n",
       "      <td>LOPEZ SHERIFF Estrella</td>\n",
       "      <td>SOUKATE Ikram</td>\n",
       "    </tr>\n",
       "    <tr>\n",
       "      <th>11</th>\n",
       "      <td>https://judobase.ijf.org/#/competition/contest...</td>\n",
       "      <td>https://www.youtube.com/watch?v=D3BvcuSLpo8</td>\n",
       "      <td>LOPEZ SHERIFF Estrella</td>\n",
       "      <td>SOUKATE Ikram</td>\n",
       "    </tr>\n",
       "    <tr>\n",
       "      <th>12</th>\n",
       "      <td>https://judobase.ijf.org/#/competition/contest...</td>\n",
       "      <td>https://www.youtube.com/watch?v=g-y3AHtt_gs</td>\n",
       "      <td>LOPEZ SHERIFF Estrella</td>\n",
       "      <td>LEGENTIL Christianne</td>\n",
       "    </tr>\n",
       "  </tbody>\n",
       "</table>\n",
       "</div>"
      ],
      "text/plain": [
       "                                            url_video  \\\n",
       "0   https://judobase.ijf.org/#/competition/contest...   \n",
       "1   https://judobase.ijf.org/#/competition/contest...   \n",
       "2   https://judobase.ijf.org/#/competition/contest...   \n",
       "3   https://judobase.ijf.org/#/competition/contest...   \n",
       "4   https://judobase.ijf.org/#/competition/contest...   \n",
       "5   https://judobase.ijf.org/#/competition/contest...   \n",
       "6   https://judobase.ijf.org/#/competition/contest...   \n",
       "7   https://judobase.ijf.org/#/competition/contest...   \n",
       "8   https://judobase.ijf.org/#/competition/contest...   \n",
       "9   https://judobase.ijf.org/#/competition/contest...   \n",
       "10  https://judobase.ijf.org/#/competition/contest...   \n",
       "11  https://judobase.ijf.org/#/competition/contest...   \n",
       "12  https://judobase.ijf.org/#/competition/contest...   \n",
       "\n",
       "                                    url_youtube                   local  \\\n",
       "0   https://www.youtube.com/watch?v=8b7mZQsTmK0  LOPEZ SHERIFF Estrella   \n",
       "1   https://www.youtube.com/watch?v=HdqymnSiloc  LOPEZ SHERIFF Estrella   \n",
       "2   https://www.youtube.com/watch?v=JgPOEHOJ2jo  LOPEZ SHERIFF Estrella   \n",
       "3   https://www.youtube.com/watch?v=xpd4OZFzESk  LOPEZ SHERIFF Estrella   \n",
       "4   https://www.youtube.com/watch?v=FJmiFvoi8Ro  LOPEZ SHERIFF Estrella   \n",
       "5   https://www.youtube.com/watch?v=RfaQdGW0NwY  LOPEZ SHERIFF Estrella   \n",
       "6   https://www.youtube.com/watch?v=U00rk9umAkY  LOPEZ SHERIFF Estrella   \n",
       "7   https://www.youtube.com/watch?v=kLIefZ6V2L4  LOPEZ SHERIFF Estrella   \n",
       "8   https://www.youtube.com/watch?v=WSa7eH5Vv9U  LOPEZ SHERIFF Estrella   \n",
       "9   https://www.youtube.com/watch?v=hJaATsCUcwM  LOPEZ SHERIFF Estrella   \n",
       "10  https://www.youtube.com/watch?v=-2P8x2Qr6F4  LOPEZ SHERIFF Estrella   \n",
       "11  https://www.youtube.com/watch?v=D3BvcuSLpo8  LOPEZ SHERIFF Estrella   \n",
       "12  https://www.youtube.com/watch?v=g-y3AHtt_gs  LOPEZ SHERIFF Estrella   \n",
       "\n",
       "                opponent  \n",
       "0            PARK Da Sol  \n",
       "1       JIMENEZ Kristine  \n",
       "2          GNETO Astride  \n",
       "3        TSCHOPP Evelyne  \n",
       "4       JIMENEZ Kristine  \n",
       "5               KOSE Mai  \n",
       "6       KRASNIQI Distria  \n",
       "7         KUTSENKO Aigul  \n",
       "8           THUMM Verena  \n",
       "9          BEZALEL Ariel  \n",
       "10         SOUKATE Ikram  \n",
       "11         SOUKATE Ikram  \n",
       "12  LEGENTIL Christianne  "
      ]
     },
     "execution_count": 11,
     "metadata": {},
     "output_type": "execute_result"
    }
   ],
   "source": [
    "videos_estre"
   ]
  },
  {
   "cell_type": "markdown",
   "metadata": {},
   "source": [
    "### Filter and extract some videos"
   ]
  },
  {
   "cell_type": "markdown",
   "metadata": {},
   "source": [
    "problema: cuando falla uno salta una pestaña y jode el resto..."
   ]
  },
  {
   "cell_type": "code",
   "execution_count": 8,
   "metadata": {},
   "outputs": [],
   "source": [
    "some_videos = all_battles[all_battles.local=='WADA Rinoko'].url_video\n",
    "\n",
    "for i, url_video in enumerate(some_videos):\n",
    "    if i % 20 == -1:\n",
    "        print(i)\n",
    "    \n",
    "    if url_video is None:\n",
    "        continue\n",
    "    # else\n",
    "    \n",
    "    try:\n",
    "        local, opponent, url_youtube = get_info_video_judobase(driver, url_video)\n",
    "    except:\n",
    "        local, opponent, url_youtube = ('error',) * 3\n",
    "        \n",
    "    # assert 'https://www.youtube.com/watch?' in url_youtube, f'Strange url_youtube: {url_youtube}'\n",
    "\n",
    "    conn.query(\n",
    "        f'''\n",
    "        INSERT OR IGNORE INTO videos_info \n",
    "        (url_video, url_youtube, local, opponent) \n",
    "        VALUES\n",
    "        (\"{url_video+'bb'}\", \"{url_youtube}\", \"{local}\", \"{opponent}\");\n",
    "        '''\n",
    "    )"
   ]
  },
  {
   "cell_type": "code",
   "execution_count": 11,
   "metadata": {},
   "outputs": [
    {
     "data": {
      "text/html": [
       "<div>\n",
       "<style scoped>\n",
       "    .dataframe tbody tr th:only-of-type {\n",
       "        vertical-align: middle;\n",
       "    }\n",
       "\n",
       "    .dataframe tbody tr th {\n",
       "        vertical-align: top;\n",
       "    }\n",
       "\n",
       "    .dataframe thead th {\n",
       "        text-align: right;\n",
       "    }\n",
       "</style>\n",
       "<table border=\"1\" class=\"dataframe\">\n",
       "  <thead>\n",
       "    <tr style=\"text-align: right;\">\n",
       "      <th></th>\n",
       "      <th>url_video</th>\n",
       "      <th>url_youtube</th>\n",
       "      <th>local</th>\n",
       "      <th>opponent</th>\n",
       "    </tr>\n",
       "  </thead>\n",
       "  <tbody>\n",
       "    <tr>\n",
       "      <th>0</th>\n",
       "      <td>https://judobase.ijf.org/#/competition/contest...</td>\n",
       "      <td>https://www.youtube.com/watch?v=8b7mZQsTmK0</td>\n",
       "      <td>LOPEZ SHERIFF Estrella</td>\n",
       "      <td>PARK Da Sol</td>\n",
       "    </tr>\n",
       "    <tr>\n",
       "      <th>1</th>\n",
       "      <td>https://judobase.ijf.org/#/competition/contest...</td>\n",
       "      <td>https://www.youtube.com/watch?v=HdqymnSiloc</td>\n",
       "      <td>LOPEZ SHERIFF Estrella</td>\n",
       "      <td>JIMENEZ Kristine</td>\n",
       "    </tr>\n",
       "    <tr>\n",
       "      <th>2</th>\n",
       "      <td>https://judobase.ijf.org/#/competition/contest...</td>\n",
       "      <td>https://www.youtube.com/watch?v=JgPOEHOJ2jo</td>\n",
       "      <td>LOPEZ SHERIFF Estrella</td>\n",
       "      <td>GNETO Astride</td>\n",
       "    </tr>\n",
       "    <tr>\n",
       "      <th>3</th>\n",
       "      <td>https://judobase.ijf.org/#/competition/contest...</td>\n",
       "      <td>https://www.youtube.com/watch?v=xpd4OZFzESk</td>\n",
       "      <td>LOPEZ SHERIFF Estrella</td>\n",
       "      <td>TSCHOPP Evelyne</td>\n",
       "    </tr>\n",
       "    <tr>\n",
       "      <th>4</th>\n",
       "      <td>https://judobase.ijf.org/#/competition/contest...</td>\n",
       "      <td>https://www.youtube.com/watch?v=FJmiFvoi8Ro</td>\n",
       "      <td>LOPEZ SHERIFF Estrella</td>\n",
       "      <td>JIMENEZ Kristine</td>\n",
       "    </tr>\n",
       "    <tr>\n",
       "      <th>5</th>\n",
       "      <td>https://judobase.ijf.org/#/competition/contest...</td>\n",
       "      <td>https://www.youtube.com/watch?v=RfaQdGW0NwY</td>\n",
       "      <td>LOPEZ SHERIFF Estrella</td>\n",
       "      <td>KOSE Mai</td>\n",
       "    </tr>\n",
       "    <tr>\n",
       "      <th>6</th>\n",
       "      <td>https://judobase.ijf.org/#/competition/contest...</td>\n",
       "      <td>https://www.youtube.com/watch?v=U00rk9umAkY</td>\n",
       "      <td>LOPEZ SHERIFF Estrella</td>\n",
       "      <td>KRASNIQI Distria</td>\n",
       "    </tr>\n",
       "    <tr>\n",
       "      <th>7</th>\n",
       "      <td>https://judobase.ijf.org/#/competition/contest...</td>\n",
       "      <td>https://www.youtube.com/watch?v=kLIefZ6V2L4</td>\n",
       "      <td>LOPEZ SHERIFF Estrella</td>\n",
       "      <td>KUTSENKO Aigul</td>\n",
       "    </tr>\n",
       "    <tr>\n",
       "      <th>8</th>\n",
       "      <td>https://judobase.ijf.org/#/competition/contest...</td>\n",
       "      <td>https://www.youtube.com/watch?v=WSa7eH5Vv9U</td>\n",
       "      <td>LOPEZ SHERIFF Estrella</td>\n",
       "      <td>THUMM Verena</td>\n",
       "    </tr>\n",
       "    <tr>\n",
       "      <th>9</th>\n",
       "      <td>https://judobase.ijf.org/#/competition/contest...</td>\n",
       "      <td>https://www.youtube.com/watch?v=hJaATsCUcwM</td>\n",
       "      <td>LOPEZ SHERIFF Estrella</td>\n",
       "      <td>BEZALEL Ariel</td>\n",
       "    </tr>\n",
       "    <tr>\n",
       "      <th>10</th>\n",
       "      <td>https://judobase.ijf.org/#/competition/contest...</td>\n",
       "      <td>https://www.youtube.com/watch?v=-2P8x2Qr6F4</td>\n",
       "      <td>LOPEZ SHERIFF Estrella</td>\n",
       "      <td>SOUKATE Ikram</td>\n",
       "    </tr>\n",
       "    <tr>\n",
       "      <th>11</th>\n",
       "      <td>https://judobase.ijf.org/#/competition/contest...</td>\n",
       "      <td>https://www.youtube.com/watch?v=D3BvcuSLpo8</td>\n",
       "      <td>LOPEZ SHERIFF Estrella</td>\n",
       "      <td>SOUKATE Ikram</td>\n",
       "    </tr>\n",
       "    <tr>\n",
       "      <th>12</th>\n",
       "      <td>https://judobase.ijf.org/#/competition/contest...</td>\n",
       "      <td>https://www.youtube.com/watch?v=g-y3AHtt_gs</td>\n",
       "      <td>LOPEZ SHERIFF Estrella</td>\n",
       "      <td>LEGENTIL Christianne</td>\n",
       "    </tr>\n",
       "  </tbody>\n",
       "</table>\n",
       "</div>"
      ],
      "text/plain": [
       "                                            url_video  \\\n",
       "0   https://judobase.ijf.org/#/competition/contest...   \n",
       "1   https://judobase.ijf.org/#/competition/contest...   \n",
       "2   https://judobase.ijf.org/#/competition/contest...   \n",
       "3   https://judobase.ijf.org/#/competition/contest...   \n",
       "4   https://judobase.ijf.org/#/competition/contest...   \n",
       "5   https://judobase.ijf.org/#/competition/contest...   \n",
       "6   https://judobase.ijf.org/#/competition/contest...   \n",
       "7   https://judobase.ijf.org/#/competition/contest...   \n",
       "8   https://judobase.ijf.org/#/competition/contest...   \n",
       "9   https://judobase.ijf.org/#/competition/contest...   \n",
       "10  https://judobase.ijf.org/#/competition/contest...   \n",
       "11  https://judobase.ijf.org/#/competition/contest...   \n",
       "12  https://judobase.ijf.org/#/competition/contest...   \n",
       "\n",
       "                                    url_youtube                   local  \\\n",
       "0   https://www.youtube.com/watch?v=8b7mZQsTmK0  LOPEZ SHERIFF Estrella   \n",
       "1   https://www.youtube.com/watch?v=HdqymnSiloc  LOPEZ SHERIFF Estrella   \n",
       "2   https://www.youtube.com/watch?v=JgPOEHOJ2jo  LOPEZ SHERIFF Estrella   \n",
       "3   https://www.youtube.com/watch?v=xpd4OZFzESk  LOPEZ SHERIFF Estrella   \n",
       "4   https://www.youtube.com/watch?v=FJmiFvoi8Ro  LOPEZ SHERIFF Estrella   \n",
       "5   https://www.youtube.com/watch?v=RfaQdGW0NwY  LOPEZ SHERIFF Estrella   \n",
       "6   https://www.youtube.com/watch?v=U00rk9umAkY  LOPEZ SHERIFF Estrella   \n",
       "7   https://www.youtube.com/watch?v=kLIefZ6V2L4  LOPEZ SHERIFF Estrella   \n",
       "8   https://www.youtube.com/watch?v=WSa7eH5Vv9U  LOPEZ SHERIFF Estrella   \n",
       "9   https://www.youtube.com/watch?v=hJaATsCUcwM  LOPEZ SHERIFF Estrella   \n",
       "10  https://www.youtube.com/watch?v=-2P8x2Qr6F4  LOPEZ SHERIFF Estrella   \n",
       "11  https://www.youtube.com/watch?v=D3BvcuSLpo8  LOPEZ SHERIFF Estrella   \n",
       "12  https://www.youtube.com/watch?v=g-y3AHtt_gs  LOPEZ SHERIFF Estrella   \n",
       "\n",
       "                opponent  \n",
       "0            PARK Da Sol  \n",
       "1       JIMENEZ Kristine  \n",
       "2          GNETO Astride  \n",
       "3        TSCHOPP Evelyne  \n",
       "4       JIMENEZ Kristine  \n",
       "5               KOSE Mai  \n",
       "6       KRASNIQI Distria  \n",
       "7         KUTSENKO Aigul  \n",
       "8           THUMM Verena  \n",
       "9          BEZALEL Ariel  \n",
       "10         SOUKATE Ikram  \n",
       "11         SOUKATE Ikram  \n",
       "12  LEGENTIL Christianne  "
      ]
     },
     "execution_count": 11,
     "metadata": {},
     "output_type": "execute_result"
    }
   ],
   "source": [
    "videos_estre"
   ]
  },
  {
   "cell_type": "code",
   "execution_count": null,
   "metadata": {
    "collapsed": true
   },
   "outputs": [],
   "source": []
  },
  {
   "cell_type": "code",
   "execution_count": null,
   "metadata": {
    "collapsed": true
   },
   "outputs": [],
   "source": []
  },
  {
   "cell_type": "markdown",
   "metadata": {},
   "source": [
    "### Do all video_urls remaining"
   ]
  },
  {
   "cell_type": "code",
   "execution_count": 57,
   "metadata": {
    "collapsed": true
   },
   "outputs": [],
   "source": [
    "proposed_videos = all_battles.loc[all_battles.category == 'men_73', 'url_video']"
   ]
  },
  {
   "cell_type": "code",
   "execution_count": 58,
   "metadata": {},
   "outputs": [
    {
     "data": {
      "text/plain": [
       "Series([], Name: url_video, dtype: object)"
      ]
     },
     "execution_count": 58,
     "metadata": {},
     "output_type": "execute_result"
    }
   ],
   "source": [
    "proposed_videos"
   ]
  },
  {
   "cell_type": "code",
   "execution_count": 20,
   "metadata": {
    "collapsed": true
   },
   "outputs": [],
   "source": [
    "all_videos = conn.as_pandas('select * from videos_info')"
   ]
  },
  {
   "cell_type": "code",
   "execution_count": 23,
   "metadata": {},
   "outputs": [
    {
     "ename": "NameError",
     "evalue": "name 'all_videos' is not defined",
     "output_type": "error",
     "traceback": [
      "\u001b[0;31m---------------------------------------------------------------------------\u001b[0m",
      "\u001b[0;31mNameError\u001b[0m                                 Traceback (most recent call last)",
      "\u001b[0;32m<ipython-input-23-43049f79a4b5>\u001b[0m in \u001b[0;36m<module>\u001b[0;34m\u001b[0m\n\u001b[0;32m----> 1\u001b[0;31m \u001b[0;32mfor\u001b[0m \u001b[0mv\u001b[0m \u001b[0;32min\u001b[0m \u001b[0mall_videos\u001b[0m\u001b[0;34m.\u001b[0m\u001b[0murl_video\u001b[0m\u001b[0;34m:\u001b[0m\u001b[0;34m\u001b[0m\u001b[0m\n\u001b[0m\u001b[1;32m      2\u001b[0m     \u001b[0mprint\u001b[0m\u001b[0;34m(\u001b[0m\u001b[0mv\u001b[0m\u001b[0;34m)\u001b[0m\u001b[0;34m\u001b[0m\u001b[0m\n",
      "\u001b[0;31mNameError\u001b[0m: name 'all_videos' is not defined"
     ]
    }
   ],
   "source": [
    "for v in all_videos.url_video:\n",
    "    print(v)"
   ]
  },
  {
   "cell_type": "code",
   "execution_count": 32,
   "metadata": {},
   "outputs": [
    {
     "ename": "AttributeError",
     "evalue": "'numpy.ndarray' object has no attribute 'isin'",
     "output_type": "error",
     "traceback": [
      "\u001b[1;31m---------------------------------------------------------------------------\u001b[0m",
      "\u001b[1;31mAttributeError\u001b[0m                            Traceback (most recent call last)",
      "\u001b[1;32m<ipython-input-32-220ecc3bdf04>\u001b[0m in \u001b[0;36m<module>\u001b[1;34m()\u001b[0m\n\u001b[1;32m----> 1\u001b[1;33m \u001b[0mall_battles\u001b[0m\u001b[1;33m.\u001b[0m\u001b[0murl_video\u001b[0m\u001b[1;33m.\u001b[0m\u001b[0mvalues\u001b[0m\u001b[1;33m.\u001b[0m\u001b[0misin\u001b[0m\u001b[1;33m(\u001b[0m\u001b[0mall_videos\u001b[0m\u001b[1;33m.\u001b[0m\u001b[0murl_video\u001b[0m\u001b[1;33m.\u001b[0m\u001b[0mvalues\u001b[0m\u001b[1;33m)\u001b[0m\u001b[1;33m.\u001b[0m\u001b[0msum\u001b[0m\u001b[1;33m(\u001b[0m\u001b[1;33m)\u001b[0m\u001b[1;33m\u001b[0m\u001b[0m\n\u001b[0m",
      "\u001b[1;31mAttributeError\u001b[0m: 'numpy.ndarray' object has no attribute 'isin'"
     ]
    }
   ],
   "source": [
    "all_battles.url_video.values.isin(all_videos.url_video.values).sum()"
   ]
  },
  {
   "cell_type": "code",
   "execution_count": 29,
   "metadata": {},
   "outputs": [
    {
     "data": {
      "text/plain": [
       "0    False\n",
       "1    False\n",
       "Name: url_video, dtype: bool"
      ]
     },
     "execution_count": 29,
     "metadata": {},
     "output_type": "execute_result"
    }
   ],
   "source": [
    "all_videos.url_video.isin(all_battles.url_video)"
   ]
  },
  {
   "cell_type": "code",
   "execution_count": 24,
   "metadata": {},
   "outputs": [
    {
     "data": {
      "text/plain": [
       "0"
      ]
     },
     "execution_count": 24,
     "metadata": {},
     "output_type": "execute_result"
    }
   ],
   "source": [
    "all_battles.url_video.isin(all_videos.url_video).sum()"
   ]
  },
  {
   "cell_type": "code",
   "execution_count": 35,
   "metadata": {},
   "outputs": [
    {
     "ename": "NameError",
     "evalue": "name 'all_videos' is not defined",
     "output_type": "error",
     "traceback": [
      "\u001b[0;31m---------------------------------------------------------------------------\u001b[0m",
      "\u001b[0;31mNameError\u001b[0m                                 Traceback (most recent call last)",
      "\u001b[0;32m<ipython-input-35-259f00f1f306>\u001b[0m in \u001b[0;36m<module>\u001b[0;34m\u001b[0m\n\u001b[0;32m----> 1\u001b[0;31m \u001b[0mall_videos\u001b[0m\u001b[0;34m.\u001b[0m\u001b[0murl_video\u001b[0m\u001b[0;34m\u001b[0m\u001b[0m\n\u001b[0m",
      "\u001b[0;31mNameError\u001b[0m: name 'all_videos' is not defined"
     ]
    }
   ],
   "source": [
    "all_videos"
   ]
  },
  {
   "cell_type": "markdown",
   "metadata": {
    "collapsed": true
   },
   "source": [
    "### Extraer info y acceder al youtube"
   ]
  },
  {
   "cell_type": "markdown",
   "metadata": {},
   "source": [
    "### Extraer info"
   ]
  },
  {
   "cell_type": "markdown",
   "metadata": {},
   "source": [
    "hay que juntarlo con extraccion url"
   ]
  },
  {
   "cell_type": "code",
   "execution_count": 38,
   "metadata": {},
   "outputs": [
    {
     "data": {
      "text/plain": [
       "0     bb\n",
       "1     bb\n",
       "2     bb\n",
       "3     bb\n",
       "4     bb\n",
       "5     bb\n",
       "6     bb\n",
       "7     bb\n",
       "8     bb\n",
       "9     bb\n",
       "10    bb\n",
       "11    bb\n",
       "12    bb\n",
       "Name: url_video, dtype: object"
      ]
     },
     "execution_count": 38,
     "metadata": {},
     "output_type": "execute_result"
    }
   ],
   "source": [
    "videos_estre.url_video.str.slice(-2,)"
   ]
  },
  {
   "cell_type": "code",
   "execution_count": 32,
   "metadata": {},
   "outputs": [],
   "source": [
    "urll = videos_estre.url_video.iloc[1]"
   ]
  },
  {
   "cell_type": "code",
   "execution_count": 39,
   "metadata": {},
   "outputs": [],
   "source": [
    "urll = urll[:-2]"
   ]
  },
  {
   "cell_type": "code",
   "execution_count": 41,
   "metadata": {},
   "outputs": [],
   "source": [
    "driver.get(urll)"
   ]
  },
  {
   "cell_type": "code",
   "execution_count": 42,
   "metadata": {},
   "outputs": [],
   "source": [
    "# tabla con puntuaciones etiquetadas en tiempo\n",
    "tabla_timed_points = driver.find_elements_by_tag_name('tbody')[1]"
   ]
  },
  {
   "cell_type": "code",
   "execution_count": 43,
   "metadata": {},
   "outputs": [],
   "source": [
    "filas = tabla_timed_points.find_elements_by_tag_name('tr')"
   ]
  },
  {
   "cell_type": "code",
   "execution_count": 44,
   "metadata": {},
   "outputs": [
    {
     "data": {
      "text/plain": [
       "3"
      ]
     },
     "execution_count": 44,
     "metadata": {},
     "output_type": "execute_result"
    }
   ],
   "source": [
    "nrows = len(filas[0].find_elements_by_tag_name('td'))\n",
    "nrows"
   ]
  },
  {
   "cell_type": "code",
   "execution_count": 45,
   "metadata": {},
   "outputs": [
    {
     "name": "stdout",
     "output_type": "stream",
     "text": [
      "0 0 Waza-ari\n",
      "0 1 00:09\n",
      "0 2 \n",
      "1 0 \n",
      "1 1 02:36\n",
      "1 2 Shido\n",
      "Shido / Non-Combativity\n",
      "3 rows!\n"
     ]
    }
   ],
   "source": [
    "if nrows == 2:\n",
    "    for row_number, row in enumerate(filas):\n",
    "        for col_number, value in enumerate(row.find_elements_by_tag_name('td')):\n",
    "            print(row_number, col_number, value.text)\n",
    "\n",
    "else:\n",
    "    for row_number, row in enumerate(filas):\n",
    "        for col_number, value in enumerate(row.find_elements_by_tag_name('td')):\n",
    "            print(row_number, col_number, value.text)\n",
    "\n",
    "    print(f'{nrows} rows!')"
   ]
  },
  {
   "cell_type": "code",
   "execution_count": 46,
   "metadata": {},
   "outputs": [],
   "source": [
    "seconds = 22"
   ]
  },
  {
   "cell_type": "code",
   "execution_count": 47,
   "metadata": {},
   "outputs": [
    {
     "data": {
      "text/plain": [
       "'https://www.youtube.com/watch?v=3ajXhPeC9dQ&t=22'"
      ]
     },
     "execution_count": 47,
     "metadata": {},
     "output_type": "execute_result"
    }
   ],
   "source": [
    "url_youtube_time = url_youtube + '&t=' + str(seconds)\n",
    "url_youtube_time"
   ]
  },
  {
   "cell_type": "code",
   "execution_count": 48,
   "metadata": {},
   "outputs": [],
   "source": [
    "driver.get(url_youtube_time)"
   ]
  },
  {
   "cell_type": "code",
   "execution_count": null,
   "metadata": {
    "collapsed": true
   },
   "outputs": [],
   "source": []
  },
  {
   "cell_type": "code",
   "execution_count": null,
   "metadata": {
    "collapsed": true
   },
   "outputs": [],
   "source": []
  },
  {
   "cell_type": "markdown",
   "metadata": {
    "collapsed": true
   },
   "source": [
    "### Youtube downloads"
   ]
  },
  {
   "cell_type": "code",
   "execution_count": 49,
   "metadata": {},
   "outputs": [],
   "source": [
    "url_youtube = videos_estre.iloc[0,1]"
   ]
  },
  {
   "cell_type": "code",
   "execution_count": 50,
   "metadata": {},
   "outputs": [
    {
     "data": {
      "text/plain": [
       "'https://www.youtube.com/watch?v=8b7mZQsTmK0'"
      ]
     },
     "execution_count": 50,
     "metadata": {},
     "output_type": "execute_result"
    }
   ],
   "source": [
    "url_youtube"
   ]
  },
  {
   "cell_type": "code",
   "execution_count": 51,
   "metadata": {},
   "outputs": [],
   "source": [
    "from pytube import YouTube"
   ]
  },
  {
   "cell_type": "code",
   "execution_count": 52,
   "metadata": {},
   "outputs": [],
   "source": [
    "y = YouTube(url_youtube)"
   ]
  },
  {
   "cell_type": "code",
   "execution_count": 53,
   "metadata": {},
   "outputs": [],
   "source": [
    "video = y.streams.filter(res='720p', mime_type='video/mp4').first()"
   ]
  },
  {
   "cell_type": "code",
   "execution_count": 54,
   "metadata": {},
   "outputs": [],
   "source": [
    "assert video is not None, 'No video'"
   ]
  },
  {
   "cell_type": "code",
   "execution_count": 55,
   "metadata": {},
   "outputs": [
    {
     "name": "stdout",
     "output_type": "stream",
     "text": [
      "CPU times: user 2.97 s, sys: 2.28 s, total: 5.25 s\n",
      "Wall time: 9.88 s\n"
     ]
    },
    {
     "data": {
      "text/plain": [
       "'/home/sheriff/Documents/projects/judo/judo/estre720.mp4'"
      ]
     },
     "execution_count": 55,
     "metadata": {},
     "output_type": "execute_result"
    }
   ],
   "source": [
    "%time video.download(filename='estre720')"
   ]
  },
  {
   "cell_type": "markdown",
   "metadata": {},
   "source": [
    "### Edición con moviepy"
   ]
  },
  {
   "cell_type": "code",
   "execution_count": 35,
   "metadata": {},
   "outputs": [
    {
     "data": {
      "text/plain": [
       "3"
      ]
     },
     "execution_count": 35,
     "metadata": {},
     "output_type": "execute_result"
    }
   ],
   "source": [
    "3"
   ]
  },
  {
   "cell_type": "code",
   "execution_count": 56,
   "metadata": {},
   "outputs": [],
   "source": [
    "import requests"
   ]
  },
  {
   "cell_type": "code",
   "execution_count": 3,
   "metadata": {},
   "outputs": [],
   "source": [
    "from moviepy.editor import VideoFileClip, TextClip, CompositeVideoClip, concatenate_videoclips"
   ]
  },
  {
   "cell_type": "code",
   "execution_count": 2,
   "metadata": {},
   "outputs": [
    {
     "name": "stdout",
     "output_type": "stream",
     "text": [
      "\n",
      "[MoviePy] This command returned an error !"
     ]
    },
    {
     "ename": "OSError",
     "evalue": "MoviePy Error: creation of None failed because of the following error:\n\nconvert: delegate library support not built-in '/usr/share/fonts/type1/gsfonts/b018015l.pfb' (Freetype) @ warning/annotate.c/RenderFreetype/1797.\nconvert: no decode delegate for this image format `' @ error/constitute.c/ReadImage/556.\nconvert: no images defined `PNG32:/tmp/tmp6dqv06yt.png' @ error/convert.c/ConvertImageCommand/3300.\n.\n\n.This error can be due to the fact that ImageMagick is not installed on your computer, or (for Windows users) that you didn't specify the path to the ImageMagick binary in file conf.py, or that the path you specified is incorrect",
     "output_type": "error",
     "traceback": [
      "\u001b[0;31m---------------------------------------------------------------------------\u001b[0m",
      "\u001b[0;31mOSError\u001b[0m                                   Traceback (most recent call last)",
      "\u001b[0;32m~/anaconda3/envs/video/lib/python3.7/site-packages/moviepy/video/VideoClip.py\u001b[0m in \u001b[0;36m__init__\u001b[0;34m(self, txt, filename, size, color, bg_color, fontsize, font, stroke_color, stroke_width, method, kerning, align, interline, tempfilename, temptxt, transparent, remove_temp, print_cmd)\u001b[0m\n\u001b[1;32m   1163\u001b[0m         \u001b[0;32mtry\u001b[0m\u001b[0;34m:\u001b[0m\u001b[0;34m\u001b[0m\u001b[0m\n\u001b[0;32m-> 1164\u001b[0;31m             \u001b[0msubprocess_call\u001b[0m\u001b[0;34m(\u001b[0m\u001b[0mcmd\u001b[0m\u001b[0;34m,\u001b[0m \u001b[0mverbose\u001b[0m\u001b[0;34m=\u001b[0m\u001b[0;32mFalse\u001b[0m\u001b[0;34m)\u001b[0m\u001b[0;34m\u001b[0m\u001b[0m\n\u001b[0m\u001b[1;32m   1165\u001b[0m         \u001b[0;32mexcept\u001b[0m \u001b[0;34m(\u001b[0m\u001b[0mIOError\u001b[0m\u001b[0;34m,\u001b[0m \u001b[0mOSError\u001b[0m\u001b[0;34m)\u001b[0m \u001b[0;32mas\u001b[0m \u001b[0merr\u001b[0m\u001b[0;34m:\u001b[0m\u001b[0;34m\u001b[0m\u001b[0m\n",
      "\u001b[0;32m~/anaconda3/envs/video/lib/python3.7/site-packages/moviepy/tools.py\u001b[0m in \u001b[0;36msubprocess_call\u001b[0;34m(cmd, verbose, errorprint)\u001b[0m\n\u001b[1;32m     48\u001b[0m         \u001b[0mverbose_print\u001b[0m\u001b[0;34m(\u001b[0m\u001b[0merrorprint\u001b[0m\u001b[0;34m,\u001b[0m \u001b[0;34m\"\\n[MoviePy] This command returned an error !\"\u001b[0m\u001b[0;34m)\u001b[0m\u001b[0;34m\u001b[0m\u001b[0m\n\u001b[0;32m---> 49\u001b[0;31m         \u001b[0;32mraise\u001b[0m \u001b[0mIOError\u001b[0m\u001b[0;34m(\u001b[0m\u001b[0merr\u001b[0m\u001b[0;34m.\u001b[0m\u001b[0mdecode\u001b[0m\u001b[0;34m(\u001b[0m\u001b[0;34m'utf8'\u001b[0m\u001b[0;34m)\u001b[0m\u001b[0;34m)\u001b[0m\u001b[0;34m\u001b[0m\u001b[0m\n\u001b[0m\u001b[1;32m     50\u001b[0m     \u001b[0;32melse\u001b[0m\u001b[0;34m:\u001b[0m\u001b[0;34m\u001b[0m\u001b[0m\n",
      "\u001b[0;31mOSError\u001b[0m: convert: delegate library support not built-in '/usr/share/fonts/type1/gsfonts/b018015l.pfb' (Freetype) @ warning/annotate.c/RenderFreetype/1797.\nconvert: no decode delegate for this image format `' @ error/constitute.c/ReadImage/556.\nconvert: no images defined `PNG32:/tmp/tmp6dqv06yt.png' @ error/convert.c/ConvertImageCommand/3300.\n",
      "\nDuring handling of the above exception, another exception occurred:\n",
      "\u001b[0;31mOSError\u001b[0m                                   Traceback (most recent call last)",
      "\u001b[0;32m<ipython-input-2-4a385c974e56>\u001b[0m in \u001b[0;36m<module>\u001b[0;34m\u001b[0m\n\u001b[0;32m----> 1\u001b[0;31m \u001b[0mtext0\u001b[0m \u001b[0;34m=\u001b[0m \u001b[0mTextClip\u001b[0m\u001b[0;34m(\u001b[0m\u001b[0;34m\"Primer chunk\"\u001b[0m\u001b[0;34m,\u001b[0m \u001b[0mfont\u001b[0m\u001b[0;34m=\u001b[0m\u001b[0;34m'Bookman-Demi'\u001b[0m\u001b[0;34m,\u001b[0m \u001b[0mfontsize\u001b[0m\u001b[0;34m=\u001b[0m\u001b[0;36m70\u001b[0m\u001b[0;34m,\u001b[0m \u001b[0mcolor\u001b[0m\u001b[0;34m=\u001b[0m\u001b[0;34m'red'\u001b[0m\u001b[0;34m)\u001b[0m\u001b[0;34m.\u001b[0m\u001b[0mset_position\u001b[0m\u001b[0;34m(\u001b[0m\u001b[0;34m(\u001b[0m\u001b[0;34m'right'\u001b[0m\u001b[0;34m,\u001b[0m \u001b[0;34m'top'\u001b[0m\u001b[0;34m)\u001b[0m\u001b[0;34m,\u001b[0m \u001b[0mrelative\u001b[0m\u001b[0;34m=\u001b[0m\u001b[0;32mTrue\u001b[0m\u001b[0;34m)\u001b[0m\u001b[0;34m.\u001b[0m\u001b[0mset_duration\u001b[0m\u001b[0;34m(\u001b[0m\u001b[0;36m5\u001b[0m\u001b[0;34m)\u001b[0m\u001b[0;34m\u001b[0m\u001b[0m\n\u001b[0m",
      "\u001b[0;32m~/anaconda3/envs/video/lib/python3.7/site-packages/moviepy/video/VideoClip.py\u001b[0m in \u001b[0;36m__init__\u001b[0;34m(self, txt, filename, size, color, bg_color, fontsize, font, stroke_color, stroke_width, method, kerning, align, interline, tempfilename, temptxt, transparent, remove_temp, print_cmd)\u001b[0m\n\u001b[1;32m   1171\u001b[0m                         \u001b[0;34m\"ImageMagick binary in file conf.py, or that the path \"\u001b[0m\u001b[0;34m\u001b[0m\u001b[0m\n\u001b[1;32m   1172\u001b[0m                         \"you specified is incorrect\"))\n\u001b[0;32m-> 1173\u001b[0;31m             \u001b[0;32mraise\u001b[0m \u001b[0mIOError\u001b[0m\u001b[0;34m(\u001b[0m\u001b[0merror\u001b[0m\u001b[0;34m)\u001b[0m\u001b[0;34m\u001b[0m\u001b[0m\n\u001b[0m\u001b[1;32m   1174\u001b[0m \u001b[0;34m\u001b[0m\u001b[0m\n\u001b[1;32m   1175\u001b[0m         \u001b[0mImageClip\u001b[0m\u001b[0;34m.\u001b[0m\u001b[0m__init__\u001b[0m\u001b[0;34m(\u001b[0m\u001b[0mself\u001b[0m\u001b[0;34m,\u001b[0m \u001b[0mtempfilename\u001b[0m\u001b[0;34m,\u001b[0m \u001b[0mtransparent\u001b[0m\u001b[0;34m=\u001b[0m\u001b[0mtransparent\u001b[0m\u001b[0;34m)\u001b[0m\u001b[0;34m\u001b[0m\u001b[0m\n",
      "\u001b[0;31mOSError\u001b[0m: MoviePy Error: creation of None failed because of the following error:\n\nconvert: delegate library support not built-in '/usr/share/fonts/type1/gsfonts/b018015l.pfb' (Freetype) @ warning/annotate.c/RenderFreetype/1797.\nconvert: no decode delegate for this image format `' @ error/constitute.c/ReadImage/556.\nconvert: no images defined `PNG32:/tmp/tmp6dqv06yt.png' @ error/convert.c/ConvertImageCommand/3300.\n.\n\n.This error can be due to the fact that ImageMagick is not installed on your computer, or (for Windows users) that you didn't specify the path to the ImageMagick binary in file conf.py, or that the path you specified is incorrect"
     ]
    }
   ],
   "source": [
    "text0 = TextClip(\"Primer chunk\", font='Bookman-Demi', fontsize=70, color='red').set_position(('right', 'top'), relative=True).set_duration(5)"
   ]
  },
  {
   "cell_type": "code",
   "execution_count": 3,
   "metadata": {},
   "outputs": [
    {
     "ename": "SyntaxError",
     "evalue": "invalid syntax (<ipython-input-3-f2f427ef38e1>, line 1)",
     "output_type": "error",
     "traceback": [
      "\u001b[0;36m  File \u001b[0;32m\"<ipython-input-3-f2f427ef38e1>\"\u001b[0;36m, line \u001b[0;32m1\u001b[0m\n\u001b[0;31m    text0 = TextClip(\"Primer chunk\", font='Times-Italic' fontsize=70, color='red').set_position(('right', 'top'), relative=True).set_duration(5)\u001b[0m\n\u001b[0m                                                                ^\u001b[0m\n\u001b[0;31mSyntaxError\u001b[0m\u001b[0;31m:\u001b[0m invalid syntax\n"
     ]
    }
   ],
   "source": [
    "text1 = TextClip(\"Segundo chunk\", fontsize=70, color='blue').set_position((0.4, 0), relative=True).set_duration(5)\n",
    "# text2 = TextClip(\"Tercer chunk\", fontsize=70, color='green').set_position((0.8, 0), relative=True).set_duration(5)\n",
    "\n",
    "# textos = (text0, text1, text2)"
   ]
  },
  {
   "cell_type": "code",
   "execution_count": 2,
   "metadata": {},
   "outputs": [],
   "source": [
    "clip = VideoFileClip('./estre720.mp4')"
   ]
  },
  {
   "cell_type": "code",
   "execution_count": 3,
   "metadata": {},
   "outputs": [
    {
     "data": {
      "text/plain": [
       "353.85"
      ]
     },
     "execution_count": 3,
     "metadata": {},
     "output_type": "execute_result"
    }
   ],
   "source": [
    "clip.duration"
   ]
  },
  {
   "cell_type": "code",
   "execution_count": 4,
   "metadata": {},
   "outputs": [],
   "source": [
    "corte = clip.subclip(40,50)"
   ]
  },
  {
   "cell_type": "code",
   "execution_count": 64,
   "metadata": {},
   "outputs": [],
   "source": [
    "import pkg_resources"
   ]
  },
  {
   "cell_type": "code",
   "execution_count": 65,
   "metadata": {},
   "outputs": [
    {
     "data": {
      "text/plain": [
       "moviepy 0.2.3.5 (/home/sheriff/anaconda3/envs/video/lib/python3.7/site-packages)"
      ]
     },
     "execution_count": 65,
     "metadata": {},
     "output_type": "execute_result"
    }
   ],
   "source": [
    "pkg_resources.get_distribution('moviepy')"
   ]
  },
  {
   "cell_type": "code",
   "execution_count": 63,
   "metadata": {},
   "outputs": [
    {
     "data": {
      "text/plain": [
       "6"
      ]
     },
     "execution_count": 63,
     "metadata": {},
     "output_type": "execute_result"
    }
   ],
   "source": [
    "3+3"
   ]
  },
  {
   "cell_type": "code",
   "execution_count": 13,
   "metadata": {
    "collapsed": true
   },
   "outputs": [],
   "source": [
    "textos = concatenate_videoclips([text0, text1])"
   ]
  },
  {
   "cell_type": "code",
   "execution_count": 15,
   "metadata": {
    "collapsed": true
   },
   "outputs": [],
   "source": [
    "final_clip = CompositeVideoClip([corte, textos])"
   ]
  },
  {
   "cell_type": "code",
   "execution_count": 16,
   "metadata": {},
   "outputs": [
    {
     "data": {
      "text/plain": [
       "4"
      ]
     },
     "execution_count": 16,
     "metadata": {},
     "output_type": "execute_result"
    }
   ],
   "source": [
    "final_clip.duration"
   ]
  },
  {
   "cell_type": "code",
   "execution_count": 17,
   "metadata": {},
   "outputs": [
    {
     "name": "stdout",
     "output_type": "stream",
     "text": [
      "[MoviePy] >>>> Building video my_concatenatio2n2.mp4\n",
      "[MoviePy] Writing audio in my_concatenatio2n2TEMP_MPY_wvf_snd.mp3\n"
     ]
    },
    {
     "name": "stderr",
     "output_type": "stream",
     "text": [
      "100%|█████████████████████████████████████████████████████████████████████████████████| 89/89 [00:00<00:00, 271.76it/s]\n"
     ]
    },
    {
     "name": "stdout",
     "output_type": "stream",
     "text": [
      "[MoviePy] Done.\n",
      "[MoviePy] Writing video my_concatenatio2n2.mp4\n"
     ]
    },
    {
     "name": "stderr",
     "output_type": "stream",
     "text": [
      " 99%|███████████████████████████████████████████████████████████████████████████████▏| 100/101 [00:06<00:00, 12.44it/s]\n"
     ]
    },
    {
     "name": "stdout",
     "output_type": "stream",
     "text": [
      "[MoviePy] Done.\n",
      "[MoviePy] >>>> Video ready: my_concatenatio2n2.mp4 \n",
      "\n"
     ]
    }
   ],
   "source": [
    "final_clip.write_videofile(\"my_concatenatio2n2.mp4\")"
   ]
  },
  {
   "cell_type": "code",
   "execution_count": null,
   "metadata": {
    "collapsed": true
   },
   "outputs": [],
   "source": []
  }
 ],
 "metadata": {
  "kernelspec": {
   "display_name": "Python 3",
   "language": "python",
   "name": "python3"
  },
  "language_info": {
   "codemirror_mode": {
    "name": "ipython",
    "version": 3
   },
   "file_extension": ".py",
   "mimetype": "text/x-python",
   "name": "python",
   "nbconvert_exporter": "python",
   "pygments_lexer": "ipython3",
   "version": "3.6.5"
  }
 },
 "nbformat": 4,
 "nbformat_minor": 2
}
