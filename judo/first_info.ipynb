{
 "cells": [
  {
   "cell_type": "markdown",
   "metadata": {},
   "source": [
    "## Un primer boceto de la info que hay en judobase"
   ]
  },
  {
   "cell_type": "markdown",
   "metadata": {},
   "source": [
    "### Importar funciones"
   ]
  },
  {
   "cell_type": "markdown",
   "metadata": {},
   "source": [
    "Todo ha sido descargado previamente y almacenado en una base de datos:"
   ]
  },
  {
   "cell_type": "code",
   "execution_count": 35,
   "metadata": {
    "collapsed": true
   },
   "outputs": [],
   "source": [
    "from lib import SQLiteConnection\n",
    "\n",
    "import pandas as pd\n",
    "pd.options.display.max_colwidth = 100"
   ]
  },
  {
   "cell_type": "code",
   "execution_count": 36,
   "metadata": {
    "collapsed": true
   },
   "outputs": [],
   "source": [
    "conn = SQLiteConnection('../judo.sql')"
   ]
  },
  {
   "cell_type": "markdown",
   "metadata": {},
   "source": [
    "### Battles Estrella"
   ]
  },
  {
   "cell_type": "markdown",
   "metadata": {},
   "source": [
    "Dataframe que contiene la info de batallas"
   ]
  },
  {
   "cell_type": "code",
   "execution_count": 37,
   "metadata": {
    "collapsed": true
   },
   "outputs": [],
   "source": [
    "df = conn.as_pandas('select * from actions')"
   ]
  },
  {
   "cell_type": "code",
   "execution_count": 38,
   "metadata": {},
   "outputs": [
    {
     "data": {
      "text/plain": [
       "array(['COHEN Gili', 'DELGADO Angelica', 'KELMENDI Majlinda',\n",
       "       'PRIMO Gefen', 'GILES Chelsie', 'BABAMURATOVA Gulbadam',\n",
       "       'EASTON Tinka', 'LOPEZ SHERIFF Estrella', 'CHITU Andreea',\n",
       "       'KOCHER Fabienne', 'KUZNETSOVA Alesya', 'ZIYAEVA Gulnoza',\n",
       "       'BOBRIKOVA Daria', 'JANASHVILI Mariam', 'FOFANA Salimata',\n",
       "       'KAKKO Katri', 'KELDIYOROVA Diyora', 'MOKDAR Faiza'], dtype=object)"
      ]
     },
     "execution_count": 38,
     "metadata": {},
     "output_type": "execute_result"
    }
   ],
   "source": [
    "df.local.unique()"
   ]
  },
  {
   "cell_type": "code",
   "execution_count": 25,
   "metadata": {
    "collapsed": true
   },
   "outputs": [],
   "source": [
    "df_comp = df[df.local=='COHEN Gili']"
   ]
  },
  {
   "cell_type": "markdown",
   "metadata": {},
   "source": [
    "Cada fila es una acción en un combate, donde:\n",
    "\n",
    "__you__ = 1 significa que es tuyo (el shido, wazari...)  \n",
    "__you__ = 0 significa que es del oponente"
   ]
  },
  {
   "cell_type": "code",
   "execution_count": 26,
   "metadata": {},
   "outputs": [
    {
     "data": {
      "text/html": [
       "<div>\n",
       "<style>\n",
       "    .dataframe thead tr:only-child th {\n",
       "        text-align: right;\n",
       "    }\n",
       "\n",
       "    .dataframe thead th {\n",
       "        text-align: left;\n",
       "    }\n",
       "\n",
       "    .dataframe tbody tr th {\n",
       "        vertical-align: top;\n",
       "    }\n",
       "</style>\n",
       "<table border=\"1\" class=\"dataframe\">\n",
       "  <thead>\n",
       "    <tr style=\"text-align: right;\">\n",
       "      <th></th>\n",
       "      <th>local</th>\n",
       "      <th>opponent</th>\n",
       "      <th>you</th>\n",
       "      <th>action</th>\n",
       "      <th>action_detail</th>\n",
       "      <th>time</th>\n",
       "      <th>url_youtube</th>\n",
       "      <th>event</th>\n",
       "    </tr>\n",
       "  </thead>\n",
       "  <tbody>\n",
       "    <tr>\n",
       "      <th>0</th>\n",
       "      <td>COHEN Gili</td>\n",
       "      <td>PUPP Reka</td>\n",
       "      <td>0</td>\n",
       "      <td>Shido</td>\n",
       "      <td>Shido / False-Attack</td>\n",
       "      <td>04:47</td>\n",
       "      <td>https://judobase.ijf.org/#/competition/contest/masters2018_w_0052_0018</td>\n",
       "      <td>Masters Guangzhou 2018</td>\n",
       "    </tr>\n",
       "    <tr>\n",
       "      <th>1</th>\n",
       "      <td>COHEN Gili</td>\n",
       "      <td>PUPP Reka</td>\n",
       "      <td>0</td>\n",
       "      <td>Shido</td>\n",
       "      <td>Shido / False-Attack</td>\n",
       "      <td>06:29</td>\n",
       "      <td>https://judobase.ijf.org/#/competition/contest/masters2018_w_0052_0018</td>\n",
       "      <td>Masters Guangzhou 2018</td>\n",
       "    </tr>\n",
       "    <tr>\n",
       "      <th>2</th>\n",
       "      <td>COHEN Gili</td>\n",
       "      <td>PUPP Reka</td>\n",
       "      <td>0</td>\n",
       "      <td>HSK (3rd shido)</td>\n",
       "      <td>Shido / Hold-Trouser-Leg</td>\n",
       "      <td>08:13</td>\n",
       "      <td>https://judobase.ijf.org/#/competition/contest/masters2018_w_0052_0018</td>\n",
       "      <td>Masters Guangzhou 2018</td>\n",
       "    </tr>\n",
       "    <tr>\n",
       "      <th>3</th>\n",
       "      <td>COHEN Gili</td>\n",
       "      <td>BUCHARD NORDMEYER Amandine</td>\n",
       "      <td>0</td>\n",
       "      <td>Waza-ari</td>\n",
       "      <td>Te-waza / Kata-guruma</td>\n",
       "      <td>00:39</td>\n",
       "      <td>https://judobase.ijf.org/#/competition/contest/masters2018_w_0052_0025</td>\n",
       "      <td>Masters Guangzhou 2018</td>\n",
       "    </tr>\n",
       "    <tr>\n",
       "      <th>4</th>\n",
       "      <td>COHEN Gili</td>\n",
       "      <td>BUCHARD NORDMEYER Amandine</td>\n",
       "      <td>1</td>\n",
       "      <td>Shido</td>\n",
       "      <td>Shido / Hold-Same-Side</td>\n",
       "      <td>01:26</td>\n",
       "      <td>https://judobase.ijf.org/#/competition/contest/masters2018_w_0052_0025</td>\n",
       "      <td>Masters Guangzhou 2018</td>\n",
       "    </tr>\n",
       "    <tr>\n",
       "      <th>5</th>\n",
       "      <td>COHEN Gili</td>\n",
       "      <td>BUCHARD NORDMEYER Amandine</td>\n",
       "      <td>0</td>\n",
       "      <td>Waza-Ari-awasete-ippon</td>\n",
       "      <td>Te-waza / Seoi-nage</td>\n",
       "      <td>02:06</td>\n",
       "      <td>https://judobase.ijf.org/#/competition/contest/masters2018_w_0052_0025</td>\n",
       "      <td>Masters Guangzhou 2018</td>\n",
       "    </tr>\n",
       "    <tr>\n",
       "      <th>6</th>\n",
       "      <td>COHEN Gili</td>\n",
       "      <td>PEREZ BOX Ana</td>\n",
       "      <td>1</td>\n",
       "      <td>Ippon</td>\n",
       "      <td>Osaekomi-waza / Kuzure-kesa-gatame</td>\n",
       "      <td>01:05</td>\n",
       "      <td>https://judobase.ijf.org/#/competition/contest/masters2018_w_0052_0029</td>\n",
       "      <td>Masters Guangzhou 2018</td>\n",
       "    </tr>\n",
       "    <tr>\n",
       "      <th>7</th>\n",
       "      <td>COHEN Gili</td>\n",
       "      <td>KUZIUTINA Natalia</td>\n",
       "      <td>0</td>\n",
       "      <td>Waza-ari</td>\n",
       "      <td>Te-waza / Seoi-nage</td>\n",
       "      <td>00:21</td>\n",
       "      <td>https://judobase.ijf.org/#/competition/contest/masters2018_w_0052_0033</td>\n",
       "      <td>Masters Guangzhou 2018</td>\n",
       "    </tr>\n",
       "    <tr>\n",
       "      <th>8</th>\n",
       "      <td>COHEN Gili</td>\n",
       "      <td>KUZIUTINA Natalia</td>\n",
       "      <td>0</td>\n",
       "      <td>Ippon</td>\n",
       "      <td>Kansetsu-waza / Juji-gatame</td>\n",
       "      <td>03:04</td>\n",
       "      <td>https://judobase.ijf.org/#/competition/contest/masters2018_w_0052_0033</td>\n",
       "      <td>Masters Guangzhou 2018</td>\n",
       "    </tr>\n",
       "    <tr>\n",
       "      <th>9</th>\n",
       "      <td>COHEN Gili</td>\n",
       "      <td>GNETO Astride</td>\n",
       "      <td>1</td>\n",
       "      <td>Shido</td>\n",
       "      <td>Shido / Non-Combativity</td>\n",
       "      <td>01:53</td>\n",
       "      <td>https://judobase.ijf.org/#/competition/contest/gp_ned2018_w_0052_0027</td>\n",
       "      <td>Grand Prix The Hague 2018</td>\n",
       "    </tr>\n",
       "  </tbody>\n",
       "</table>\n",
       "</div>"
      ],
      "text/plain": [
       "        local                    opponent  you                  action  \\\n",
       "0  COHEN Gili                   PUPP Reka    0                   Shido   \n",
       "1  COHEN Gili                   PUPP Reka    0                   Shido   \n",
       "2  COHEN Gili                   PUPP Reka    0         HSK (3rd shido)   \n",
       "3  COHEN Gili  BUCHARD NORDMEYER Amandine    0                Waza-ari   \n",
       "4  COHEN Gili  BUCHARD NORDMEYER Amandine    1                   Shido   \n",
       "5  COHEN Gili  BUCHARD NORDMEYER Amandine    0  Waza-Ari-awasete-ippon   \n",
       "6  COHEN Gili               PEREZ BOX Ana    1                   Ippon   \n",
       "7  COHEN Gili           KUZIUTINA Natalia    0                Waza-ari   \n",
       "8  COHEN Gili           KUZIUTINA Natalia    0                   Ippon   \n",
       "9  COHEN Gili               GNETO Astride    1                   Shido   \n",
       "\n",
       "                        action_detail   time  \\\n",
       "0                Shido / False-Attack  04:47   \n",
       "1                Shido / False-Attack  06:29   \n",
       "2            Shido / Hold-Trouser-Leg  08:13   \n",
       "3               Te-waza / Kata-guruma  00:39   \n",
       "4              Shido / Hold-Same-Side  01:26   \n",
       "5                 Te-waza / Seoi-nage  02:06   \n",
       "6  Osaekomi-waza / Kuzure-kesa-gatame  01:05   \n",
       "7                 Te-waza / Seoi-nage  00:21   \n",
       "8         Kansetsu-waza / Juji-gatame  03:04   \n",
       "9             Shido / Non-Combativity  01:53   \n",
       "\n",
       "                                                              url_youtube  \\\n",
       "0  https://judobase.ijf.org/#/competition/contest/masters2018_w_0052_0018   \n",
       "1  https://judobase.ijf.org/#/competition/contest/masters2018_w_0052_0018   \n",
       "2  https://judobase.ijf.org/#/competition/contest/masters2018_w_0052_0018   \n",
       "3  https://judobase.ijf.org/#/competition/contest/masters2018_w_0052_0025   \n",
       "4  https://judobase.ijf.org/#/competition/contest/masters2018_w_0052_0025   \n",
       "5  https://judobase.ijf.org/#/competition/contest/masters2018_w_0052_0025   \n",
       "6  https://judobase.ijf.org/#/competition/contest/masters2018_w_0052_0029   \n",
       "7  https://judobase.ijf.org/#/competition/contest/masters2018_w_0052_0033   \n",
       "8  https://judobase.ijf.org/#/competition/contest/masters2018_w_0052_0033   \n",
       "9   https://judobase.ijf.org/#/competition/contest/gp_ned2018_w_0052_0027   \n",
       "\n",
       "                       event  \n",
       "0     Masters Guangzhou 2018  \n",
       "1     Masters Guangzhou 2018  \n",
       "2     Masters Guangzhou 2018  \n",
       "3     Masters Guangzhou 2018  \n",
       "4     Masters Guangzhou 2018  \n",
       "5     Masters Guangzhou 2018  \n",
       "6     Masters Guangzhou 2018  \n",
       "7     Masters Guangzhou 2018  \n",
       "8     Masters Guangzhou 2018  \n",
       "9  Grand Prix The Hague 2018  "
      ]
     },
     "execution_count": 26,
     "metadata": {},
     "output_type": "execute_result"
    }
   ],
   "source": [
    "df_comp.head(10)"
   ]
  },
  {
   "cell_type": "code",
   "execution_count": 27,
   "metadata": {
    "collapsed": true
   },
   "outputs": [],
   "source": [
    "total_acciones = df_comp.shape[0]\n",
    "total_batallas = df_comp[[\"opponent\", \"event\"]].drop_duplicates().shape[0]"
   ]
  },
  {
   "cell_type": "code",
   "execution_count": 28,
   "metadata": {},
   "outputs": [
    {
     "name": "stdout",
     "output_type": "stream",
     "text": [
      "Es decir, un total de 132 acciones en 49 batallas\n"
     ]
    }
   ],
   "source": [
    "print(f'Es decir, un total de {total_acciones} acciones en {total_batallas} batallas')"
   ]
  },
  {
   "cell_type": "markdown",
   "metadata": {},
   "source": [
    "Agrupamos por sujeto y acción"
   ]
  },
  {
   "cell_type": "code",
   "execution_count": 30,
   "metadata": {},
   "outputs": [
    {
     "data": {
      "text/plain": [
       "you  action                \n",
       "0    Cancel Waza-ari           49.000000\n",
       "     HSK (3rd shido)           12.250000\n",
       "     Ippon                      3.062500\n",
       "     Shido                      1.324324\n",
       "     Waza-Ari-awasete-ippon    49.000000\n",
       "     Waza-ari                   3.266667\n",
       "     Yuko                      49.000000\n",
       "1    HSK (3rd shido)           24.500000\n",
       "     Ippon                      8.166667\n",
       "     Shido                      1.633333\n",
       "     Waza-Ari-awasete-ippon    24.500000\n",
       "     Waza-ari                   2.882353\n",
       "dtype: float64"
      ]
     },
     "execution_count": 30,
     "metadata": {},
     "output_type": "execute_result"
    }
   ],
   "source": [
    "grouped_actions = df_comp.groupby(['you', 'action']).size()\n",
    "total_batallas / grouped_actions"
   ]
  },
  {
   "cell_type": "code",
   "execution_count": 31,
   "metadata": {},
   "outputs": [
    {
     "name": "stdout",
     "output_type": "stream",
     "text": [
      "Por ejemplo, hiciste 6 Ippones y recibiste 30 Shidos\n"
     ]
    }
   ],
   "source": [
    "print(f'Por ejemplo, hiciste {grouped_actions[1, \"Ippon\"]} Ippones y recibiste {grouped_actions[1, \"Shido\"]} Shidos')"
   ]
  },
  {
   "cell_type": "markdown",
   "metadata": {},
   "source": [
    "### Detail Estrella"
   ]
  },
  {
   "cell_type": "code",
   "execution_count": 34,
   "metadata": {},
   "outputs": [
    {
     "data": {
      "text/plain": [
       "you  action_detail                           \n",
       "0    Shido / False-Attack                         3.266667\n",
       "1    Shido / Non-Combativity                      3.500000\n",
       "0    Shido / Non-Combativity                      4.454545\n",
       "     Osaekomi-waza / Yoko-shiho-gatame            8.166667\n",
       "     Shido / Defensive-Posture                    9.800000\n",
       "1    Ashi-waza / Ko-uchi-gari                    12.250000\n",
       "0    Shido / Outside-Contest-Area                12.250000\n",
       "1    Yoko-sutemi-waza / Uchi-mata-makikomi       12.250000\n",
       "     Shido / Hold-Same-Side                      12.250000\n",
       "0    Kansetsu-waza / Juji-gatame                 12.250000\n",
       "1    Shido / Outside-Contest-Area                12.250000\n",
       "     Shido / Defensive-Posture                   12.250000\n",
       "     Shido / Avoid-Grip                          16.333333\n",
       "0    Osaekomi-waza / Tate-shiho-gatame           16.333333\n",
       "     Te-waza / Ippon-seoi-nage                   16.333333\n",
       "1    Yoko-sutemi-waza / Ko-uchi-makikomi         16.333333\n",
       "0    Shido / Pull down                           16.333333\n",
       "1    Te-waza / Ippon-seoi-nage                   24.500000\n",
       "     Osaekomi-waza / Kuzure-kesa-gatame          24.500000\n",
       "0    Te-waza / Seoi-nage                         24.500000\n",
       "     Osaekomi-waza / Kuzure-kami-shiho-gatame    24.500000\n",
       "     Ashi-waza / Uchi-mata                       24.500000\n",
       "     Osaekomi-waza / Kesa-gatame                 24.500000\n",
       "     Koshi-waza / Koshi-guruma                   24.500000\n",
       "     Shido / Hold-Sleeve-Ends                    49.000000\n",
       "1    Yoko-sutemi-waza / Soto-makikomi            49.000000\n",
       "     Yoko-sutemi-waza / O-soto-makikomi          49.000000\n",
       "0    Ashi-waza / Hiza-guruma                     49.000000\n",
       "1    Te-waza / Sumi-otoshi                       49.000000\n",
       "0    Ashi-waza / Ko-uchi-gari                    49.000000\n",
       "1    Shido / Pistol-Grip                         49.000000\n",
       "0    Ashi-waza / O-soto-gari                     49.000000\n",
       "1    Shido / Hold-Trouser-Leg                    49.000000\n",
       "0    Koshi-waza / Harai-goshi                    49.000000\n",
       "1    Shido / False-Attack                        49.000000\n",
       "0    Ma-sutemi-waza / Sumi-gaeshi                49.000000\n",
       "1    Osaekomi-waza / Ura-gatame                  49.000000\n",
       "     Koshi-waza / Tsurikomi-goshi                49.000000\n",
       "     Kansetsu-waza / Juji-gatame                 49.000000\n",
       "     Cancel Waza-ari                             49.000000\n",
       "     Ashi-waza / O-uchi-gari                     49.000000\n",
       "     Ashi-waza / O-soto-gari                     49.000000\n",
       "0    Te-waza / Sumi-otoshi                       49.000000\n",
       "1    Yoko-sutemi-waza / Tani-otoshi              49.000000\n",
       "0    Te-waza / Kata-guruma                       49.000000\n",
       "     Shido / Avoid-Grip                          49.000000\n",
       "     Shido / Hold-Trouser-Leg                    49.000000\n",
       "                                                 49.000000\n",
       "dtype: float64"
      ]
     },
     "execution_count": 34,
     "metadata": {},
     "output_type": "execute_result"
    }
   ],
   "source": [
    "grouped_actions_detail = df_comp.groupby(['you', 'action_detail']).size()\n",
    "(total_batallas / grouped_actions_detail).sort_values()"
   ]
  },
  {
   "cell_type": "markdown",
   "metadata": {},
   "source": [
    "### Battles Gaitero"
   ]
  },
  {
   "cell_type": "code",
   "execution_count": 9,
   "metadata": {
    "collapsed": true
   },
   "outputs": [],
   "source": [
    "# dataframe containing battles info\n",
    "df = conn.as_pandas('select * from gaite')"
   ]
  },
  {
   "cell_type": "markdown",
   "metadata": {},
   "source": [
    "Cada fila es una acción en un combate, donde:\n",
    "\n",
    "__you__ = 1 significa que es tuyo (el shido, wazari...)  \n",
    "__you__ = 0 significa que es del oponente"
   ]
  },
  {
   "cell_type": "code",
   "execution_count": 10,
   "metadata": {},
   "outputs": [
    {
     "data": {
      "text/html": [
       "<div>\n",
       "<style scoped>\n",
       "    .dataframe tbody tr th:only-of-type {\n",
       "        vertical-align: middle;\n",
       "    }\n",
       "\n",
       "    .dataframe tbody tr th {\n",
       "        vertical-align: top;\n",
       "    }\n",
       "\n",
       "    .dataframe thead th {\n",
       "        text-align: right;\n",
       "    }\n",
       "</style>\n",
       "<table border=\"1\" class=\"dataframe\">\n",
       "  <thead>\n",
       "    <tr style=\"text-align: right;\">\n",
       "      <th></th>\n",
       "      <th>opponent</th>\n",
       "      <th>you</th>\n",
       "      <th>action</th>\n",
       "      <th>action_detail</th>\n",
       "      <th>time</th>\n",
       "      <th>url_youtube</th>\n",
       "      <th>event</th>\n",
       "    </tr>\n",
       "  </thead>\n",
       "  <tbody>\n",
       "    <tr>\n",
       "      <th>0</th>\n",
       "      <td>SHMAILOV Baruch</td>\n",
       "      <td>1</td>\n",
       "      <td>Shido</td>\n",
       "      <td>Shido / False-Attack</td>\n",
       "      <td>00:22</td>\n",
       "      <td>https://judobase.ijf.org/#/competition/contest/gp_ned2018_m_0066_0055</td>\n",
       "      <td>Grand Prix The Hague 2018</td>\n",
       "    </tr>\n",
       "    <tr>\n",
       "      <th>1</th>\n",
       "      <td>SHMAILOV Baruch</td>\n",
       "      <td>0</td>\n",
       "      <td>Shido</td>\n",
       "      <td>Shido / False-Attack</td>\n",
       "      <td>01:28</td>\n",
       "      <td>https://judobase.ijf.org/#/competition/contest/gp_ned2018_m_0066_0055</td>\n",
       "      <td>Grand Prix The Hague 2018</td>\n",
       "    </tr>\n",
       "    <tr>\n",
       "      <th>2</th>\n",
       "      <td>SHMAILOV Baruch</td>\n",
       "      <td>1</td>\n",
       "      <td>Shido</td>\n",
       "      <td>Shido / Hold-Trouser-Leg</td>\n",
       "      <td>03:55</td>\n",
       "      <td>https://judobase.ijf.org/#/competition/contest/gp_ned2018_m_0066_0055</td>\n",
       "      <td>Grand Prix The Hague 2018</td>\n",
       "    </tr>\n",
       "    <tr>\n",
       "      <th>3</th>\n",
       "      <td>SHMAILOV Baruch</td>\n",
       "      <td>0</td>\n",
       "      <td>Ippon</td>\n",
       "      <td>Ashi-waza / Uchi-mata</td>\n",
       "      <td>04:23</td>\n",
       "      <td>https://judobase.ijf.org/#/competition/contest/gp_ned2018_m_0066_0055</td>\n",
       "      <td>Grand Prix The Hague 2018</td>\n",
       "    </tr>\n",
       "    <tr>\n",
       "      <th>4</th>\n",
       "      <td>BAI Zhijie</td>\n",
       "      <td>1</td>\n",
       "      <td>Shido</td>\n",
       "      <td>Shido / Avoid-Grip</td>\n",
       "      <td>01:34</td>\n",
       "      <td>https://judobase.ijf.org/#/competition/contest/gp_ned2018_m_0066_0046</td>\n",
       "      <td>Grand Prix The Hague 2018</td>\n",
       "    </tr>\n",
       "    <tr>\n",
       "      <th>5</th>\n",
       "      <td>BAI Zhijie</td>\n",
       "      <td>1</td>\n",
       "      <td>Shido</td>\n",
       "      <td>Shido / Fingers-interlocked</td>\n",
       "      <td>02:10</td>\n",
       "      <td>https://judobase.ijf.org/#/competition/contest/gp_ned2018_m_0066_0046</td>\n",
       "      <td>Grand Prix The Hague 2018</td>\n",
       "    </tr>\n",
       "    <tr>\n",
       "      <th>6</th>\n",
       "      <td>BAI Zhijie</td>\n",
       "      <td>1</td>\n",
       "      <td>Waza-ari</td>\n",
       "      <td>Koshi-waza / Sode-tsurikomi-goshi</td>\n",
       "      <td>02:42</td>\n",
       "      <td>https://judobase.ijf.org/#/competition/contest/gp_ned2018_m_0066_0046</td>\n",
       "      <td>Grand Prix The Hague 2018</td>\n",
       "    </tr>\n",
       "    <tr>\n",
       "      <th>7</th>\n",
       "      <td>SHERSHAN Dzmitry</td>\n",
       "      <td>1</td>\n",
       "      <td>Shido</td>\n",
       "      <td>Shido / Non-Combativity</td>\n",
       "      <td>04:50</td>\n",
       "      <td>https://judobase.ijf.org/#/competition/contest/gs_uae2018_m_0066_0033</td>\n",
       "      <td>Grand Slam Abu Dhabi 2018</td>\n",
       "    </tr>\n",
       "    <tr>\n",
       "      <th>8</th>\n",
       "      <td>SHERSHAN Dzmitry</td>\n",
       "      <td>1</td>\n",
       "      <td>Cancel Ippon</td>\n",
       "      <td></td>\n",
       "      <td>05:31</td>\n",
       "      <td>https://judobase.ijf.org/#/competition/contest/gs_uae2018_m_0066_0033</td>\n",
       "      <td>Grand Slam Abu Dhabi 2018</td>\n",
       "    </tr>\n",
       "    <tr>\n",
       "      <th>9</th>\n",
       "      <td>SHERSHAN Dzmitry</td>\n",
       "      <td>0</td>\n",
       "      <td>Ippon</td>\n",
       "      <td>Yoko-sutemi-waza / O-soto-makikomi</td>\n",
       "      <td>08:43</td>\n",
       "      <td>https://judobase.ijf.org/#/competition/contest/gs_uae2018_m_0066_0033</td>\n",
       "      <td>Grand Slam Abu Dhabi 2018</td>\n",
       "    </tr>\n",
       "  </tbody>\n",
       "</table>\n",
       "</div>"
      ],
      "text/plain": [
       "           opponent  you        action                       action_detail  \\\n",
       "0   SHMAILOV Baruch    1         Shido                Shido / False-Attack   \n",
       "1   SHMAILOV Baruch    0         Shido                Shido / False-Attack   \n",
       "2   SHMAILOV Baruch    1         Shido            Shido / Hold-Trouser-Leg   \n",
       "3   SHMAILOV Baruch    0         Ippon               Ashi-waza / Uchi-mata   \n",
       "4        BAI Zhijie    1         Shido                  Shido / Avoid-Grip   \n",
       "5        BAI Zhijie    1         Shido         Shido / Fingers-interlocked   \n",
       "6        BAI Zhijie    1      Waza-ari   Koshi-waza / Sode-tsurikomi-goshi   \n",
       "7  SHERSHAN Dzmitry    1         Shido             Shido / Non-Combativity   \n",
       "8  SHERSHAN Dzmitry    1  Cancel Ippon                                       \n",
       "9  SHERSHAN Dzmitry    0         Ippon  Yoko-sutemi-waza / O-soto-makikomi   \n",
       "\n",
       "    time  \\\n",
       "0  00:22   \n",
       "1  01:28   \n",
       "2  03:55   \n",
       "3  04:23   \n",
       "4  01:34   \n",
       "5  02:10   \n",
       "6  02:42   \n",
       "7  04:50   \n",
       "8  05:31   \n",
       "9  08:43   \n",
       "\n",
       "                                                             url_youtube  \\\n",
       "0  https://judobase.ijf.org/#/competition/contest/gp_ned2018_m_0066_0055   \n",
       "1  https://judobase.ijf.org/#/competition/contest/gp_ned2018_m_0066_0055   \n",
       "2  https://judobase.ijf.org/#/competition/contest/gp_ned2018_m_0066_0055   \n",
       "3  https://judobase.ijf.org/#/competition/contest/gp_ned2018_m_0066_0055   \n",
       "4  https://judobase.ijf.org/#/competition/contest/gp_ned2018_m_0066_0046   \n",
       "5  https://judobase.ijf.org/#/competition/contest/gp_ned2018_m_0066_0046   \n",
       "6  https://judobase.ijf.org/#/competition/contest/gp_ned2018_m_0066_0046   \n",
       "7  https://judobase.ijf.org/#/competition/contest/gs_uae2018_m_0066_0033   \n",
       "8  https://judobase.ijf.org/#/competition/contest/gs_uae2018_m_0066_0033   \n",
       "9  https://judobase.ijf.org/#/competition/contest/gs_uae2018_m_0066_0033   \n",
       "\n",
       "                       event  \n",
       "0  Grand Prix The Hague 2018  \n",
       "1  Grand Prix The Hague 2018  \n",
       "2  Grand Prix The Hague 2018  \n",
       "3  Grand Prix The Hague 2018  \n",
       "4  Grand Prix The Hague 2018  \n",
       "5  Grand Prix The Hague 2018  \n",
       "6  Grand Prix The Hague 2018  \n",
       "7  Grand Slam Abu Dhabi 2018  \n",
       "8  Grand Slam Abu Dhabi 2018  \n",
       "9  Grand Slam Abu Dhabi 2018  "
      ]
     },
     "execution_count": 10,
     "metadata": {},
     "output_type": "execute_result"
    }
   ],
   "source": [
    "df.head(10)"
   ]
  },
  {
   "cell_type": "code",
   "execution_count": 11,
   "metadata": {},
   "outputs": [
    {
     "name": "stdout",
     "output_type": "stream",
     "text": [
      "Es decir, un total de 99 acciones en 29 batallas\n"
     ]
    }
   ],
   "source": [
    "print(f'Es decir, un total de {df.shape[0]} acciones en {df[[\"opponent\", \"event\"]].drop_duplicates().shape[0]} batallas')"
   ]
  },
  {
   "cell_type": "markdown",
   "metadata": {},
   "source": [
    "Agrupamos por sujeto y acción"
   ]
  },
  {
   "cell_type": "code",
   "execution_count": 12,
   "metadata": {},
   "outputs": [
    {
     "data": {
      "text/plain": [
       "you  action         \n",
       "0    Cancel Shido        1\n",
       "     HSK (3rd shido)     5\n",
       "     Ippon               6\n",
       "     Shido              24\n",
       "     Waza-ari            6\n",
       "1    Cancel Ippon        2\n",
       "     Cancel Waza-ari     1\n",
       "     HSK (3rd shido)     4\n",
       "     Ippon               1\n",
       "     Shido              38\n",
       "     Waza-ari           11\n",
       "dtype: int64"
      ]
     },
     "execution_count": 12,
     "metadata": {},
     "output_type": "execute_result"
    }
   ],
   "source": [
    "grouped_actions = df.groupby(['you', 'action']).size()\n",
    "grouped_actions"
   ]
  },
  {
   "cell_type": "code",
   "execution_count": 13,
   "metadata": {},
   "outputs": [
    {
     "name": "stdout",
     "output_type": "stream",
     "text": [
      "Por ejemplo, hiciste 1 Ippones y recibiste 38 Shidos\n"
     ]
    }
   ],
   "source": [
    "print(f'Por ejemplo, hiciste {grouped_actions[1, \"Ippon\"]} Ippones y recibiste {grouped_actions[1, \"Shido\"]} Shidos')"
   ]
  },
  {
   "cell_type": "markdown",
   "metadata": {},
   "source": [
    "### Detail Gaitero"
   ]
  },
  {
   "cell_type": "code",
   "execution_count": 14,
   "metadata": {},
   "outputs": [
    {
     "data": {
      "text/plain": [
       "you  action_detail                     \n",
       "0    Ashi-waza / Ko-uchi-gari               1\n",
       "     Ashi-waza / O-uchi-gari                2\n",
       "     Ashi-waza / Uchi-mata                  1\n",
       "     Koshi-waza / Sode-tsurikomi-goshi      1\n",
       "     Koshi-waza / Tsuri-goshi               1\n",
       "     Osaekomi-waza / Kesa-gatame            1\n",
       "     Osaekomi-waza / Ura-gatame             1\n",
       "     Osaekomi-waza / Yoko-shiho-gatame      1\n",
       "     Shido / Avoid-Grip                     1\n",
       "     Shido / Defensive-Posture              2\n",
       "     Shido / False-Attack                  11\n",
       "     Shido / Hold-Same-Side                 1\n",
       "     Shido / Non-Combativity               11\n",
       "     Shido / Outside-Contest-Area           4\n",
       "     Te-waza / Seoi-nage                    1\n",
       "     Te-waza / Tai-otoshi                   1\n",
       "     Yoko-sutemi-waza / O-soto-makikomi     1\n",
       "1                                           4\n",
       "     Ashi-waza / O-uchi-gaeshi              1\n",
       "     Ashi-waza / Uchi-mata-gaeshi           1\n",
       "     Koshi-waza / Sode-tsurikomi-goshi      1\n",
       "     Ma-sutemi-waza / Sumi-gaeshi           3\n",
       "     Osaekomi-waza / Tate-shiho-gatame      1\n",
       "     Shido / Avoid-Grip                     6\n",
       "     Shido / Defensive-Posture              3\n",
       "     Shido / Escape-With-Head               1\n",
       "     Shido / False-Attack                   6\n",
       "     Shido / Fingers-In-Sleeve              1\n",
       "     Shido / Fingers-interlocked            1\n",
       "     Shido / Hold-Sleeve-Ends               1\n",
       "     Shido / Hold-Trouser-Leg               1\n",
       "     Shido / Non-Combativity               17\n",
       "     Shido / Outside-Contest-Area           2\n",
       "     Shido / Pistol-Grip                    1\n",
       "     Shido / Undetermined                   1\n",
       "     Te-waza / Ippon-seoi-nage              1\n",
       "     Te-waza / Uchi-mata-sukashi            1\n",
       "     Yoko-sutemi-waza / Tani-otoshi         3\n",
       "dtype: int64"
      ]
     },
     "execution_count": 14,
     "metadata": {},
     "output_type": "execute_result"
    }
   ],
   "source": [
    "df.groupby(['you', 'action_detail']).size()"
   ]
  },
  {
   "cell_type": "code",
   "execution_count": null,
   "metadata": {
    "collapsed": true
   },
   "outputs": [],
   "source": []
  },
  {
   "cell_type": "code",
   "execution_count": null,
   "metadata": {
    "collapsed": true
   },
   "outputs": [],
   "source": []
  },
  {
   "cell_type": "code",
   "execution_count": null,
   "metadata": {
    "collapsed": true
   },
   "outputs": [],
   "source": []
  },
  {
   "cell_type": "code",
   "execution_count": null,
   "metadata": {
    "collapsed": true
   },
   "outputs": [],
   "source": []
  },
  {
   "cell_type": "code",
   "execution_count": null,
   "metadata": {
    "collapsed": true
   },
   "outputs": [],
   "source": []
  },
  {
   "cell_type": "code",
   "execution_count": null,
   "metadata": {
    "collapsed": true
   },
   "outputs": [],
   "source": []
  },
  {
   "cell_type": "code",
   "execution_count": null,
   "metadata": {
    "collapsed": true
   },
   "outputs": [],
   "source": []
  },
  {
   "cell_type": "code",
   "execution_count": 45,
   "metadata": {
    "collapsed": true
   },
   "outputs": [],
   "source": [
    "batallas = df[[\"local\", \"opponent\", \"event\"]].drop_duplicates()"
   ]
  },
  {
   "cell_type": "code",
   "execution_count": 47,
   "metadata": {},
   "outputs": [
    {
     "data": {
      "text/plain": [
       "local\n",
       "BABAMURATOVA Gulbadam    39\n",
       "BOBRIKOVA Daria          11\n",
       "CHITU Andreea            36\n",
       "COHEN Gili               49\n",
       "DELGADO Angelica         41\n",
       "dtype: int64"
      ]
     },
     "execution_count": 47,
     "metadata": {},
     "output_type": "execute_result"
    }
   ],
   "source": [
    "n_batallas = batallas.groupby('local').size()\n",
    "n_batallas.head()"
   ]
  },
  {
   "cell_type": "code",
   "execution_count": 54,
   "metadata": {
    "collapsed": true
   },
   "outputs": [],
   "source": [
    "grouped_actions = df.groupby(['action_detail', 'local', 'you']).size()"
   ]
  },
  {
   "cell_type": "code",
   "execution_count": 58,
   "metadata": {},
   "outputs": [
    {
     "data": {
      "text/plain": [
       "action_detail                       local                   you\n",
       "                                    CHITU Andreea           1      21\n",
       "Shido / Non-Combativity             GILES Chelsie           1      15\n",
       "Shido / False-Attack                COHEN Gili              0      15\n",
       "                                    BABAMURATOVA Gulbadam   1      14\n",
       "                                    CHITU Andreea           0      14\n",
       "Shido / Non-Combativity             COHEN Gili              1      14\n",
       "                                    KELMENDI Majlinda       0      12\n",
       "                                    BABAMURATOVA Gulbadam   0      12\n",
       "                                    COHEN Gili              0      11\n",
       "                                    LOPEZ SHERIFF Estrella  1      10\n",
       "                                    BABAMURATOVA Gulbadam   0       9\n",
       "Shido / False-Attack                DELGADO Angelica        1       9\n",
       "Shido / Non-Combativity             KELDIYOROVA Diyora      0       9\n",
       "                                    DELGADO Angelica        1       9\n",
       "                                                            0       9\n",
       "Shido / False-Attack                PRIMO Gefen             0       9\n",
       "Ashi-waza / Uchi-mata               DELGADO Angelica        1       8\n",
       "Shido / False-Attack                DELGADO Angelica        0       8\n",
       "                                    KELDIYOROVA Diyora      1       7\n",
       "                                    KELMENDI Majlinda       0       7\n",
       "                                    LOPEZ SHERIFF Estrella  1       7\n",
       "Shido / Non-Combativity             LOPEZ SHERIFF Estrella  0       7\n",
       "                                    PRIMO Gefen             1       7\n",
       "Shido / Outside-Contest-Area        GILES Chelsie           0       7\n",
       "Shido / Avoid-Grip                  DELGADO Angelica        0       7\n",
       "                                    JANASHVILI Mariam       0       7\n",
       "                                    KELMENDI Majlinda       0       7\n",
       "Shido / Defensive-Posture           KELMENDI Majlinda       0       6\n",
       "Shido / Avoid-Grip                  KELMENDI Majlinda       0       6\n",
       "Ashi-waza / Uchi-mata               KELMENDI Majlinda       1       6\n",
       "                                                                   ..\n",
       "Te-waza / Ippon-seoi-nage           DELGADO Angelica        0       1\n",
       "Shido / Avoid-Grip                  FOFANA Salimata         1       1\n",
       "Te-waza / Ippon-seoi-nage           CHITU Andreea           1       1\n",
       "                                                            0       1\n",
       "                                    BOBRIKOVA Daria         0       1\n",
       "Shido / Avoid-Grip                  KAKKO Katri             0       1\n",
       "Te-waza / Ippon-seoi-nage           BABAMURATOVA Gulbadam   1       1\n",
       "                                                            0       1\n",
       "Shime-waza / Sankaku-jime           PRIMO Gefen             1       1\n",
       "Other / Kiken gachi                 KELMENDI Majlinda       0       1\n",
       "Other / Fusen Gachi                 CHITU Andreea           0       1\n",
       "                                    BABAMURATOVA Gulbadam   1       1\n",
       "Osaekomi-waza / Ushiro-kesa-gatame  KAKKO Katri             0       1\n",
       "Osaekomi-waza / Kuzure-kesa-gatame  ZIYAEVA Gulnoza         0       1\n",
       "Osaekomi-waza / Tate-shiho-gatame   BABAMURATOVA Gulbadam   0       1\n",
       "                                    GILES Chelsie           0       1\n",
       "                                    JANASHVILI Mariam       0       1\n",
       "                                    KUZNETSOVA Alesya       1       1\n",
       "Osaekomi-waza / Uki-gatame          KUZNETSOVA Alesya       1       1\n",
       "Osaekomi-waza / Ura-gatame          COHEN Gili              1       1\n",
       "Osaekomi-waza / Ushiro-kesa-gatame  KELDIYOROVA Diyora      0       1\n",
       "Osaekomi-waza / Yoko-shiho-gatame   ZIYAEVA Gulnoza         0       1\n",
       "Te-waza / Kata-guruma               JANASHVILI Mariam       0       1\n",
       "Osaekomi-waza / Yoko-shiho-gatame   DELGADO Angelica        1       1\n",
       "Te-waza / Kata-guruma               COHEN Gili              0       1\n",
       "Osaekomi-waza / Yoko-shiho-gatame   KOCHER Fabienne         0       1\n",
       "Te-waza / Ippon-seoi-nage           MOKDAR Faiza            1       1\n",
       "Osaekomi-waza / Yoko-shiho-gatame   PRIMO Gefen             0       1\n",
       "                                                            1       1\n",
       "Yoko-sutemi-waza / Yoko-guruma      CHITU Andreea           1       1\n",
       "Length: 521, dtype: int64"
      ]
     },
     "execution_count": 58,
     "metadata": {},
     "output_type": "execute_result"
    }
   ],
   "source": [
    "grouped_actions.sort_values(ascending=False)"
   ]
  },
  {
   "cell_type": "code",
   "execution_count": null,
   "metadata": {
    "collapsed": true
   },
   "outputs": [],
   "source": []
  }
 ],
 "metadata": {
  "kernelspec": {
   "display_name": "Python 3",
   "language": "python",
   "name": "python3"
  },
  "language_info": {
   "codemirror_mode": {
    "name": "ipython",
    "version": 3
   },
   "file_extension": ".py",
   "mimetype": "text/x-python",
   "name": "python",
   "nbconvert_exporter": "python",
   "pygments_lexer": "ipython3",
   "version": "3.6.2"
  }
 },
 "nbformat": 4,
 "nbformat_minor": 2
}
