{
 "cells": [
  {
   "cell_type": "markdown",
   "metadata": {},
   "source": [
    "## Crawling "
   ]
  },
  {
   "cell_type": "code",
   "execution_count": 1,
   "metadata": {
    "collapsed": true
   },
   "outputs": [],
   "source": [
    "import pandas as pd\n",
    "import time\n",
    "from selenium import webdriver\n",
    "from selenium.webdriver.common.keys import Keys"
   ]
  },
  {
   "cell_type": "code",
   "execution_count": 2,
   "metadata": {},
   "outputs": [],
   "source": [
    "from lib import competition_to_family_map, get_all_battles, url_leaders_by_weight, extract_all_profiles_weight, SQLiteConnection"
   ]
  },
  {
   "cell_type": "code",
   "execution_count": 3,
   "metadata": {
    "collapsed": true
   },
   "outputs": [],
   "source": [
    "import datetime"
   ]
  },
  {
   "cell_type": "code",
   "execution_count": 4,
   "metadata": {},
   "outputs": [],
   "source": [
    "# abrir Google Chrome\n",
    "driver = webdriver.Chrome(r\"C:\\Users\\manuel.lopez\\Documents\\chromedriver.exe\")"
   ]
  },
  {
   "cell_type": "markdown",
   "metadata": {},
   "source": [
    "### Extract all battles from profile"
   ]
  },
  {
   "cell_type": "code",
   "execution_count": 13,
   "metadata": {
    "collapsed": true
   },
   "outputs": [],
   "source": [
    "from_date = datetime.datetime.strptime('1 Nov 2018', '%d %b %Y')"
   ]
  },
  {
   "cell_type": "code",
   "execution_count": 14,
   "metadata": {},
   "outputs": [
    {
     "ename": "WebDriverException",
     "evalue": "Message: chrome not reachable\n  (Session info: chrome=70.0.3538.102)\n  (Driver info: chromedriver=2.43.600210 (68dcf5eebde37173d4027fa8635e332711d2874a),platform=Windows NT 10.0.14393 x86_64)\n",
     "output_type": "error",
     "traceback": [
      "\u001b[1;31m---------------------------------------------------------------------------\u001b[0m",
      "\u001b[1;31mWebDriverException\u001b[0m                        Traceback (most recent call last)",
      "\u001b[1;32m<ipython-input-14-4d053d023e7b>\u001b[0m in \u001b[0;36m<module>\u001b[1;34m()\u001b[0m\n\u001b[1;32m----> 1\u001b[1;33m \u001b[0mbattles\u001b[0m \u001b[1;33m=\u001b[0m \u001b[0mget_all_battles\u001b[0m\u001b[1;33m(\u001b[0m\u001b[0mdriver\u001b[0m\u001b[1;33m,\u001b[0m \u001b[1;34m'3238'\u001b[0m\u001b[1;33m,\u001b[0m \u001b[0mfrom_date\u001b[0m\u001b[1;33m)\u001b[0m\u001b[1;33m\u001b[0m\u001b[0m\n\u001b[0m",
      "\u001b[1;32m~\\Documents\\judo\\judo\\lib.py\u001b[0m in \u001b[0;36mget_all_battles\u001b[1;34m(driver, profile_id, from_date, time_sleep)\u001b[0m\n\u001b[0;32m     89\u001b[0m     \u001b[0mprofile_web\u001b[0m \u001b[1;33m=\u001b[0m \u001b[1;34m'https://judobase.ijf.org/#/competitor/profile/'\u001b[0m \u001b[1;33m+\u001b[0m \u001b[0mprofile_id\u001b[0m\u001b[1;33m\u001b[0m\u001b[0m\n\u001b[0;32m     90\u001b[0m     \u001b[0mnumero_petes\u001b[0m \u001b[1;33m=\u001b[0m \u001b[1;36m0\u001b[0m\u001b[1;33m\u001b[0m\u001b[0m\n\u001b[1;32m---> 91\u001b[1;33m     \u001b[0mdriver\u001b[0m\u001b[1;33m.\u001b[0m\u001b[0mget\u001b[0m\u001b[1;33m(\u001b[0m\u001b[0mprofile_web\u001b[0m\u001b[1;33m)\u001b[0m\u001b[1;33m\u001b[0m\u001b[0m\n\u001b[0m\u001b[0;32m     92\u001b[0m     \u001b[0mtime\u001b[0m\u001b[1;33m.\u001b[0m\u001b[0msleep\u001b[0m\u001b[1;33m(\u001b[0m\u001b[1;36m1\u001b[0m\u001b[1;33m)\u001b[0m\u001b[1;33m\u001b[0m\u001b[0m\n\u001b[0;32m     93\u001b[0m     \u001b[1;32mtry\u001b[0m\u001b[1;33m:\u001b[0m\u001b[1;33m\u001b[0m\u001b[0m\n",
      "\u001b[1;32m~\\AppData\\Local\\conda\\conda\\envs\\video\\lib\\site-packages\\selenium\\webdriver\\remote\\webdriver.py\u001b[0m in \u001b[0;36mget\u001b[1;34m(self, url)\u001b[0m\n\u001b[0;32m    331\u001b[0m         \u001b[0mLoads\u001b[0m \u001b[0ma\u001b[0m \u001b[0mweb\u001b[0m \u001b[0mpage\u001b[0m \u001b[1;32min\u001b[0m \u001b[0mthe\u001b[0m \u001b[0mcurrent\u001b[0m \u001b[0mbrowser\u001b[0m \u001b[0msession\u001b[0m\u001b[1;33m.\u001b[0m\u001b[1;33m\u001b[0m\u001b[0m\n\u001b[0;32m    332\u001b[0m         \"\"\"\n\u001b[1;32m--> 333\u001b[1;33m         \u001b[0mself\u001b[0m\u001b[1;33m.\u001b[0m\u001b[0mexecute\u001b[0m\u001b[1;33m(\u001b[0m\u001b[0mCommand\u001b[0m\u001b[1;33m.\u001b[0m\u001b[0mGET\u001b[0m\u001b[1;33m,\u001b[0m \u001b[1;33m{\u001b[0m\u001b[1;34m'url'\u001b[0m\u001b[1;33m:\u001b[0m \u001b[0murl\u001b[0m\u001b[1;33m}\u001b[0m\u001b[1;33m)\u001b[0m\u001b[1;33m\u001b[0m\u001b[0m\n\u001b[0m\u001b[0;32m    334\u001b[0m \u001b[1;33m\u001b[0m\u001b[0m\n\u001b[0;32m    335\u001b[0m     \u001b[1;33m@\u001b[0m\u001b[0mproperty\u001b[0m\u001b[1;33m\u001b[0m\u001b[0m\n",
      "\u001b[1;32m~\\AppData\\Local\\conda\\conda\\envs\\video\\lib\\site-packages\\selenium\\webdriver\\remote\\webdriver.py\u001b[0m in \u001b[0;36mexecute\u001b[1;34m(self, driver_command, params)\u001b[0m\n\u001b[0;32m    319\u001b[0m         \u001b[0mresponse\u001b[0m \u001b[1;33m=\u001b[0m \u001b[0mself\u001b[0m\u001b[1;33m.\u001b[0m\u001b[0mcommand_executor\u001b[0m\u001b[1;33m.\u001b[0m\u001b[0mexecute\u001b[0m\u001b[1;33m(\u001b[0m\u001b[0mdriver_command\u001b[0m\u001b[1;33m,\u001b[0m \u001b[0mparams\u001b[0m\u001b[1;33m)\u001b[0m\u001b[1;33m\u001b[0m\u001b[0m\n\u001b[0;32m    320\u001b[0m         \u001b[1;32mif\u001b[0m \u001b[0mresponse\u001b[0m\u001b[1;33m:\u001b[0m\u001b[1;33m\u001b[0m\u001b[0m\n\u001b[1;32m--> 321\u001b[1;33m             \u001b[0mself\u001b[0m\u001b[1;33m.\u001b[0m\u001b[0merror_handler\u001b[0m\u001b[1;33m.\u001b[0m\u001b[0mcheck_response\u001b[0m\u001b[1;33m(\u001b[0m\u001b[0mresponse\u001b[0m\u001b[1;33m)\u001b[0m\u001b[1;33m\u001b[0m\u001b[0m\n\u001b[0m\u001b[0;32m    322\u001b[0m             response['value'] = self._unwrap_value(\n\u001b[0;32m    323\u001b[0m                 response.get('value', None))\n",
      "\u001b[1;32m~\\AppData\\Local\\conda\\conda\\envs\\video\\lib\\site-packages\\selenium\\webdriver\\remote\\errorhandler.py\u001b[0m in \u001b[0;36mcheck_response\u001b[1;34m(self, response)\u001b[0m\n\u001b[0;32m    240\u001b[0m                 \u001b[0malert_text\u001b[0m \u001b[1;33m=\u001b[0m \u001b[0mvalue\u001b[0m\u001b[1;33m[\u001b[0m\u001b[1;34m'alert'\u001b[0m\u001b[1;33m]\u001b[0m\u001b[1;33m.\u001b[0m\u001b[0mget\u001b[0m\u001b[1;33m(\u001b[0m\u001b[1;34m'text'\u001b[0m\u001b[1;33m)\u001b[0m\u001b[1;33m\u001b[0m\u001b[0m\n\u001b[0;32m    241\u001b[0m             \u001b[1;32mraise\u001b[0m \u001b[0mexception_class\u001b[0m\u001b[1;33m(\u001b[0m\u001b[0mmessage\u001b[0m\u001b[1;33m,\u001b[0m \u001b[0mscreen\u001b[0m\u001b[1;33m,\u001b[0m \u001b[0mstacktrace\u001b[0m\u001b[1;33m,\u001b[0m \u001b[0malert_text\u001b[0m\u001b[1;33m)\u001b[0m\u001b[1;33m\u001b[0m\u001b[0m\n\u001b[1;32m--> 242\u001b[1;33m         \u001b[1;32mraise\u001b[0m \u001b[0mexception_class\u001b[0m\u001b[1;33m(\u001b[0m\u001b[0mmessage\u001b[0m\u001b[1;33m,\u001b[0m \u001b[0mscreen\u001b[0m\u001b[1;33m,\u001b[0m \u001b[0mstacktrace\u001b[0m\u001b[1;33m)\u001b[0m\u001b[1;33m\u001b[0m\u001b[0m\n\u001b[0m\u001b[0;32m    243\u001b[0m \u001b[1;33m\u001b[0m\u001b[0m\n\u001b[0;32m    244\u001b[0m     \u001b[1;32mdef\u001b[0m \u001b[0m_value_or_default\u001b[0m\u001b[1;33m(\u001b[0m\u001b[0mself\u001b[0m\u001b[1;33m,\u001b[0m \u001b[0mobj\u001b[0m\u001b[1;33m,\u001b[0m \u001b[0mkey\u001b[0m\u001b[1;33m,\u001b[0m \u001b[0mdefault\u001b[0m\u001b[1;33m)\u001b[0m\u001b[1;33m:\u001b[0m\u001b[1;33m\u001b[0m\u001b[0m\n",
      "\u001b[1;31mWebDriverException\u001b[0m: Message: chrome not reachable\n  (Session info: chrome=70.0.3538.102)\n  (Driver info: chromedriver=2.43.600210 (68dcf5eebde37173d4027fa8635e332711d2874a),platform=Windows NT 10.0.14393 x86_64)\n"
     ]
    }
   ],
   "source": [
    "battles = get_all_battles(driver, '3238', from_date)"
   ]
  },
  {
   "cell_type": "code",
   "execution_count": 8,
   "metadata": {},
   "outputs": [
    {
     "data": {
      "text/html": [
       "<div>\n",
       "<style>\n",
       "    .dataframe thead tr:only-child th {\n",
       "        text-align: right;\n",
       "    }\n",
       "\n",
       "    .dataframe thead th {\n",
       "        text-align: left;\n",
       "    }\n",
       "\n",
       "    .dataframe tbody tr th {\n",
       "        vertical-align: top;\n",
       "    }\n",
       "</style>\n",
       "<table border=\"1\" class=\"dataframe\">\n",
       "  <thead>\n",
       "    <tr style=\"text-align: right;\">\n",
       "      <th></th>\n",
       "      <th>wins</th>\n",
       "      <th>local</th>\n",
       "      <th>opponent</th>\n",
       "      <th>event</th>\n",
       "      <th>date</th>\n",
       "      <th>round</th>\n",
       "      <th>local_points</th>\n",
       "      <th>opponent_points</th>\n",
       "      <th>duration</th>\n",
       "      <th>category</th>\n",
       "      <th>has_video</th>\n",
       "      <th>competition_family</th>\n",
       "      <th>url_video</th>\n",
       "    </tr>\n",
       "  </thead>\n",
       "  <tbody>\n",
       "    <tr>\n",
       "      <th>0</th>\n",
       "      <td>0</td>\n",
       "      <td>LOPEZ SHERIFF Estrella</td>\n",
       "      <td>PARK Da Sol</td>\n",
       "      <td>Grand Slam Osaka 2018</td>\n",
       "      <td>2018-11-23</td>\n",
       "      <td>Round 1</td>\n",
       "      <td>0</td>\n",
       "      <td>100</td>\n",
       "      <td>00:12</td>\n",
       "      <td>-52 kg</td>\n",
       "      <td>True</td>\n",
       "      <td>Grand Slam</td>\n",
       "      <td>https://judobase.ijf.org/#/competition/contest...</td>\n",
       "    </tr>\n",
       "    <tr>\n",
       "      <th>1</th>\n",
       "      <td>0</td>\n",
       "      <td>LOPEZ SHERIFF Estrella</td>\n",
       "      <td>PUPP Reka</td>\n",
       "      <td>Grand Prix The Hague 2018</td>\n",
       "      <td>2018-11-16</td>\n",
       "      <td>Round 2</td>\n",
       "      <td>0</td>\n",
       "      <td>10</td>\n",
       "      <td>04:00</td>\n",
       "      <td>-52 kg</td>\n",
       "      <td>True</td>\n",
       "      <td>Grand Prix</td>\n",
       "      <td>https://judobase.ijf.org/#/competition/contest...</td>\n",
       "    </tr>\n",
       "    <tr>\n",
       "      <th>2</th>\n",
       "      <td>1</td>\n",
       "      <td>LOPEZ SHERIFF Estrella</td>\n",
       "      <td>JIMENEZ Kristine</td>\n",
       "      <td>Grand Prix The Hague 2018</td>\n",
       "      <td>2018-11-16</td>\n",
       "      <td>Round 1</td>\n",
       "      <td>10</td>\n",
       "      <td>0</td>\n",
       "      <td>04:00</td>\n",
       "      <td>-52 kg</td>\n",
       "      <td>True</td>\n",
       "      <td>Grand Prix</td>\n",
       "      <td>https://judobase.ijf.org/#/competition/contest...</td>\n",
       "    </tr>\n",
       "  </tbody>\n",
       "</table>\n",
       "</div>"
      ],
      "text/plain": [
       "   wins                   local          opponent                      event  \\\n",
       "0     0  LOPEZ SHERIFF Estrella       PARK Da Sol      Grand Slam Osaka 2018   \n",
       "1     0  LOPEZ SHERIFF Estrella         PUPP Reka  Grand Prix The Hague 2018   \n",
       "2     1  LOPEZ SHERIFF Estrella  JIMENEZ Kristine  Grand Prix The Hague 2018   \n",
       "\n",
       "        date    round local_points opponent_points duration category  \\\n",
       "0 2018-11-23  Round 1            0             100    00:12   -52 kg   \n",
       "1 2018-11-16  Round 2            0              10    04:00   -52 kg   \n",
       "2 2018-11-16  Round 1           10               0    04:00   -52 kg   \n",
       "\n",
       "   has_video competition_family  \\\n",
       "0       True         Grand Slam   \n",
       "1       True         Grand Prix   \n",
       "2       True         Grand Prix   \n",
       "\n",
       "                                           url_video  \n",
       "0  https://judobase.ijf.org/#/competition/contest...  \n",
       "1  https://judobase.ijf.org/#/competition/contest...  \n",
       "2  https://judobase.ijf.org/#/competition/contest...  "
      ]
     },
     "execution_count": 8,
     "metadata": {},
     "output_type": "execute_result"
    }
   ],
   "source": [
    "battles"
   ]
  },
  {
   "cell_type": "markdown",
   "metadata": {},
   "source": [
    "### Extract top competitors from every weight"
   ]
  },
  {
   "cell_type": "code",
   "execution_count": 5,
   "metadata": {},
   "outputs": [
    {
     "name": "stdout",
     "output_type": "stream",
     "text": [
      "men_60 ...\n",
      "men_66 ...\n",
      "men_73 ...\n",
      "men_81 ...\n",
      "men_90 ...\n",
      "men_100 ...\n",
      "men_100+ ...\n",
      "women_48 ...\n",
      "women_52 ...\n",
      "women_57 ...\n",
      "women_63 ...\n",
      "women_70 ...\n",
      "women_78 ...\n",
      "women_78+ ...\n"
     ]
    }
   ],
   "source": [
    "competitors_all = list()\n",
    "\n",
    "for weight in url_leaders_by_weight.keys():\n",
    "    print(weight, '...')\n",
    "    competitors = extract_all_profiles_weight(driver, weight)\n",
    "    competitors_all.append(competitors)"
   ]
  },
  {
   "cell_type": "code",
   "execution_count": 11,
   "metadata": {},
   "outputs": [],
   "source": [
    "competitors_all = pd.concat(competitors_all)"
   ]
  },
  {
   "cell_type": "code",
   "execution_count": 14,
   "metadata": {},
   "outputs": [
    {
     "data": {
      "text/html": [
       "<div>\n",
       "<style>\n",
       "    .dataframe thead tr:only-child th {\n",
       "        text-align: right;\n",
       "    }\n",
       "\n",
       "    .dataframe thead th {\n",
       "        text-align: left;\n",
       "    }\n",
       "\n",
       "    .dataframe tbody tr th {\n",
       "        vertical-align: top;\n",
       "    }\n",
       "</style>\n",
       "<table border=\"1\" class=\"dataframe\">\n",
       "  <thead>\n",
       "    <tr style=\"text-align: right;\">\n",
       "      <th></th>\n",
       "      <th>name</th>\n",
       "      <th>country</th>\n",
       "      <th>profile_id</th>\n",
       "      <th>category</th>\n",
       "    </tr>\n",
       "  </thead>\n",
       "  <tbody>\n",
       "    <tr>\n",
       "      <th>56</th>\n",
       "      <td>WEZEU DOMBEU Helene</td>\n",
       "      <td>CMR</td>\n",
       "      <td>4393</td>\n",
       "      <td>women_63</td>\n",
       "    </tr>\n",
       "    <tr>\n",
       "      <th>83</th>\n",
       "      <td>GONZALEZ Oritia</td>\n",
       "      <td>ARG</td>\n",
       "      <td>2675</td>\n",
       "      <td>women_52</td>\n",
       "    </tr>\n",
       "    <tr>\n",
       "      <th>58</th>\n",
       "      <td>NJIE Faye</td>\n",
       "      <td>GAM</td>\n",
       "      <td>27553</td>\n",
       "      <td>men_73</td>\n",
       "    </tr>\n",
       "    <tr>\n",
       "      <th>21</th>\n",
       "      <td>VARAPAYEU Yahor</td>\n",
       "      <td>BLR</td>\n",
       "      <td>13091</td>\n",
       "      <td>men_90</td>\n",
       "    </tr>\n",
       "    <tr>\n",
       "      <th>19</th>\n",
       "      <td>PARK Yujin</td>\n",
       "      <td>KOR</td>\n",
       "      <td>15228</td>\n",
       "      <td>women_78</td>\n",
       "    </tr>\n",
       "  </tbody>\n",
       "</table>\n",
       "</div>"
      ],
      "text/plain": [
       "                   name country profile_id  category\n",
       "56  WEZEU DOMBEU Helene     CMR       4393  women_63\n",
       "83      GONZALEZ Oritia     ARG       2675  women_52\n",
       "58            NJIE Faye     GAM      27553    men_73\n",
       "21      VARAPAYEU Yahor     BLR      13091    men_90\n",
       "19           PARK Yujin     KOR      15228  women_78"
      ]
     },
     "execution_count": 14,
     "metadata": {},
     "output_type": "execute_result"
    }
   ],
   "source": [
    "competitors_all.sample(5)"
   ]
  },
  {
   "cell_type": "markdown",
   "metadata": {},
   "source": [
    "#### Save to db"
   ]
  },
  {
   "cell_type": "code",
   "execution_count": 16,
   "metadata": {},
   "outputs": [
    {
     "name": "stdout",
     "output_type": "stream",
     "text": [
      "WARNING: path must be of class Path\n"
     ]
    }
   ],
   "source": [
    "conn = SQLiteConnection('../judo.sql')"
   ]
  },
  {
   "cell_type": "code",
   "execution_count": null,
   "metadata": {
    "collapsed": true
   },
   "outputs": [],
   "source": [
    "conn.add_table('competitors', competitors_all, if_exists='fail')"
   ]
  },
  {
   "cell_type": "markdown",
   "metadata": {},
   "source": [
    "### Extract recent contests from a list of competitors"
   ]
  },
  {
   "cell_type": "code",
   "execution_count": 35,
   "metadata": {},
   "outputs": [
    {
     "name": "stdout",
     "output_type": "stream",
     "text": [
      "0\n",
      "Extracting info from: ABE Hifumi\n",
      "Extracting video URLs\n",
      "1\n",
      "Extracting info from: MARGVELASHVILI Vazha\n",
      "Extracting video URLs\n",
      "2\n",
      "Extracting info from: FLICKER Tal\n",
      "Extracting video URLs\n",
      "3\n",
      "Extracting info from: AN Baul\n",
      "Extracting video URLs\n",
      "4\n",
      "Extracting info from: SHMAILOV Baruch\n",
      "Extracting video URLs\n",
      "5\n",
      "Extracting info from: ZANTARAIA Georgii\n",
      "Extracting video URLs\n",
      "6\n",
      "Extracting info from: GANBOLD Kherlen\n",
      "Extracting video URLs\n",
      "7\n",
      "Extracting info from: GOMBOC Adrian\n",
      "Extracting video URLs\n",
      "8\n",
      "Extracting info from: ZHUMAKANOV Yeldos\n",
      "Extracting video URLs\n",
      "9\n",
      "Extracting info from: CARGNIN Daniel\n",
      "Extracting video URLs\n",
      "10\n",
      "Extracting info from: SERIKZHANOV Yerlan\n",
      "Extracting video URLs\n",
      "11\n",
      "Extracting info from: PULIAEV Mikhail\n",
      "Extracting video URLs\n",
      "12\n",
      "Extracting info from: SHAMILOV Yakub\n",
      "Extracting video URLs\n",
      "13\n",
      "Extracting info from: MARUYAMA Joshiro\n",
      "Extracting video URLs\n",
      "14\n",
      "Extracting info from: VIERU Denis\n",
      "Extracting video URLs\n",
      "15\n",
      "Extracting info from: CHIBANA Charles\n",
      "Extracting video URLs\n",
      "16\n",
      "Extracting info from: DOVDON Altansukh\n",
      "Extracting video URLs\n",
      "17\n",
      "Extracting info from: ABDULZHALILOV Abdula\n",
      "Extracting video URLs\n",
      "18\n",
      "Extracting info from: MINKOU Dzmitry\n",
      "Extracting video URLs\n",
      "19\n",
      "Extracting info from: SOLIS Osniel\n",
      "Extracting video URLs\n",
      "20\n",
      "Extracting info from: AKHADOV Shakhram\n",
      "Extracting video URLs\n",
      "21\n",
      "Extracting info from: SHIKHALIZADA Nijat\n",
      "Extracting video URLs\n",
      "22\n",
      "Extracting info from: TAGAWA Kenzo\n",
      "Extracting video URLs\n",
      "23\n",
      "Extracting info from: ABDELMAWGOUD Mohamed\n",
      "Extracting video URLs\n",
      "24\n",
      "Extracting info from: OLEINIC Sergiu\n",
      "Extracting video URLs\n",
      "25\n",
      "Extracting info from: SHERSHAN Dzmitry\n",
      "Extracting video URLs\n",
      "26\n",
      "Extracting info from: SEIDL Sebastian\n",
      "Extracting video URLs\n",
      "27\n",
      "Extracting info from: NURILLAEV Sardor\n",
      "Extracting video URLs\n",
      "28\n",
      "Extracting info from: GAITERO MARTIN Alberto\n",
      "Extracting video URLs\n",
      "29\n",
      "Extracting info from: VAN GANSBEKE Kenneth\n",
      "Extracting video URLs\n",
      "30\n",
      "Extracting info from: CRISOSTOMO Joao\n",
      "Extracting video URLs\n",
      "31\n",
      "Extracting info from: GRIGORYAN Aram\n",
      "Extracting video URLs\n",
      "32\n",
      "Extracting info from: LOMBARDO Manuel\n",
      "Extracting video URLs\n",
      "33\n",
      "Extracting info from: BASSOU Imad\n",
      "Extracting video URLs\n",
      "34\n",
      "Extracting info from: POSTIGOS Juan\n",
      "Extracting video URLs\n",
      "35\n",
      "Extracting info from: JEREB Andraz\n",
      "Extracting video URLs\n",
      "36\n",
      "Extracting info from: DAVAADORJ Tumurkhuleg\n",
      "Extracting video URLs\n",
      "37\n",
      "Extracting info from: ZOURDANI Houd\n",
      "Extracting video URLs\n",
      "38\n",
      "Extracting info from: IADOV Bogdan\n",
      "Extracting video URLs\n",
      "39\n",
      "Extracting info from: TE Artur\n",
      "Extracting video URLs\n",
      "40\n",
      "Extracting info from: NINIASHVILI Bagrati\n",
      "Extracting video URLs\n",
      "41\n",
      "Extracting info from: MEDVES Matteo\n",
      "Extracting video URLs\n",
      "42\n",
      "Extracting info from: ABELRAHMAN Ahmed\n",
      "Extracting video URLs\n",
      "43\n",
      "Extracting info from: SANDAL Sinan\n",
      "Extracting video URLs\n",
      "44\n",
      "Extracting info from: LE BLOUCH Kilian\n",
      "Extracting video URLs\n",
      "45\n",
      "Extracting info from: ARDANOV Anzaur\n",
      "Extracting video URLs\n",
      "46\n",
      "Extracting info from: BOUSHITA Abderrahmane\n",
      "Extracting video URLs\n",
      "47\n",
      "Extracting info from: HASHIGUCHI Yuuki\n",
      "Extracting video URLs\n",
      "48\n",
      "Extracting info from: BURNS Nathon\n",
      "Extracting video URLs\n",
      "49\n",
      "Extracting info from: VARGAS Ryan\n",
      "Extracting video URLs\n",
      "50\n",
      "Extracting info from: YONDONPERENLEI Baskhuu\n",
      "Extracting video URLs\n",
      "51\n",
      "Extracting info from: GIUNASHVILI Lasha\n",
      "Extracting video URLs\n",
      "52\n",
      "Extracting info from: SCHEIBEL Manuel\n",
      "Extracting video URLs\n",
      "53\n",
      "Extracting info from: KHOJASTEH Alireza\n",
      "Extracting video URLs\n",
      "54\n",
      "Extracting info from: JEAN Daniel\n",
      "Extracting video URLs\n",
      "55\n",
      "Extracting info from: BUNCIC Strahinja\n",
      "Extracting video URLs\n",
      "56\n",
      "Extracting info from: BATTOGTOKH Erkhembayar\n",
      "Extracting video URLs\n",
      "57\n",
      "Extracting info from: POLIAK Matej\n",
      "Extracting video URLs\n",
      "58\n",
      "Extracting info from: PETRIKOV Pavel\n",
      "Extracting video URLs\n",
      "59\n",
      "Extracting info from: MCINDOE Kyle\n",
      "Extracting video URLs\n",
      "60\n",
      "Extracting info from: MATEO Wander\n",
      "Extracting video URLs\n",
      "61\n",
      "Extracting info from: ISODA Norihito\n",
      "Extracting video URLs\n",
      "62\n",
      "Extracting info from: GORJANACZ Zsolt\n",
      "Extracting video URLs\n",
      "63\n",
      "Extracting info from: KATZ Nathan\n",
      "Extracting video URLs\n",
      "64\n",
      "Extracting info from: ELIDRISSI Ayoub\n",
      "Extracting video URLs\n",
      "65\n",
      "Extracting info from: RYSMAMBETOV Bektur\n",
      "Extracting video URLs\n",
      "66\n",
      "Extracting info from: FUJISAKA Taroh\n",
      "Extracting video URLs\n",
      "67\n",
      "Extracting info from: MARCELINO Michael\n",
      "Extracting video URLs\n",
      "68\n",
      "Extracting info from: KYRGYZBAYEV Gumar\n",
      "Extracting video URLs\n",
      "69\n",
      "Extracting info from: MENAGED Yarin\n",
      "Extracting video URLs\n",
      "70\n",
      "Extracting info from: CASTILLO Nabor\n",
      "Extracting video URLs\n",
      "71\n",
      "Extracting info from: MABULU Siyabulela\n",
      "Extracting video URLs\n",
      "72\n",
      "Extracting info from: NOURIZADEH Ghassem\n",
      "Extracting video URLs\n",
      "73\n",
      "Extracting info from: VALDERRAMA Ricardo\n",
      "Extracting video URLs\n",
      "74\n",
      "Extracting info from: WAWRZYCZEK Patryk\n",
      "Extracting video URLs\n",
      "75\n",
      "Extracting info from: VAN HARTEN Matthijs\n",
      "Extracting video URLs\n",
      "76\n",
      "Extracting info from: AZEMA Kevin\n",
      "Extracting video URLs\n",
      "77\n",
      "Extracting info from: BUNESCU Vadim\n",
      "Extracting video URLs\n",
      "78\n",
      "Extracting info from: KHACHATRIAN Hevorh\n",
      "Extracting video URLs\n",
      "79\n",
      "Extracting info from: PEREZ Sebastian\n",
      "Extracting video URLs\n",
      "80\n",
      "Extracting info from: SAFAROV Orkhan\n",
      "Extracting video URLs\n",
      "81\n",
      "Extracting info from: ENTWISTLE James\n",
      "Extracting video URLs\n",
      "82\n",
      "Extracting info from: MARIAC Alexandre\n",
      "Extracting video URLs\n",
      "83\n",
      "Extracting info from: KIM Limhwan\n",
      "Extracting video URLs\n",
      "84\n",
      "Extracting info from: PIRAS Matteo\n",
      "Extracting video URLs\n",
      "85\n",
      "Extracting info from: ZHUBATKAN Sunggat\n",
      "Extracting video URLs\n",
      "86\n",
      "Extracting info from: LOFORTE Kevin\n",
      "Extracting video URLs\n",
      "87\n",
      "Extracting info from: CESAR Diogo\n",
      "Extracting video URLs\n",
      "88\n",
      "Extracting info from: NAKANO Shugen\n",
      "Extracting video URLs\n",
      "89\n",
      "Extracting info from: GUSIC Marko\n",
      "Extracting video URLs\n",
      "90\n",
      "Extracting info from: WU Zhiqiang\n",
      "Extracting video URLs\n",
      "91\n",
      "Extracting info from: MANZI Elios\n",
      "Extracting video URLs\n",
      "92\n",
      "Extracting info from: SANCHO CHINCHILA Ian\n",
      "Extracting video URLs\n",
      "93\n",
      "Extracting info from: TAMASHIRO Minoru\n",
      "Extracting video URLs\n",
      "94\n",
      "Extracting info from: KHAMETOV Islam\n",
      "Extracting video URLs\n",
      "95\n",
      "Extracting info from: EZZINE Wail\n",
      "Extracting video URLs\n",
      "96\n",
      "Extracting info from: KIM Hyong Un\n",
      "Extracting video URLs\n",
      "97\n",
      "Extracting info from: ZADRO Petar\n",
      "Extracting video URLs\n",
      "98\n",
      "Extracting info from: CULLHAJ Indrit\n",
      "Extracting video URLs\n",
      "99\n",
      "Extracting info from: ISAEV Isa\n",
      "Extracting video URLs\n"
     ]
    }
   ],
   "source": [
    "for index, profile_id in enumerate(competitors.profile_id):\n",
    "    print(index)\n",
    "    battles_girl, petes = get_all_battles(driver, girl_id)\n",
    "\n",
    "    battles_all.append(battles_girl)\n",
    "    petes_all.append(petes)"
   ]
  },
  {
   "cell_type": "code",
   "execution_count": 36,
   "metadata": {},
   "outputs": [
    {
     "data": {
      "text/plain": [
       "100"
      ]
     },
     "execution_count": 36,
     "metadata": {},
     "output_type": "execute_result"
    }
   ],
   "source": [
    "len(battles_all)"
   ]
  },
  {
   "cell_type": "code",
   "execution_count": 38,
   "metadata": {},
   "outputs": [
    {
     "data": {
      "text/plain": [
       "[2, 5, 7, 6, 6, 8, 6, 4, 6, 2]"
      ]
     },
     "execution_count": 38,
     "metadata": {},
     "output_type": "execute_result"
    }
   ],
   "source": [
    "petes_all[:10]"
   ]
  },
  {
   "cell_type": "code",
   "execution_count": 39,
   "metadata": {},
   "outputs": [
    {
     "data": {
      "text/html": [
       "<div>\n",
       "<style>\n",
       "    .dataframe thead tr:only-child th {\n",
       "        text-align: right;\n",
       "    }\n",
       "\n",
       "    .dataframe thead th {\n",
       "        text-align: left;\n",
       "    }\n",
       "\n",
       "    .dataframe tbody tr th {\n",
       "        vertical-align: top;\n",
       "    }\n",
       "</style>\n",
       "<table border=\"1\" class=\"dataframe\">\n",
       "  <thead>\n",
       "    <tr style=\"text-align: right;\">\n",
       "      <th></th>\n",
       "      <th>wins</th>\n",
       "      <th>local</th>\n",
       "      <th>opponent</th>\n",
       "      <th>local_points</th>\n",
       "      <th>opponent_points</th>\n",
       "      <th>duration</th>\n",
       "      <th>date</th>\n",
       "      <th>event</th>\n",
       "      <th>category</th>\n",
       "      <th>round</th>\n",
       "      <th>has_video</th>\n",
       "      <th>url_video</th>\n",
       "    </tr>\n",
       "  </thead>\n",
       "  <tbody>\n",
       "    <tr>\n",
       "      <th>0</th>\n",
       "      <td>1</td>\n",
       "      <td>ABE Hifumi</td>\n",
       "      <td>SERIKZHANOV Yerlan</td>\n",
       "      <td>100</td>\n",
       "      <td>0</td>\n",
       "      <td>02:47</td>\n",
       "      <td>20 Sep 2018</td>\n",
       "      <td>World Championships Baku 2018</td>\n",
       "      <td>-66 kg</td>\n",
       "      <td>Final</td>\n",
       "      <td>True</td>\n",
       "      <td>https://judobase.ijf.org/#/competition/contest...</td>\n",
       "    </tr>\n",
       "    <tr>\n",
       "      <th>1</th>\n",
       "      <td>1</td>\n",
       "      <td>ABE Hifumi</td>\n",
       "      <td>AN Baul</td>\n",
       "      <td>10</td>\n",
       "      <td>0</td>\n",
       "      <td>02:38</td>\n",
       "      <td>20 Sep 2018</td>\n",
       "      <td>World Championships Baku 2018</td>\n",
       "      <td>-66 kg</td>\n",
       "      <td>Semi-Final</td>\n",
       "      <td>True</td>\n",
       "      <td>https://judobase.ijf.org/#/competition/contest...</td>\n",
       "    </tr>\n",
       "    <tr>\n",
       "      <th>2</th>\n",
       "      <td>1</td>\n",
       "      <td>ABE Hifumi</td>\n",
       "      <td>ZANTARAIA Georgii</td>\n",
       "      <td>100</td>\n",
       "      <td>0</td>\n",
       "      <td>03:10</td>\n",
       "      <td>20 Sep 2018</td>\n",
       "      <td>World Championships Baku 2018</td>\n",
       "      <td>-66 kg</td>\n",
       "      <td>Quarter-Final</td>\n",
       "      <td>True</td>\n",
       "      <td>https://judobase.ijf.org/#/competition/contest...</td>\n",
       "    </tr>\n",
       "    <tr>\n",
       "      <th>3</th>\n",
       "      <td>1</td>\n",
       "      <td>ABE Hifumi</td>\n",
       "      <td>VIERU Denis</td>\n",
       "      <td>10</td>\n",
       "      <td>0</td>\n",
       "      <td>00:00</td>\n",
       "      <td>20 Sep 2018</td>\n",
       "      <td>World Championships Baku 2018</td>\n",
       "      <td>-66 kg</td>\n",
       "      <td>Round 4</td>\n",
       "      <td>True</td>\n",
       "      <td>https://judobase.ijf.org/#/competition/contest...</td>\n",
       "    </tr>\n",
       "    <tr>\n",
       "      <th>4</th>\n",
       "      <td>1</td>\n",
       "      <td>ABE Hifumi</td>\n",
       "      <td>MEDVES Matteo</td>\n",
       "      <td>100</td>\n",
       "      <td>0</td>\n",
       "      <td>02:57</td>\n",
       "      <td>20 Sep 2018</td>\n",
       "      <td>World Championships Baku 2018</td>\n",
       "      <td>-66 kg</td>\n",
       "      <td>Round 3</td>\n",
       "      <td>True</td>\n",
       "      <td>https://judobase.ijf.org/#/competition/contest...</td>\n",
       "    </tr>\n",
       "  </tbody>\n",
       "</table>\n",
       "</div>"
      ],
      "text/plain": [
       "   wins       local            opponent local_points opponent_points duration  \\\n",
       "0     1  ABE Hifumi  SERIKZHANOV Yerlan          100               0    02:47   \n",
       "1     1  ABE Hifumi             AN Baul           10               0    02:38   \n",
       "2     1  ABE Hifumi   ZANTARAIA Georgii          100               0    03:10   \n",
       "3     1  ABE Hifumi         VIERU Denis           10               0    00:00   \n",
       "4     1  ABE Hifumi       MEDVES Matteo          100               0    02:57   \n",
       "\n",
       "          date                          event category          round  \\\n",
       "0  20 Sep 2018  World Championships Baku 2018   -66 kg          Final   \n",
       "1  20 Sep 2018  World Championships Baku 2018   -66 kg     Semi-Final   \n",
       "2  20 Sep 2018  World Championships Baku 2018   -66 kg  Quarter-Final   \n",
       "3  20 Sep 2018  World Championships Baku 2018   -66 kg        Round 4   \n",
       "4  20 Sep 2018  World Championships Baku 2018   -66 kg        Round 3   \n",
       "\n",
       "   has_video                                          url_video  \n",
       "0       True  https://judobase.ijf.org/#/competition/contest...  \n",
       "1       True  https://judobase.ijf.org/#/competition/contest...  \n",
       "2       True  https://judobase.ijf.org/#/competition/contest...  \n",
       "3       True  https://judobase.ijf.org/#/competition/contest...  \n",
       "4       True  https://judobase.ijf.org/#/competition/contest...  "
      ]
     },
     "execution_count": 39,
     "metadata": {},
     "output_type": "execute_result"
    }
   ],
   "source": [
    "battles_all[0].head()"
   ]
  },
  {
   "cell_type": "code",
   "execution_count": 40,
   "metadata": {
    "collapsed": true
   },
   "outputs": [],
   "source": [
    "df = pd.concat(battles_all)"
   ]
  },
  {
   "cell_type": "code",
   "execution_count": 43,
   "metadata": {},
   "outputs": [
    {
     "data": {
      "text/plain": [
       "(4236, 12)"
      ]
     },
     "execution_count": 43,
     "metadata": {},
     "output_type": "execute_result"
    }
   ],
   "source": [
    "df.shape"
   ]
  },
  {
   "cell_type": "code",
   "execution_count": 44,
   "metadata": {
    "collapsed": true
   },
   "outputs": [],
   "source": [
    "df.to_csv('data66kg.csv')"
   ]
  },
  {
   "cell_type": "markdown",
   "metadata": {},
   "source": [
    "### Más atributos"
   ]
  },
  {
   "cell_type": "code",
   "execution_count": 194,
   "metadata": {},
   "outputs": [
    {
     "data": {
      "text/plain": [
       "['clear',\n",
       " 'click',\n",
       " 'get_attribute',\n",
       " 'get_property',\n",
       " 'id',\n",
       " 'is_displayed',\n",
       " 'is_enabled',\n",
       " 'is_selected',\n",
       " 'location',\n",
       " 'location_once_scrolled_into_view',\n",
       " 'parent',\n",
       " 'rect',\n",
       " 'screenshot',\n",
       " 'screenshot_as_base64',\n",
       " 'screenshot_as_png',\n",
       " 'send_keys',\n",
       " 'size',\n",
       " 'submit',\n",
       " 'tag_name',\n",
       " 'text',\n",
       " 'value_of_css_property']"
      ]
     },
     "execution_count": 194,
     "metadata": {},
     "output_type": "execute_result"
    }
   ],
   "source": [
    "[at for at in dir(value) if 'find' not in at and at[0]!='_']"
   ]
  },
  {
   "cell_type": "markdown",
   "metadata": {},
   "source": [
    "## Más funcionalidades"
   ]
  },
  {
   "cell_type": "code",
   "execution_count": 117,
   "metadata": {
    "collapsed": true
   },
   "outputs": [],
   "source": [
    "driver.back()"
   ]
  },
  {
   "cell_type": "code",
   "execution_count": null,
   "metadata": {
    "collapsed": true
   },
   "outputs": [],
   "source": [
    "nameRestaurant.clear()\n",
    "nameRestaurant.send_keys(nameCity)\n",
    "nameRestaurant.send_keys(Keys.RETURN)\n",
    "\n",
    "html_txt = driver.page_source\n",
    "\n",
    "\n",
    "driver.find_elements_by_xpath(\"/html/body/div[10]/div[8]/div\")\n",
    "driver.execute_script(\"window.scrollTo(0, document.body.scrollHeight);\")\n",
    "\n",
    "soup = BeautifulSoup(html_txt, \"lxml\") \n",
    "\n",
    "sec.find(\"div\",class_=\"popIndex rebrand popIndexDefault\").get_text(strip=True) # extraccion"
   ]
  }
 ],
 "metadata": {
  "kernelspec": {
   "display_name": "Python 3",
   "language": "python",
   "name": "python3"
  },
  "language_info": {
   "codemirror_mode": {
    "name": "ipython",
    "version": 3
   },
   "file_extension": ".py",
   "mimetype": "text/x-python",
   "name": "python",
   "nbconvert_exporter": "python",
   "pygments_lexer": "ipython3",
   "version": "3.6.2"
  }
 },
 "nbformat": 4,
 "nbformat_minor": 2
}
