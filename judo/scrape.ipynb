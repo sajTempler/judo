{
 "cells": [
  {
   "cell_type": "markdown",
   "metadata": {},
   "source": [
    "### Actualización de batallas de los competidores"
   ]
  },
  {
   "cell_type": "code",
   "execution_count": 1,
   "metadata": {},
   "outputs": [],
   "source": [
    "import pandas as pd\n",
    "import time\n",
    "from selenium import webdriver\n",
    "from selenium.webdriver.common.keys import Keys\n",
    "import datetime\n",
    "\n",
    "from lib import competition_to_family_map, get_all_battles, url_leaders_by_weight\n",
    "from lib import extract_all_profiles_weight, update_competitor\n",
    "from lib import SQLiteConnection\n",
    "from lib import load_chromedriver"
   ]
  },
  {
   "cell_type": "code",
   "execution_count": 2,
   "metadata": {},
   "outputs": [],
   "source": [
    "driver = load_chromedriver(en_casa=True)"
   ]
  },
  {
   "cell_type": "code",
   "execution_count": 3,
   "metadata": {},
   "outputs": [],
   "source": [
    "conn = SQLiteConnection('../judo.sql')"
   ]
  },
  {
   "cell_type": "code",
   "execution_count": 4,
   "metadata": {},
   "outputs": [],
   "source": [
    "competitors_52 = conn.as_pandas('select * from competitors where category=\"women_52\"', index_col='index', parse_dates=['last_extraction'])"
   ]
  },
  {
   "cell_type": "code",
   "execution_count": 5,
   "metadata": {},
   "outputs": [
    {
     "data": {
      "text/html": [
       "<div>\n",
       "<style scoped>\n",
       "    .dataframe tbody tr th:only-of-type {\n",
       "        vertical-align: middle;\n",
       "    }\n",
       "\n",
       "    .dataframe tbody tr th {\n",
       "        vertical-align: top;\n",
       "    }\n",
       "\n",
       "    .dataframe thead th {\n",
       "        text-align: right;\n",
       "    }\n",
       "</style>\n",
       "<table border=\"1\" class=\"dataframe\">\n",
       "  <thead>\n",
       "    <tr style=\"text-align: right;\">\n",
       "      <th></th>\n",
       "      <th>name</th>\n",
       "      <th>country</th>\n",
       "      <th>profile_id</th>\n",
       "      <th>category</th>\n",
       "      <th>last_extraction</th>\n",
       "    </tr>\n",
       "    <tr>\n",
       "      <th>index</th>\n",
       "      <th></th>\n",
       "      <th></th>\n",
       "      <th></th>\n",
       "      <th></th>\n",
       "      <th></th>\n",
       "    </tr>\n",
       "  </thead>\n",
       "  <tbody>\n",
       "    <tr>\n",
       "      <th>0</th>\n",
       "      <td>ABE Uta</td>\n",
       "      <td>JPN</td>\n",
       "      <td>35696</td>\n",
       "      <td>women_52</td>\n",
       "      <td>2018-11-23</td>\n",
       "    </tr>\n",
       "    <tr>\n",
       "      <th>1</th>\n",
       "      <td>BUCHARD Amandine</td>\n",
       "      <td>FRA</td>\n",
       "      <td>7539</td>\n",
       "      <td>women_52</td>\n",
       "      <td>2018-12-15</td>\n",
       "    </tr>\n",
       "    <tr>\n",
       "      <th>2</th>\n",
       "      <td>KUZIUTINA Natalia</td>\n",
       "      <td>RUS</td>\n",
       "      <td>366</td>\n",
       "      <td>women_52</td>\n",
       "      <td>2018-12-15</td>\n",
       "    </tr>\n",
       "    <tr>\n",
       "      <th>3</th>\n",
       "      <td>MIRANDA Erika</td>\n",
       "      <td>BRA</td>\n",
       "      <td>437</td>\n",
       "      <td>women_52</td>\n",
       "      <td>2018-09-20</td>\n",
       "    </tr>\n",
       "    <tr>\n",
       "      <th>4</th>\n",
       "      <td>SHISHIME Ai</td>\n",
       "      <td>JPN</td>\n",
       "      <td>10017</td>\n",
       "      <td>women_52</td>\n",
       "      <td>2018-11-23</td>\n",
       "    </tr>\n",
       "  </tbody>\n",
       "</table>\n",
       "</div>"
      ],
      "text/plain": [
       "                    name country profile_id  category last_extraction\n",
       "index                                                                \n",
       "0                ABE Uta     JPN      35696  women_52      2018-11-23\n",
       "1       BUCHARD Amandine     FRA       7539  women_52      2018-12-15\n",
       "2      KUZIUTINA Natalia     RUS        366  women_52      2018-12-15\n",
       "3          MIRANDA Erika     BRA        437  women_52      2018-09-20\n",
       "4            SHISHIME Ai     JPN      10017  women_52      2018-11-23"
      ]
     },
     "execution_count": 5,
     "metadata": {},
     "output_type": "execute_result"
    }
   ],
   "source": [
    "competitors_52.head()"
   ]
  },
  {
   "cell_type": "markdown",
   "metadata": {},
   "source": [
    "### Actualiza al gusto"
   ]
  },
  {
   "cell_type": "code",
   "execution_count": 6,
   "metadata": {},
   "outputs": [
    {
     "name": "stdout",
     "output_type": "stream",
     "text": [
      "Extracting info from: KUZIUTINA Natalia...\n",
      "Up to date!\n"
     ]
    }
   ],
   "source": [
    "update_competitor(driver, conn, '366')"
   ]
  },
  {
   "cell_type": "code",
   "execution_count": 6,
   "metadata": {},
   "outputs": [
    {
     "name": "stdout",
     "output_type": "stream",
     "text": [
      "Extracting info from: ABE Uta...\n",
      "Up to date!\n",
      "Extracting info from: BUCHARD NORDMEYER Amandine...\n",
      "Up to date!\n",
      "Extracting info from: KUZIUTINA Natalia...\n",
      "Up to date!\n",
      "Extracting info from: MIRANDA Erika...\n",
      "Up to date!\n",
      "Extracting info from: SHISHIME Ai...\n",
      "Up to date!\n",
      "Extracting info from: TSUNODA Natsumi...\n",
      "Up to date!\n",
      "Extracting info from: KRASNIQI Distria...\n",
      "Up to date!\n",
      "Extracting info from: PEREIRA Jessica...\n",
      "Up to date!\n",
      "Extracting info from: VAN SNICK Charline...\n",
      "Up to date!\n",
      "Extracting info from: FLORIAN Alexandra-larisa...\n",
      "Up to date!\n",
      "Extracting info from: TSCHOPP Evelyne...\n",
      "Up to date!\n",
      "Extracting info from: DELGADO Angelica...\n",
      "Up to date!\n",
      "Extracting info from: COHEN Gili...\n",
      "Up to date!\n",
      "Extracting info from: PUPP Reka...\n",
      "Up to date!\n",
      "Extracting info from: KELMENDI Majlinda...\n",
      "Up to date!\n",
      "Extracting info from: PERENC Agata...\n",
      "Up to date!\n",
      "Extracting info from: PRIMO Gefen...\n",
      "Up to date!\n",
      "Extracting info from: GUICA Ecaterina...\n",
      "Up to date!\n",
      "Extracting info from: TEMELKOVA Betina...\n",
      "Up to date!\n",
      "Extracting info from: STANGAR Anja...\n",
      "Up to date!\n",
      "Extracting info from: GNETO Astride...\n",
      "Up to date!\n",
      "Extracting info from: GILES Chelsie...\n",
      "Up to date!\n",
      "Extracting info from: RAMOS Joana...\n",
      "Up to date!\n",
      "Extracting info from: PEREZ BOX Ana...\n",
      "Up to date!\n",
      "Extracting info from: GIUFFRIDA Odette...\n",
      "Up to date!\n",
      "Extracting info from: PIENKOWSKA Karolina...\n",
      "Up to date!\n",
      "Extracting info from: PARK Da Sol...\n",
      "Up to date!\n",
      "Extracting info from: KORKMAZ Irem...\n",
      "Up to date!\n",
      "Extracting info from: BABAMURATOVA Gulbadam...\n",
      "Up to date!\n",
      "Extracting info from: EASTON Tinka...\n",
      "Up to date!\n",
      "Extracting info from: VALENTIM Eleudis...\n",
      "Up to date!\n",
      "Extracting info from: TATSUKAWA Rina...\n",
      "Up to date!\n",
      "Extracting info from: BISHRELT Khorloodoi...\n",
      "Up to date!\n",
      "Extracting info from: LOPEZ SHERIFF Estrella...\n",
      "Up to date!\n",
      "Extracting info from: OLVERA Luz...\n",
      "Up to date!\n",
      "Extracting info from: KUZNETSOVA Alesya...\n",
      "Up to date!\n",
      "Extracting info from: MOUSSA Meriem...\n",
      "Up to date!\n",
      "Extracting info from: WU Shugen...\n",
      "Up to date!\n",
      "Extracting info from: SKRYPNIK Darya...\n",
      "Up to date!\n",
      "Extracting info from: CHITU Andreea...\n",
      "Up to date!\n",
      "Extracting info from: RIM Song Sim...\n",
      "Up to date!\n",
      "Extracting info from: GAMARRA CARBAJAL Brillith...\n",
      "Up to date!\n",
      "Extracting info from: EL QORACHI Fatima Zahra...\n",
      "Up to date!\n",
      "Extracting info from: AISSAHINE Faiza...\n",
      "Up to date!\n",
      "Extracting info from: KOCHER Fabienne...\n",
      "Up to date!\n",
      "Extracting info from: TAKEDA Ryoko...\n",
      "Up to date!\n",
      "Extracting info from: MENEZES Sarah...\n",
      "Up to date!\n",
      "Extracting info from: ESTEVES Mariana...\n",
      "Up to date!\n",
      "Extracting info from: ESTEO LINNE Nina Estefania...\n",
      "Up to date!\n",
      "Extracting info from: JIMENEZ Kristine...\n",
      "Up to date!\n",
      "Extracting info from: NAREKS Petra...\n",
      "Up to date!\n",
      "Extracting info from: KAZARINA Yulia...\n",
      "Up to date!\n",
      "Extracting info from: KUTSENKO Aigul...\n",
      "Up to date!\n",
      "Extracting info from: RICIU Cleonia...\n",
      "Up to date!\n",
      "Extracting info from: WARASIHA Kachakorn...\n",
      "Extracting video URLs...\n",
      "new battles!\n",
      "Extracting info from: ELIZECHE Ayelen...\n",
      "Up to date!\n",
      "Extracting info from: PIERUCCI Giulia...\n",
      "Up to date!\n",
      "Extracting info from: LEGENTIL Christianne...\n",
      "Up to date!\n",
      "Extracting info from: BOBRIKOVA Daria...\n",
      "Up to date!\n",
      "Extracting info from: BEZALEL Ariel...\n",
      "Up to date!\n",
      "Extracting info from: AYARI Hela...\n",
      "Up to date!\n",
      "Extracting info from: WANG Xin...\n",
      "Up to date!\n",
      "Extracting info from: AZIZOVA Nazakat...\n",
      "Up to date!\n",
      "Extracting info from: EDWARDS Kelly...\n",
      "Up to date!\n",
      "Extracting info from: NGUYEN Thuy...\n",
      "Up to date!\n",
      "Extracting info from: CHINTOGTOKH Azzaya...\n",
      "Up to date!\n",
      "Extracting info from: FREITAS Leandra...\n",
      "Up to date!\n",
      "Extracting info from: KELDIYOROVA Diyora...\n",
      "Up to date!\n",
      "Extracting info from: NOURAN Adam...\n",
      "Up to date!\n",
      "Extracting info from: GANBOLD Gantsetseg...\n",
      "Up to date!\n",
      "Extracting info from: TSUI Shuk Ki...\n",
      "Extracting video URLs...\n",
      "new battles!\n",
      "Extracting info from: MUNKHBAT Urantsetseg...\n",
      "Extracting video URLs...\n",
      "new battles!\n",
      "Extracting info from: KALETA Aleksandra...\n",
      "Up to date!\n",
      "Extracting info from: RUBINSTEIN Madelene...\n",
      "Up to date!\n",
      "Extracting info from: KOSE Mai...\n",
      "Up to date!\n",
      "Extracting info from: LKHAGVASUREN Sosorbaram...\n",
      "Extracting video URLs...\n",
      "new battles!\n",
      "Extracting info from: KAKKO Katri...\n",
      "Up to date!\n",
      "Extracting info from: FOFANA Salimata...\n",
      "Up to date!\n",
      "Extracting info from: BESSON Marie...\n",
      "Extracting video URLs...\n",
      "new battles!\n",
      "Extracting info from: DE JESUS Diana...\n",
      "Up to date!\n",
      "Extracting info from: SIKIC Tena...\n",
      "Up to date!\n",
      "Extracting info from: MARCUS TABELLION Coraline...\n",
      "Up to date!\n",
      "Extracting info from: MAEDA Chishima...\n",
      "Up to date!\n",
      "Extracting info from: GONZALEZ Oritia...\n",
      "Up to date!\n",
      "Extracting info from: SILVA Djamila...\n",
      "Up to date!\n",
      "Extracting info from: ZIYAEVA Gulnoza...\n",
      "Up to date!\n",
      "Extracting info from: HERATE Cecile...\n",
      "Up to date!\n",
      "Extracting info from: AMIRTAYEVA Zhadyra...\n",
      "Up to date!\n",
      "Extracting info from: THOUDAM Kalpana Devi...\n",
      "Up to date!\n",
      "Extracting info from: BISHOP Justine...\n",
      "Extracting video URLs...\n",
      "new battles!\n",
      "Extracting info from: SCHNEIDER Miriam...\n",
      "Up to date!\n",
      "Extracting info from: MOKDAR Faiza...\n",
      "Up to date!\n",
      "Extracting info from: JANG Yejin...\n",
      "Up to date!\n",
      "Extracting info from: ROUVIERE Nathalie...\n",
      "Up to date!\n",
      "Extracting info from: SZABO Katinka...\n",
      "Up to date!\n",
      "Extracting info from: CHISTANOVA Sofia...\n",
      "Up to date!\n",
      "Extracting info from: PLIIEVA Lyudmyla...\n",
      "Up to date!\n",
      "Extracting info from: JANASHVILI Mariam...\n",
      "Up to date!\n",
      "Extracting info from: CHEN Chin-Ying...\n",
      "Up to date!\n",
      "Extracting info from: CARDOZO MADAF Abi betsabe...\n",
      "Up to date!\n"
     ]
    }
   ],
   "source": [
    "for profile_id in competitors_52.profile_id:\n",
    "    update_competitor(driver, conn, profile_id)"
   ]
  },
  {
   "cell_type": "code",
   "execution_count": null,
   "metadata": {},
   "outputs": [],
   "source": []
  },
  {
   "cell_type": "code",
   "execution_count": null,
   "metadata": {},
   "outputs": [],
   "source": []
  },
  {
   "cell_type": "code",
   "execution_count": null,
   "metadata": {},
   "outputs": [],
   "source": []
  },
  {
   "cell_type": "code",
   "execution_count": null,
   "metadata": {},
   "outputs": [],
   "source": []
  },
  {
   "cell_type": "markdown",
   "metadata": {},
   "source": [
    "### Extract top competitors from every weight"
   ]
  },
  {
   "cell_type": "code",
   "execution_count": 5,
   "metadata": {},
   "outputs": [
    {
     "name": "stdout",
     "output_type": "stream",
     "text": [
      "men_60 ...\n",
      "men_66 ...\n",
      "men_73 ...\n",
      "men_81 ...\n",
      "men_90 ...\n",
      "men_100 ...\n",
      "men_100+ ...\n",
      "women_48 ...\n",
      "women_52 ...\n",
      "women_57 ...\n",
      "women_63 ...\n",
      "women_70 ...\n",
      "women_78 ...\n",
      "women_78+ ...\n"
     ]
    }
   ],
   "source": [
    "competitors_all = list()\n",
    "\n",
    "for weight in url_leaders_by_weight.keys():\n",
    "    print(weight, '...')\n",
    "    competitors = extract_all_profiles_weight(driver, weight)\n",
    "    competitors_all.append(competitors)"
   ]
  },
  {
   "cell_type": "code",
   "execution_count": 11,
   "metadata": {
    "collapsed": true
   },
   "outputs": [],
   "source": [
    "competitors_all = pd.concat(competitors_all)"
   ]
  },
  {
   "cell_type": "code",
   "execution_count": 14,
   "metadata": {},
   "outputs": [
    {
     "data": {
      "text/html": [
       "<div>\n",
       "<style>\n",
       "    .dataframe thead tr:only-child th {\n",
       "        text-align: right;\n",
       "    }\n",
       "\n",
       "    .dataframe thead th {\n",
       "        text-align: left;\n",
       "    }\n",
       "\n",
       "    .dataframe tbody tr th {\n",
       "        vertical-align: top;\n",
       "    }\n",
       "</style>\n",
       "<table border=\"1\" class=\"dataframe\">\n",
       "  <thead>\n",
       "    <tr style=\"text-align: right;\">\n",
       "      <th></th>\n",
       "      <th>name</th>\n",
       "      <th>country</th>\n",
       "      <th>profile_id</th>\n",
       "      <th>category</th>\n",
       "    </tr>\n",
       "  </thead>\n",
       "  <tbody>\n",
       "    <tr>\n",
       "      <th>56</th>\n",
       "      <td>WEZEU DOMBEU Helene</td>\n",
       "      <td>CMR</td>\n",
       "      <td>4393</td>\n",
       "      <td>women_63</td>\n",
       "    </tr>\n",
       "    <tr>\n",
       "      <th>83</th>\n",
       "      <td>GONZALEZ Oritia</td>\n",
       "      <td>ARG</td>\n",
       "      <td>2675</td>\n",
       "      <td>women_52</td>\n",
       "    </tr>\n",
       "    <tr>\n",
       "      <th>58</th>\n",
       "      <td>NJIE Faye</td>\n",
       "      <td>GAM</td>\n",
       "      <td>27553</td>\n",
       "      <td>men_73</td>\n",
       "    </tr>\n",
       "    <tr>\n",
       "      <th>21</th>\n",
       "      <td>VARAPAYEU Yahor</td>\n",
       "      <td>BLR</td>\n",
       "      <td>13091</td>\n",
       "      <td>men_90</td>\n",
       "    </tr>\n",
       "    <tr>\n",
       "      <th>19</th>\n",
       "      <td>PARK Yujin</td>\n",
       "      <td>KOR</td>\n",
       "      <td>15228</td>\n",
       "      <td>women_78</td>\n",
       "    </tr>\n",
       "  </tbody>\n",
       "</table>\n",
       "</div>"
      ],
      "text/plain": [
       "                   name country profile_id  category\n",
       "56  WEZEU DOMBEU Helene     CMR       4393  women_63\n",
       "83      GONZALEZ Oritia     ARG       2675  women_52\n",
       "58            NJIE Faye     GAM      27553    men_73\n",
       "21      VARAPAYEU Yahor     BLR      13091    men_90\n",
       "19           PARK Yujin     KOR      15228  women_78"
      ]
     },
     "execution_count": 14,
     "metadata": {},
     "output_type": "execute_result"
    }
   ],
   "source": [
    "competitors_all.sample(5)"
   ]
  },
  {
   "cell_type": "markdown",
   "metadata": {},
   "source": [
    "#### Save to db"
   ]
  },
  {
   "cell_type": "code",
   "execution_count": 12,
   "metadata": {},
   "outputs": [
    {
     "name": "stdout",
     "output_type": "stream",
     "text": [
      "WARNING: path must be of class Path\n"
     ]
    }
   ],
   "source": [
    "conn = SQLiteConnection('../judo.sql')"
   ]
  },
  {
   "cell_type": "code",
   "execution_count": 13,
   "metadata": {
    "collapsed": true
   },
   "outputs": [],
   "source": [
    "u = conn.as_pandas('select * from u52')"
   ]
  },
  {
   "cell_type": "code",
   "execution_count": 15,
   "metadata": {},
   "outputs": [
    {
     "data": {
      "text/plain": [
       "'20 Sep 2018'"
      ]
     },
     "execution_count": 15,
     "metadata": {},
     "output_type": "execute_result"
    }
   ],
   "source": [
    "u.date.iloc[0]"
   ]
  },
  {
   "cell_type": "code",
   "execution_count": null,
   "metadata": {
    "collapsed": true
   },
   "outputs": [],
   "source": [
    "conn.add_table('competitors', competitors_all, if_exists='fail')"
   ]
  }
 ],
 "metadata": {
  "kernelspec": {
   "display_name": "Python 3",
   "language": "python",
   "name": "python3"
  },
  "language_info": {
   "codemirror_mode": {
    "name": "ipython",
    "version": 3
   },
   "file_extension": ".py",
   "mimetype": "text/x-python",
   "name": "python",
   "nbconvert_exporter": "python",
   "pygments_lexer": "ipython3",
   "version": "3.6.5"
  }
 },
 "nbformat": 4,
 "nbformat_minor": 2
}
