{
 "cells": [
  {
   "cell_type": "markdown",
   "metadata": {},
   "source": [
    "### Actualización de batallas de los competidores"
   ]
  },
  {
   "cell_type": "code",
   "execution_count": null,
   "metadata": {
    "collapsed": true
   },
   "outputs": [],
   "source": [
    "import pandas as pd\n",
    "import time\n",
    "from selenium import webdriver\n",
    "from selenium.webdriver.common.keys import Keys\n",
    "import datetime\n",
    "\n",
    "from lib import competition_to_family_map, get_all_battles, url_leaders_by_weight\n",
    "from lib import extract_all_profiles_weight, update_competitor\n",
    "from lib import SQLiteConnection"
   ]
  },
  {
   "cell_type": "code",
   "execution_count": 1,
   "metadata": {
    "collapsed": true
   },
   "outputs": [],
   "source": [
    "# abrir Google Chrome\n",
    "driver = webdriver.Chrome(r\"C:\\Users\\manuel.lopez\\Documents\\chromedriver.exe\")\n",
    "\n",
    "conn = SQLiteConnection('../judo.sql')"
   ]
  },
  {
   "cell_type": "code",
   "execution_count": 4,
   "metadata": {
    "collapsed": true
   },
   "outputs": [],
   "source": [
    "competitors = conn.as_pandas('select * from competitors', index_col='index', parse_dates=['last_extraction'])"
   ]
  },
  {
   "cell_type": "markdown",
   "metadata": {},
   "source": [
    "### Actualiza al gusto"
   ]
  },
  {
   "cell_type": "code",
   "execution_count": null,
   "metadata": {},
   "outputs": [
    {
     "name": "stdout",
     "output_type": "stream",
     "text": [
      "Extracting info from: HASHIMOTO Soichi...\n",
      "Extracting video URLs...\n",
      "Extracting info from: SHAVDATUASHVILI Lasha...\n",
      "Extracting video URLs...\n",
      "Extracting info from: AN Changrim...\n",
      "Extracting video URLs...\n",
      "Extracting info from: MACIAS Tommy...\n",
      "Extracting video URLs...\n",
      "Extracting info from: GANBAATAR Odbayar...\n",
      "Extracting video URLs...\n",
      "Extracting info from: HEYDAROV Hidayat...\n",
      "Extracting video URLs...\n",
      "Extracting info from: GJAKOVA Akil...\n",
      "Extracting video URLs...\n",
      "Extracting info from: ORUJOV Rustam...\n",
      "Extracting video URLs...\n",
      "Extracting info from: MARGELIDON Arthur...\n",
      "Extracting video URLs...\n",
      "Extracting info from: SMAGULOV Zhansay...\n",
      "Extracting video URLs...\n",
      "Extracting info from: MOHAMMADI Mohammad...\n",
      "Extracting video URLs...\n",
      "Extracting info from: TSEND-OCHIR Tsogtbaatar...\n",
      "Up to date!\n",
      "Extracting info from: ONO Shohei...\n",
      "Extracting video URLs...\n",
      "Extracting info from: BUTBUL Tohar...\n",
      "Extracting video URLs...\n",
      "Extracting info from: MOGUSHKOV Musa...\n",
      "Extracting video URLs...\n",
      "Extracting info from: KARAPETIAN Ferdinand...\n",
      "Extracting video URLs...\n",
      "Extracting info from: CILOGLU Bilal...\n",
      "Extracting video URLs...\n",
      "Extracting info from: IARTCEV Denis...\n",
      "Extracting video URLs...\n",
      "Extracting info from: BOBOEV Giyosjon...\n",
      "Extracting video URLs...\n",
      "Extracting info from: SCVORTOV Victor...\n",
      "Extracting video URLs...\n",
      "Extracting info from: WANDTKE Igor...\n",
      "Extracting video URLs...\n",
      "Extracting info from: TURAEV Khikmatillokh...\n",
      "Extracting video URLs...\n",
      "Extracting info from: UNGVARI Miklos...\n",
      "Extracting video URLs...\n",
      "Extracting info from: ZINGG Anthony...\n",
      "Extracting video URLs...\n"
     ]
    }
   ],
   "source": [
    "for profile_id in competitors[competitors.category=='men_73'].profile_id:\n",
    "    update_competitor(driver, conn, profile_id)"
   ]
  },
  {
   "cell_type": "code",
   "execution_count": null,
   "metadata": {
    "collapsed": true
   },
   "outputs": [],
   "source": []
  },
  {
   "cell_type": "code",
   "execution_count": null,
   "metadata": {
    "collapsed": true
   },
   "outputs": [],
   "source": []
  },
  {
   "cell_type": "code",
   "execution_count": null,
   "metadata": {
    "collapsed": true
   },
   "outputs": [],
   "source": []
  },
  {
   "cell_type": "code",
   "execution_count": null,
   "metadata": {
    "collapsed": true
   },
   "outputs": [],
   "source": []
  },
  {
   "cell_type": "markdown",
   "metadata": {},
   "source": [
    "### Extract top competitors from every weight"
   ]
  },
  {
   "cell_type": "code",
   "execution_count": 5,
   "metadata": {},
   "outputs": [
    {
     "name": "stdout",
     "output_type": "stream",
     "text": [
      "men_60 ...\n",
      "men_66 ...\n",
      "men_73 ...\n",
      "men_81 ...\n",
      "men_90 ...\n",
      "men_100 ...\n",
      "men_100+ ...\n",
      "women_48 ...\n",
      "women_52 ...\n",
      "women_57 ...\n",
      "women_63 ...\n",
      "women_70 ...\n",
      "women_78 ...\n",
      "women_78+ ...\n"
     ]
    }
   ],
   "source": [
    "competitors_all = list()\n",
    "\n",
    "for weight in url_leaders_by_weight.keys():\n",
    "    print(weight, '...')\n",
    "    competitors = extract_all_profiles_weight(driver, weight)\n",
    "    competitors_all.append(competitors)"
   ]
  },
  {
   "cell_type": "code",
   "execution_count": 11,
   "metadata": {
    "collapsed": true
   },
   "outputs": [],
   "source": [
    "competitors_all = pd.concat(competitors_all)"
   ]
  },
  {
   "cell_type": "code",
   "execution_count": 14,
   "metadata": {},
   "outputs": [
    {
     "data": {
      "text/html": [
       "<div>\n",
       "<style>\n",
       "    .dataframe thead tr:only-child th {\n",
       "        text-align: right;\n",
       "    }\n",
       "\n",
       "    .dataframe thead th {\n",
       "        text-align: left;\n",
       "    }\n",
       "\n",
       "    .dataframe tbody tr th {\n",
       "        vertical-align: top;\n",
       "    }\n",
       "</style>\n",
       "<table border=\"1\" class=\"dataframe\">\n",
       "  <thead>\n",
       "    <tr style=\"text-align: right;\">\n",
       "      <th></th>\n",
       "      <th>name</th>\n",
       "      <th>country</th>\n",
       "      <th>profile_id</th>\n",
       "      <th>category</th>\n",
       "    </tr>\n",
       "  </thead>\n",
       "  <tbody>\n",
       "    <tr>\n",
       "      <th>56</th>\n",
       "      <td>WEZEU DOMBEU Helene</td>\n",
       "      <td>CMR</td>\n",
       "      <td>4393</td>\n",
       "      <td>women_63</td>\n",
       "    </tr>\n",
       "    <tr>\n",
       "      <th>83</th>\n",
       "      <td>GONZALEZ Oritia</td>\n",
       "      <td>ARG</td>\n",
       "      <td>2675</td>\n",
       "      <td>women_52</td>\n",
       "    </tr>\n",
       "    <tr>\n",
       "      <th>58</th>\n",
       "      <td>NJIE Faye</td>\n",
       "      <td>GAM</td>\n",
       "      <td>27553</td>\n",
       "      <td>men_73</td>\n",
       "    </tr>\n",
       "    <tr>\n",
       "      <th>21</th>\n",
       "      <td>VARAPAYEU Yahor</td>\n",
       "      <td>BLR</td>\n",
       "      <td>13091</td>\n",
       "      <td>men_90</td>\n",
       "    </tr>\n",
       "    <tr>\n",
       "      <th>19</th>\n",
       "      <td>PARK Yujin</td>\n",
       "      <td>KOR</td>\n",
       "      <td>15228</td>\n",
       "      <td>women_78</td>\n",
       "    </tr>\n",
       "  </tbody>\n",
       "</table>\n",
       "</div>"
      ],
      "text/plain": [
       "                   name country profile_id  category\n",
       "56  WEZEU DOMBEU Helene     CMR       4393  women_63\n",
       "83      GONZALEZ Oritia     ARG       2675  women_52\n",
       "58            NJIE Faye     GAM      27553    men_73\n",
       "21      VARAPAYEU Yahor     BLR      13091    men_90\n",
       "19           PARK Yujin     KOR      15228  women_78"
      ]
     },
     "execution_count": 14,
     "metadata": {},
     "output_type": "execute_result"
    }
   ],
   "source": [
    "competitors_all.sample(5)"
   ]
  },
  {
   "cell_type": "markdown",
   "metadata": {},
   "source": [
    "#### Save to db"
   ]
  },
  {
   "cell_type": "code",
   "execution_count": 12,
   "metadata": {},
   "outputs": [
    {
     "name": "stdout",
     "output_type": "stream",
     "text": [
      "WARNING: path must be of class Path\n"
     ]
    }
   ],
   "source": [
    "conn = SQLiteConnection('../judo.sql')"
   ]
  },
  {
   "cell_type": "code",
   "execution_count": 13,
   "metadata": {
    "collapsed": true
   },
   "outputs": [],
   "source": [
    "u = conn.as_pandas('select * from u52')"
   ]
  },
  {
   "cell_type": "code",
   "execution_count": 15,
   "metadata": {},
   "outputs": [
    {
     "data": {
      "text/plain": [
       "'20 Sep 2018'"
      ]
     },
     "execution_count": 15,
     "metadata": {},
     "output_type": "execute_result"
    }
   ],
   "source": [
    "u.date.iloc[0]"
   ]
  },
  {
   "cell_type": "code",
   "execution_count": null,
   "metadata": {
    "collapsed": true
   },
   "outputs": [],
   "source": [
    "conn.add_table('competitors', competitors_all, if_exists='fail')"
   ]
  }
 ],
 "metadata": {
  "kernelspec": {
   "display_name": "Python 3",
   "language": "python",
   "name": "python3"
  },
  "language_info": {
   "codemirror_mode": {
    "name": "ipython",
    "version": 3
   },
   "file_extension": ".py",
   "mimetype": "text/x-python",
   "name": "python",
   "nbconvert_exporter": "python",
   "pygments_lexer": "ipython3",
   "version": "3.6.2"
  }
 },
 "nbformat": 4,
 "nbformat_minor": 2
}
